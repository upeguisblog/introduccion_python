{
 "cells": [
  {
   "cell_type": "markdown",
   "metadata": {
    "id": "ev50RoQIatMZ",
    "toc": true
   },
   "source": [
    "<h1>Table of Contents<span class=\"tocSkip\"></span></h1>\n",
    "<div class=\"toc\"><ul class=\"toc-item\"><li><span><a href=\"#Introducción-a-Python\" data-toc-modified-id=\"Introducción-a-Python-1\"><span class=\"toc-item-num\">1&nbsp;&nbsp;</span>Introducción a Python</a></span><ul class=\"toc-item\"><li><span><a href=\"#Estructuras-de-decisión-y-control\" data-toc-modified-id=\"Estructuras-de-decisión-y-control-1.1\"><span class=\"toc-item-num\">1.1&nbsp;&nbsp;</span>Estructuras de decisión y control</a></span><ul class=\"toc-item\"><li><span><a href=\"#Sentencias-condicionales\" data-toc-modified-id=\"Sentencias-condicionales-1.1.1\"><span class=\"toc-item-num\">1.1.1&nbsp;&nbsp;</span>Sentencias condicionales</a></span></li><li><span><a href=\"#Bucles\" data-toc-modified-id=\"Bucles-1.1.2\"><span class=\"toc-item-num\">1.1.2&nbsp;&nbsp;</span>Bucles</a></span></li></ul></li><li><span><a href=\"#Ejercicios\" data-toc-modified-id=\"Ejercicios-1.2\"><span class=\"toc-item-num\">1.2&nbsp;&nbsp;</span>Ejercicios</a></span><ul class=\"toc-item\"><li><span><a href=\"#Ejercicio-1\" data-toc-modified-id=\"Ejercicio-1-1.2.1\"><span class=\"toc-item-num\">1.2.1&nbsp;&nbsp;</span>Ejercicio 1</a></span></li><li><span><a href=\"#Ejercicio-2\" data-toc-modified-id=\"Ejercicio-2-1.2.2\"><span class=\"toc-item-num\">1.2.2&nbsp;&nbsp;</span>Ejercicio 2</a></span></li><li><span><a href=\"#Ejercicio-3\" data-toc-modified-id=\"Ejercicio-3-1.2.3\"><span class=\"toc-item-num\">1.2.3&nbsp;&nbsp;</span>Ejercicio 3</a></span></li><li><span><a href=\"#Ejercicio-4\" data-toc-modified-id=\"Ejercicio-4-1.2.4\"><span class=\"toc-item-num\">1.2.4&nbsp;&nbsp;</span>Ejercicio 4</a></span></li><li><span><a href=\"#Ejercicio-5\" data-toc-modified-id=\"Ejercicio-5-1.2.5\"><span class=\"toc-item-num\">1.2.5&nbsp;&nbsp;</span>Ejercicio 5</a></span></li><li><span><a href=\"#Ejercicio-6\" data-toc-modified-id=\"Ejercicio-6-1.2.6\"><span class=\"toc-item-num\">1.2.6&nbsp;&nbsp;</span>Ejercicio 6</a></span></li><li><span><a href=\"#Ejercicio-4\" data-toc-modified-id=\"Ejercicio-4-1.2.7\"><span class=\"toc-item-num\">1.2.7&nbsp;&nbsp;</span>Ejercicio 4</a></span></li></ul></li></ul></li></ul></div>"
   ]
  },
  {
   "cell_type": "markdown",
   "metadata": {
    "id": "l8ORuXxuatMe"
   },
   "source": [
    "# Introducción a Python"
   ]
  },
  {
   "cell_type": "markdown",
   "metadata": {
    "id": "exYQzs7gatMe"
   },
   "source": [
    "---\n",
    "\n",
    "## Estructuras de decisión y control"
   ]
  },
  {
   "cell_type": "markdown",
   "metadata": {
    "id": "AQGtSYYTatMf"
   },
   "source": [
    "### Sentencias condicionales"
   ]
  },
  {
   "cell_type": "markdown",
   "metadata": {
    "id": "7vpGVyvcatMf"
   },
   "source": [
    "En Python existen las sentencias condicionales `if`, `else`, `elif` (if else).\n",
    "\n",
    "```python\n",
    "if [condicion 1]:\n",
    "    ...\n",
    "elif [condicion 2]:\n",
    "    ...\n",
    "else:\n",
    "    ...\n",
    "```"
   ]
  },
  {
   "cell_type": "code",
   "execution_count": null,
   "metadata": {
    "id": "S9cR37sfatMg"
   },
   "outputs": [],
   "source": [
    "edad = 15\n",
    "if edad >= 18:\n",
    "    print(\"estoy dentro del if\")\n",
    "    print(\"sigo dentro del if\")\n",
    "    print(\"sigo dentro del if\")\n",
    "\n",
    "print('estoy fuera del if')"
   ]
  },
  {
   "cell_type": "code",
   "execution_count": null,
   "metadata": {
    "id": "V2ppyTSXatMh"
   },
   "outputs": [],
   "source": [
    "if edad >= 16:\n",
    "    print(\"La niña no es mayor de 15 años\")"
   ]
  },
  {
   "cell_type": "code",
   "execution_count": null,
   "metadata": {
    "id": "pEGcL_ubatMh"
   },
   "outputs": [],
   "source": [
    "edad = 85\n",
    "\n",
    "if edad >= 18:\n",
    "    print(\"Mayor de edad\")\n",
    "    print(\"estoy dentro del if\")\n",
    "elif edad >= 0 and edad < 18:\n",
    "    print(\"Menor de edad\")\n",
    "else:\n",
    "    print(\"No es una edad\")\n"
   ]
  },
  {
   "cell_type": "code",
   "execution_count": null,
   "metadata": {
    "id": "6fGuoQ3AatMi"
   },
   "outputs": [],
   "source": [
    "edad = 43\n",
    "\n",
    "if edad >= 18:\n",
    "    if edad >= 18 and edad < 41:\n",
    "        print('Eres una persona joven')\n",
    "    elif edad >= 41 and edad < 61:\n",
    "        print('Eres adulto')\n",
    "    else:\n",
    "        print('Eres Suggar')\n",
    "elif edad >= 0 and edad < 18:\n",
    "    print(\"Menor de edad\")\n",
    "else:\n",
    "    print(\"No es una edad\")\n"
   ]
  },
  {
   "cell_type": "code",
   "execution_count": null,
   "metadata": {
    "id": "fILzEriTatMi"
   },
   "outputs": [],
   "source": [
    "edad = int(input(\"Digite su edad: \"))\n",
    "\n",
    "if edad >= 21:\n",
    "    gusto = input('¿Te gusta el coco? (Si o No)')\n",
    "    if gusto.lower() == \"si\":\n",
    "        print('Ve por un coco - loco, porque ya puedes beber en USA')\n",
    "    else:\n",
    "        print('Entonces no se tome un coco-loco')\n",
    "elif edad >= 0 and edad < 21:\n",
    "    print('no puedes beber en USA')\n",
    "else: \n",
    "    print('Esto no es una edad')"
   ]
  },
  {
   "cell_type": "markdown",
   "metadata": {
    "id": "vhsPaTEyatMj"
   },
   "source": [
    "La condición `if-then-else` también se puede escribir como una operación ternaria en una linea:\n",
    "\n",
    "```python\n",
    "var = valor1 if [condicion] else valor2\n",
    "```"
   ]
  },
  {
   "cell_type": "code",
   "execution_count": null,
   "metadata": {},
   "outputs": [],
   "source": [
    "edad=14\n",
    "x = \"Hola2\" if edad>15 else \"Adiós\"\n",
    "print(x)\n"
   ]
  },
  {
   "cell_type": "code",
   "execution_count": null,
   "metadata": {
    "id": "7BsKTMV0atMk"
   },
   "outputs": [],
   "source": [
    "edad = 23"
   ]
  },
  {
   "cell_type": "code",
   "execution_count": null,
   "metadata": {
    "id": "uu1J3AzaatMk"
   },
   "outputs": [],
   "source": [
    "edad >= 18"
   ]
  },
  {
   "cell_type": "markdown",
   "metadata": {
    "id": "MsgrzVqMatMl"
   },
   "source": [
    "Resultado1 si **condición es True** sino resultado2"
   ]
  },
  {
   "cell_type": "code",
   "execution_count": null,
   "metadata": {
    "id": "YBPOBCPgatMl"
   },
   "outputs": [],
   "source": [
    "True if edad >= 18 else False\n"
   ]
  },
  {
   "cell_type": "markdown",
   "metadata": {
    "id": "y5jtLQSXatMl"
   },
   "source": [
    "###  Bucles"
   ]
  },
  {
   "cell_type": "markdown",
   "metadata": {
    "id": "Hl5Img4aatMl"
   },
   "source": [
    "Un bucle `while` se construye:\n",
    "\n",
    "```python\n",
    "while [condicion]:\n",
    "    ...\n",
    "```"
   ]
  },
  {
   "cell_type": "markdown",
   "metadata": {
    "id": "mQyOy50eatMl"
   },
   "source": [
    "<div class=\"alert alert-warning\">Es posible que en el proceso de aprendizaje ejecutemos inadvertidamente un _bucle infinito_. Si el bucle no imprime nada por pantalla, bastará con detener la celda (`Kernel -> Interrupt` o `Restart`). Si se imprime contenido por pantalla, es posible que el navegador se quede sin memoria y que haya que matar el proceso utilizando el Administrador de Tareas.</div>"
   ]
  },
  {
   "cell_type": "code",
   "execution_count": null,
   "metadata": {
    "id": "OOCtKq7QatMm"
   },
   "outputs": [],
   "source": [
    "## Bucle infinito\n",
    "i = 1\n",
    "while i <3:\n",
    "    print(i)"
   ]
  },
  {
   "cell_type": "code",
   "execution_count": null,
   "metadata": {
    "id": "LDdk-l66atMm",
    "outputId": "47f513e6-26e3-45e2-fbd6-cdf198684844"
   },
   "outputs": [],
   "source": [
    "## condicionar el bucle\n",
    "i = 0\n",
    "while i < 13:\n",
    "    print(i)\n",
    "    i += 1 ## Contador"
   ]
  },
  {
   "cell_type": "code",
   "execution_count": null,
   "metadata": {},
   "outputs": [],
   "source": [
    "i=0\n",
    "while i<=22:\n",
    "    print(\"Usted hace lo que yo diga, edad\", i)\n",
    "    i = i+1 #cumplir años o contador -> Va sumando y hace que el bucle se detenga"
   ]
  },
  {
   "cell_type": "code",
   "execution_count": null,
   "metadata": {
    "id": "vR-HbbBOatMn",
    "outputId": "8a6cf104-8398-4c30-aa1e-314831480fd2"
   },
   "outputs": [],
   "source": [
    "i = 15\n",
    "while i >= 1 :\n",
    "    print('Ya solo nos quedan', i, 'hermanos')\n",
    "    i -= 1"
   ]
  },
  {
   "cell_type": "markdown",
   "metadata": {
    "id": "WtmkTI_UatMn"
   },
   "source": [
    "Un bucle `for` se define como:\n",
    "\n",
    "```python\n",
    "for [iterator]:\n",
    "    ...\n",
    "```"
   ]
  },
  {
   "cell_type": "code",
   "execution_count": null,
   "metadata": {
    "id": "FuwpTzQgatMo",
    "outputId": "bb63d36f-bb4e-41b3-be76-a4c7823356ee"
   },
   "outputs": [],
   "source": [
    "range(10)\n",
    "# range(número) -> Range entre 0 y el número -> Ej Range(10) -> (0,1,2,3,4,5,6,7,8,9)\n",
    "# range(número1,número2) -> Range entre número1 y \n",
    "#                           el número2 -> Ej Range(1,10) -> (1,2,3,4,5,6,7,8,9)"
   ]
  },
  {
   "cell_type": "code",
   "execution_count": null,
   "metadata": {},
   "outputs": [],
   "source": [
    "list(range(0,10,2))"
   ]
  },
  {
   "cell_type": "code",
   "execution_count": null,
   "metadata": {
    "id": "DFyZHVv1atMo",
    "outputId": "a69290f4-0926-49c5-bd7f-aab702fdc552"
   },
   "outputs": [],
   "source": [
    "range(1,10)"
   ]
  },
  {
   "cell_type": "code",
   "execution_count": null,
   "metadata": {
    "id": "ce2T8JT8atMo",
    "outputId": "06a0aaad-015d-4c14-b4bb-061d66aa1f4b"
   },
   "outputs": [],
   "source": [
    "for i in range(10):\n",
    "    print('Hola!', i)"
   ]
  },
  {
   "cell_type": "code",
   "execution_count": null,
   "metadata": {
    "id": "pHBlKn3zatMp",
    "outputId": "7f226752-1a1f-411f-e7dc-d76afc828cf5"
   },
   "outputs": [],
   "source": [
    "for i in range(1, 10):\n",
    "    for j in range(10, 12):\n",
    "        print(i, j)"
   ]
  },
  {
   "cell_type": "markdown",
   "metadata": {
    "id": "YRBveOfWatMp"
   },
   "source": [
    "## Ejercicios"
   ]
  },
  {
   "cell_type": "markdown",
   "metadata": {
    "id": "Hj8N6bBxatMp"
   },
   "source": [
    "### Ejercicio 1\n",
    "\n",
    "Escribe código que solicite por pantalla la longitud de los lados del triángulo, y luego imprima si es equilatero, escaleno o isósceles. "
   ]
  },
  {
   "cell_type": "code",
   "execution_count": 6,
   "metadata": {},
   "outputs": [
    {
     "name": "stdout",
     "output_type": "stream",
     "text": [
      "Introduzca la longitud del lado 1: 25\n",
      "Introduzca la longitud del lado 2: 26\n",
      "Introduzca la longitud del lado 3: 25\n",
      "Es isósceles\n"
     ]
    }
   ],
   "source": [
    "# Respuesta\n",
    "lado_1 = int(input('Introduzca la longitud del lado 1: '))\n",
    "lado_2 = int(input('Introduzca la longitud del lado 2: '))\n",
    "lado_3 = int(input('Introduzca la longitud del lado 3: '))\n",
    "\n",
    "if lado_1 == lado_2 and lado_2 == lado_3:\n",
    "    print(\"Es equilatero\")\n",
    "elif lado_1 == lado_2 or lado_3 == lado_2 or lado_3 == lado_1:\n",
    "    print(\"Es isósceles\")\n",
    "else:\n",
    "    print(\"Es escaleno\")\n",
    "\n"
   ]
  },
  {
   "cell_type": "markdown",
   "metadata": {
    "id": "QnKRp6_1atMp"
   },
   "source": [
    "### Ejercicio 2"
   ]
  },
  {
   "cell_type": "markdown",
   "metadata": {
    "id": "1t75nGWDatMp"
   },
   "source": [
    "Solicita un entero por pantalla, e imprime:\n",
    "1. Si es divisible entre 2 y 3\n",
    "2. Si es divisible entre 2 o 3\n",
    "3. Si es divisible entre 2 o 3, pero no ambos\n",
    "4. Si no es divisible por ninguno"
   ]
  },
  {
   "cell_type": "code",
   "execution_count": null,
   "metadata": {},
   "outputs": [],
   "source": []
  },
  {
   "cell_type": "markdown",
   "metadata": {
    "id": "J1J6879RatMq"
   },
   "source": [
    "### Ejercicio 3\n",
    "\n",
    "Escribe un programa que, solicite por pantalla un número entero, y que devuelva impreso por pantalla la tabla de multiplicar de dicho número del 1 al 10. \n",
    "\n",
    "Ejemplo: \n",
    "\n",
    "Input a number: 9\n",
    "- 9 x 1 = 9\n",
    "- 9 x 2 = 18\n",
    "- 9 x 3 = 27\n",
    "- 9 x 4 = 36\n",
    "- 9 x 5 = 45\n",
    "- 9 x 6 = 54\n",
    "- 9 x 7 = 63\n",
    "- 9 x 8 = 72\n",
    "- 9 x 9 = 81\n",
    "- 9 x 10 = 90"
   ]
  },
  {
   "cell_type": "markdown",
   "metadata": {
    "id": "StYVsVijatMq"
   },
   "source": [
    "### Ejercicio 4"
   ]
  },
  {
   "cell_type": "markdown",
   "metadata": {
    "id": "-Dg_KwYxatMq"
   },
   "source": [
    "Escribe código tal que:\n",
    "1. Solicite un entero entre 0 y 9 por pantalla y lo guarde en una variable numero1\n",
    "2. Solciite otro entero entre 0 y 9 por pantalla, y lo guarde en una variable numero2\n",
    "3. Si el primer numero introducido es menor que el segundo, los intercambia (variable numero1 tendra al valor de variable numero2 y viceversa)\n",
    "4. Preguntar por pantalla cuánto es numero1 - numero?\n",
    "5. Hasta que la respuesta no sea correcta, seguir preguntando por pantalla la respuesta"
   ]
  },
  {
   "cell_type": "markdown",
   "metadata": {
    "id": "GThw_gX8atMs"
   },
   "source": [
    "### Ejercicio 5"
   ]
  },
  {
   "cell_type": "markdown",
   "metadata": {
    "id": "PtADLaOKatMs"
   },
   "source": [
    "Solicita por pantalla la temperatura a convertir de Fahrenheit a Celsius o viceversa. \n",
    "Para ello solicita que lo introduzcan con el formato 45F, 102C etc.\n",
    "\n",
    "Imprime por pantalla la conversión a la otra unidad, sabiendo que la fórmula a usar es la siguiente:\n",
    "<img src=\"img/centigrade-to-fahrenheit.png\">"
   ]
  },
  {
   "cell_type": "markdown",
   "metadata": {
    "id": "MKctuwR0atMs"
   },
   "source": [
    "### Ejercicio 6"
   ]
  },
  {
   "cell_type": "markdown",
   "metadata": {
    "id": "GZDg9cOeatMt"
   },
   "source": [
    "Escribe código tal que imprima por pantalla la cantidad de números pares e impares en *números* declarado en la siguiente celda"
   ]
  },
  {
   "cell_type": "markdown",
   "metadata": {
    "id": "4rHYZhwWatMu"
   },
   "source": [
    "### Ejercicio 7\n",
    "\n",
    "Escribe código que solicite por pantalla tres números y devuelva la mediana de los 3, imprimiendolo por pantalla"
   ]
  }
 ],
 "metadata": {
  "anaconda-cloud": {},
  "colab": {
   "name": "03 Estructuras de control.ipynb",
   "provenance": []
  },
  "kernelspec": {
   "display_name": "Python 3 (ipykernel)",
   "language": "python",
   "name": "python3"
  },
  "language_info": {
   "codemirror_mode": {
    "name": "ipython",
    "version": 3
   },
   "file_extension": ".py",
   "mimetype": "text/x-python",
   "name": "python",
   "nbconvert_exporter": "python",
   "pygments_lexer": "ipython3",
   "version": "3.9.13"
  },
  "toc": {
   "base_numbering": 1,
   "nav_menu": {
    "height": "386px",
    "width": "306px"
   },
   "number_sections": true,
   "sideBar": true,
   "skip_h1_title": false,
   "title_cell": "Table of Contents",
   "title_sidebar": "Contents",
   "toc_cell": true,
   "toc_position": {
    "height": "calc(100% - 180px)",
    "left": "10px",
    "top": "150px",
    "width": "337px"
   },
   "toc_section_display": true,
   "toc_window_display": true
  },
  "varInspector": {
   "cols": {
    "lenName": 16,
    "lenType": 16,
    "lenVar": 40
   },
   "kernels_config": {
    "python": {
     "delete_cmd_postfix": "",
     "delete_cmd_prefix": "del ",
     "library": "var_list.py",
     "varRefreshCmd": "print(var_dic_list())"
    },
    "r": {
     "delete_cmd_postfix": ") ",
     "delete_cmd_prefix": "rm(",
     "library": "var_list.r",
     "varRefreshCmd": "cat(var_dic_list()) "
    }
   },
   "types_to_exclude": [
    "module",
    "function",
    "builtin_function_or_method",
    "instance",
    "_Feature"
   ],
   "window_display": false
  }
 },
 "nbformat": 4,
 "nbformat_minor": 1
}
