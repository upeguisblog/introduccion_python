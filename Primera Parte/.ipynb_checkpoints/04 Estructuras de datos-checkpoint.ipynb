{
 "cells": [
  {
   "cell_type": "markdown",
   "metadata": {
    "id": "tiJ0ME6XNun3",
    "toc": true
   },
   "source": [
    "<h1>Table of Contents<span class=\"tocSkip\"></span></h1>\n",
    "<div class=\"toc\"><ul class=\"toc-item\"><li><span><a href=\"#Introducción-a-Python\" data-toc-modified-id=\"Introducción-a-Python-1\"><span class=\"toc-item-num\">1&nbsp;&nbsp;</span>Introducción a Python</a></span><ul class=\"toc-item\"><li><span><a href=\"#Estructuras-de-datos\" data-toc-modified-id=\"Estructuras-de-datos-1.1\"><span class=\"toc-item-num\">1.1&nbsp;&nbsp;</span>Estructuras de datos</a></span><ul class=\"toc-item\"><li><span><a href=\"#Listas\" data-toc-modified-id=\"Listas-1.1.1\"><span class=\"toc-item-num\">1.1.1&nbsp;&nbsp;</span>Listas</a></span></li><li><span><a href=\"#Tuplas\" data-toc-modified-id=\"Tuplas-1.1.2\"><span class=\"toc-item-num\">1.1.2&nbsp;&nbsp;</span>Tuplas</a></span></li><li><span><a href=\"#Diccionarios\" data-toc-modified-id=\"Diccionarios-1.1.3\"><span class=\"toc-item-num\">1.1.3&nbsp;&nbsp;</span>Diccionarios</a></span></li></ul></li><li><span><a href=\"#Sets\" data-toc-modified-id=\"Sets-1.2\"><span class=\"toc-item-num\">1.2&nbsp;&nbsp;</span>Sets</a></span></li><li><span><a href=\"#Indexing-y-slicing\" data-toc-modified-id=\"Indexing-y-slicing-1.3\"><span class=\"toc-item-num\">1.3&nbsp;&nbsp;</span><em>Indexing</em> y <em>slicing</em></a></span></li><li><span><a href=\"#Ejercicios\" data-toc-modified-id=\"Ejercicios-1.4\"><span class=\"toc-item-num\">1.4&nbsp;&nbsp;</span>Ejercicios</a></span><ul class=\"toc-item\"><li><span><a href=\"#Ejercicio-1\" data-toc-modified-id=\"Ejercicio-1-1.4.1\"><span class=\"toc-item-num\">1.4.1&nbsp;&nbsp;</span>Ejercicio 1</a></span></li><li><span><a href=\"#Ejercicio-2\" data-toc-modified-id=\"Ejercicio-2-1.4.2\"><span class=\"toc-item-num\">1.4.2&nbsp;&nbsp;</span>Ejercicio 2</a></span></li><li><span><a href=\"#Ejercicio-3\" data-toc-modified-id=\"Ejercicio-3-1.4.3\"><span class=\"toc-item-num\">1.4.3&nbsp;&nbsp;</span>Ejercicio 3</a></span></li><li><span><a href=\"#Ejercicio-4\" data-toc-modified-id=\"Ejercicio-4-1.4.4\"><span class=\"toc-item-num\">1.4.4&nbsp;&nbsp;</span>Ejercicio 4</a></span></li><li><span><a href=\"#Ejercicio-5\" data-toc-modified-id=\"Ejercicio-5-1.4.5\"><span class=\"toc-item-num\">1.4.5&nbsp;&nbsp;</span>Ejercicio 5</a></span></li><li><span><a href=\"#Ejercicio-6\" data-toc-modified-id=\"Ejercicio-6-1.4.6\"><span class=\"toc-item-num\">1.4.6&nbsp;&nbsp;</span>Ejercicio 6</a></span></li><li><span><a href=\"#Ejercicio-7\" data-toc-modified-id=\"Ejercicio-7-1.4.7\"><span class=\"toc-item-num\">1.4.7&nbsp;&nbsp;</span>Ejercicio 7</a></span></li><li><span><a href=\"#Ejercicio-8\" data-toc-modified-id=\"Ejercicio-8-1.4.8\"><span class=\"toc-item-num\">1.4.8&nbsp;&nbsp;</span>Ejercicio 8</a></span></li><li><span><a href=\"#Ejercicio-9\" data-toc-modified-id=\"Ejercicio-9-1.4.9\"><span class=\"toc-item-num\">1.4.9&nbsp;&nbsp;</span>Ejercicio 9</a></span></li></ul></li></ul></li></ul></div>"
   ]
  },
  {
   "cell_type": "markdown",
   "metadata": {
    "id": "dyhKJJcwNuoB"
   },
   "source": [
    "# Introducción a Python"
   ]
  },
  {
   "cell_type": "markdown",
   "metadata": {
    "id": "WQeMt0QCNuoC"
   },
   "source": [
    "---\n",
    "\n",
    "## Estructuras de datos"
   ]
  },
  {
   "cell_type": "markdown",
   "metadata": {
    "id": "AJBcnLnRNuoF"
   },
   "source": [
    "### Listas\n",
    "\n",
    "Son conjuntos ordenados y mutables de elementos del mismo o diferente tipo. Cada elemento de la secuencia se le asigna un número que corresponde a su posición en la secuencia (índice). El primer índice es cero (0), el segundo uno (1), y así sucesivamente.\n",
    "\n",
    "<center><img src=\"img/python_list.png\"></center>"
   ]
  },
  {
   "cell_type": "code",
   "execution_count": null,
   "metadata": {
    "id": "FNcKm4MKNuoG"
   },
   "outputs": [],
   "source": [
    "# Crear una lista vacia\n",
    "\n",
    "lista1 = list()\n",
    "lista2 = []\n"
   ]
  },
  {
   "cell_type": "code",
   "execution_count": null,
   "metadata": {
    "id": "0IG80dRsNuoI",
    "outputId": "a8571030-5853-40b3-f2a8-c7ff1f13b965"
   },
   "outputs": [
    {
     "data": {
      "text/plain": [
       "[]"
      ]
     },
     "execution_count": 2,
     "metadata": {},
     "output_type": "execute_result"
    }
   ],
   "source": [
    "lista1"
   ]
  },
  {
   "cell_type": "code",
   "execution_count": null,
   "metadata": {
    "id": "8kG9xqNNNuoK",
    "outputId": "8e0df544-f22a-4047-dc4c-43ae4a5e281f"
   },
   "outputs": [
    {
     "data": {
      "text/plain": [
       "[]"
      ]
     },
     "execution_count": 3,
     "metadata": {},
     "output_type": "execute_result"
    }
   ],
   "source": [
    "lista2"
   ]
  },
  {
   "cell_type": "code",
   "execution_count": null,
   "metadata": {
    "id": "sg9l1GvNNuoN",
    "outputId": "0159ed37-9573-462e-d1cd-01fb67d887fc"
   },
   "outputs": [
    {
     "name": "stdout",
     "output_type": "stream",
     "text": [
      "<class 'list'>\n"
     ]
    }
   ],
   "source": [
    "print(type(lista2))"
   ]
  },
  {
   "cell_type": "code",
   "execution_count": null,
   "metadata": {
    "id": "hccBJuWXNuoO",
    "outputId": "e56e139e-66b5-4d0b-fac5-7ea06a0c58dd"
   },
   "outputs": [
    {
     "name": "stdout",
     "output_type": "stream",
     "text": [
      "[]\n"
     ]
    }
   ],
   "source": [
    "print(lista1)"
   ]
  },
  {
   "cell_type": "code",
   "execution_count": 12,
   "metadata": {
    "id": "0_lgQ43SNuoS",
    "outputId": "2e444cbf-096e-4234-d72e-602c0621404d",
    "scrolled": true
   },
   "outputs": [
    {
     "name": "stdout",
     "output_type": "stream",
     "text": [
      "2\n"
     ]
    }
   ],
   "source": [
    "# Inicializar una lista\n",
    "lista3 = [1, 2, 3]\n",
    "lista4 = [28, 'casa', [1, 2, 3]]\n",
    "\n",
    "#print(lista3)\n",
    "print(lista4[2][-2])"
   ]
  },
  {
   "cell_type": "code",
   "execution_count": null,
   "metadata": {
    "id": "KgmwUfnSNuoU",
    "outputId": "c7a19ee1-a4fc-42c9-d72f-a7c5c2da388b"
   },
   "outputs": [
    {
     "data": {
      "text/plain": [
       "[0, 1, 2, 3, 4, 5, 6, 7, 8, 9]"
      ]
     },
     "execution_count": 7,
     "metadata": {},
     "output_type": "execute_result"
    }
   ],
   "source": [
    "# Crear una lista cuyos elementos son una secuencia de enteros\n",
    "\n",
    "list(range(10))"
   ]
  },
  {
   "cell_type": "code",
   "execution_count": null,
   "metadata": {
    "id": "sN6u2VlbNuoW",
    "outputId": "e2d830c5-34c6-4922-8c33-5ffd083e497e"
   },
   "outputs": [
    {
     "data": {
      "text/plain": [
       "[1, 2, 3, 4, 5, 6, 7, 8, 9, 10, 11, 12, 13, 14, 15, 16, 17, 18, 19, 20, 21, 22]"
      ]
     },
     "execution_count": 8,
     "metadata": {},
     "output_type": "execute_result"
    }
   ],
   "source": [
    "# crea una lista pasando como parámetros un valores de inicio y de parada\n",
    "list(range(1, 23))"
   ]
  },
  {
   "cell_type": "code",
   "execution_count": null,
   "metadata": {
    "id": "SkK8t8JQNuoX",
    "outputId": "ea52e16f-b6f6-46f0-8267-2fa150377a43"
   },
   "outputs": [
    {
     "data": {
      "text/plain": [
       "[0, 2, 4, 6, 8, 10, 12, 14, 16, 18]"
      ]
     },
     "execution_count": 9,
     "metadata": {},
     "output_type": "execute_result"
    }
   ],
   "source": [
    "# crea una lista pasando como parámetros un valores de inicio, parada, e incremento\n",
    "list(range(0, 20, 2))"
   ]
  },
  {
   "cell_type": "markdown",
   "metadata": {
    "id": "3npmt712NuoY"
   },
   "source": [
    "Para acceder a los elemento de una lista se utilizan corchetes `[]`."
   ]
  },
  {
   "cell_type": "code",
   "execution_count": null,
   "metadata": {
    "id": "2-Vylr4jNuoY",
    "outputId": "e20c660e-b7a1-419a-84d9-e1a7b2f5b598"
   },
   "outputs": [
    {
     "data": {
      "text/plain": [
       "3"
      ]
     },
     "execution_count": 11,
     "metadata": {},
     "output_type": "execute_result"
    }
   ],
   "source": [
    "lista = [28, 'casa', [1, 2, 3]]\n",
    "lista[2][-1]"
   ]
  },
  {
   "cell_type": "code",
   "execution_count": null,
   "metadata": {
    "id": "7Zi2swSQNuoZ",
    "outputId": "89232db1-ddc3-44e7-bab8-592f5dd9ed5c"
   },
   "outputs": [
    {
     "data": {
      "text/plain": [
       "[28, 'casa', [1, 2, 3]]"
      ]
     },
     "execution_count": 10,
     "metadata": {},
     "output_type": "execute_result"
    }
   ],
   "source": [
    "lista4"
   ]
  },
  {
   "cell_type": "markdown",
   "metadata": {
    "id": "A5J98LKHNuoa"
   },
   "source": [
    "Para añadir un elemento a la lista, utilizamos el método `append()`:"
   ]
  },
  {
   "cell_type": "code",
   "execution_count": null,
   "metadata": {
    "id": "JAE6HRudNuob",
    "outputId": "a9a68812-16e7-4a29-c500-275b9cab75b9"
   },
   "outputs": [
    {
     "data": {
      "text/plain": [
       "[1, 2, 3]"
      ]
     },
     "execution_count": 14,
     "metadata": {},
     "output_type": "execute_result"
    }
   ],
   "source": [
    "lista3"
   ]
  },
  {
   "cell_type": "code",
   "execution_count": null,
   "metadata": {
    "id": "tDK-5xJcNuoc",
    "outputId": "e6cf1256-3ea8-4ef5-f1f3-565f0b7edfd9"
   },
   "outputs": [
    {
     "data": {
      "text/plain": [
       "[1, 2, 3, 4]"
      ]
     },
     "execution_count": 15,
     "metadata": {},
     "output_type": "execute_result"
    }
   ],
   "source": [
    "lista3.append(4)\n",
    "lista3"
   ]
  },
  {
   "cell_type": "markdown",
   "metadata": {
    "id": "PgUYIk0WNuod"
   },
   "source": [
    "El operador `+` permite concatenar dos listas:"
   ]
  },
  {
   "cell_type": "code",
   "execution_count": null,
   "metadata": {
    "id": "Eywn1hFQNuod",
    "outputId": "749a4f2c-fce9-4ed4-d3eb-29579f71af64"
   },
   "outputs": [
    {
     "data": {
      "text/plain": [
       "[28, 'casa', [1, 2, 3]]"
      ]
     },
     "execution_count": 23,
     "metadata": {},
     "output_type": "execute_result"
    }
   ],
   "source": [
    "lista4"
   ]
  },
  {
   "cell_type": "code",
   "execution_count": null,
   "metadata": {
    "id": "Ru9BQts7Nuoe",
    "outputId": "df99f5f1-8307-4c83-c14f-4bb6a98b661c"
   },
   "outputs": [
    {
     "data": {
      "text/plain": [
       "[28, 'casa', [1, 2, 3], 5, 10, 100, 'hola', True]"
      ]
     },
     "execution_count": 24,
     "metadata": {},
     "output_type": "execute_result"
    }
   ],
   "source": [
    "lista4 + [5,10, 100, 'hola', True]"
   ]
  },
  {
   "cell_type": "code",
   "execution_count": null,
   "metadata": {
    "id": "Fn7GIETxNuoe"
   },
   "outputs": [],
   "source": [
    "lista4.extend([10, 11, 12, 13])"
   ]
  },
  {
   "cell_type": "code",
   "execution_count": null,
   "metadata": {
    "id": "61UF2hBrNuof",
    "outputId": "9b263d3d-3c03-4d29-c061-265cac953e3d"
   },
   "outputs": [
    {
     "data": {
      "text/plain": [
       "[28, 'casa', [1, 2, 3], 10, 11, 12, 13]"
      ]
     },
     "execution_count": 26,
     "metadata": {},
     "output_type": "execute_result"
    }
   ],
   "source": [
    "lista4"
   ]
  },
  {
   "cell_type": "code",
   "execution_count": null,
   "metadata": {
    "id": "VDAVr551Nuog",
    "outputId": "f49c144a-6685-454d-fdae-1f4ea2ea5a89"
   },
   "outputs": [
    {
     "data": {
      "text/plain": [
       "[28, 'casa', [1, 2, 3], 10, 11, 12, 13, ['a', 'b', 'c']]"
      ]
     },
     "execution_count": 27,
     "metadata": {},
     "output_type": "execute_result"
    }
   ],
   "source": [
    "lista4.append(['a', 'b', 'c'])\n",
    "lista4"
   ]
  },
  {
   "cell_type": "code",
   "execution_count": null,
   "metadata": {
    "id": "4wgNUvLWNuog",
    "outputId": "1dfac6ea-6e1c-466e-bd8e-786aab858b3a"
   },
   "outputs": [
    {
     "data": {
      "text/plain": [
       "[28,\n",
       " 'casa',\n",
       " [1, 2, 3],\n",
       " 10,\n",
       " 11,\n",
       " 12,\n",
       " 13,\n",
       " ['a', 'b', 'c'],\n",
       " 10,\n",
       " 11,\n",
       " 12,\n",
       " 13,\n",
       " 5,\n",
       " 10,\n",
       " 100,\n",
       " 'hola',\n",
       " True]"
      ]
     },
     "execution_count": 22,
     "metadata": {},
     "output_type": "execute_result"
    }
   ],
   "source": [
    "lista5 = lista4 + [5,10, 100, 'hola', True]\n",
    "lista5"
   ]
  },
  {
   "cell_type": "code",
   "execution_count": 16,
   "metadata": {},
   "outputs": [
    {
     "name": "stdout",
     "output_type": "stream",
     "text": [
      "[1, 2, 3, 4, 1, 2, 3]\n",
      "[1, 2, 3, [1, 2, 3]]\n"
     ]
    }
   ],
   "source": [
    "# Diferencia entre append y sumar listas\n",
    "\n",
    "lista_y = [1,2,3,4]\n",
    "lista_z = [1,2,3]\n",
    "lista_g = lista_y + lista_z\n",
    "print(\"Aquí suma las listas\",lista_g)\n",
    "\n",
    "\n",
    "lista_x = [1,2,3]\n",
    "lista_x.append([1,2,3])\n",
    "print(\"Aquí añade listas\", lista_x)"
   ]
  },
  {
   "cell_type": "code",
   "execution_count": null,
   "metadata": {
    "id": "KGbAaBhCNuoh",
    "outputId": "5c80ebc7-953d-452a-a65d-242858461889"
   },
   "outputs": [
    {
     "data": {
      "text/plain": [
       "[28, 'casa', [1, 2, 3], 10, 11, 12, 13, ['a', 'b', 'c'], 10, 11, 12, 13]"
      ]
     },
     "execution_count": 23,
     "metadata": {},
     "output_type": "execute_result"
    }
   ],
   "source": [
    "lista4"
   ]
  },
  {
   "cell_type": "code",
   "execution_count": null,
   "metadata": {
    "id": "vi4LBZnhNuoi",
    "outputId": "504f4199-9095-425c-bb9f-cf8a80e9b12d"
   },
   "outputs": [
    {
     "data": {
      "text/plain": [
       "[3, 28, 'casa', [1, 2, 3], 10, 11, 12, 13, ['a', 'b', 'c'], 10, 11, 12, 13]"
      ]
     },
     "execution_count": 24,
     "metadata": {},
     "output_type": "execute_result"
    }
   ],
   "source": [
    "[3] + lista1 + lista4"
   ]
  },
  {
   "cell_type": "code",
   "execution_count": null,
   "metadata": {
    "id": "s988OxLhNuoi",
    "outputId": "17b67eb5-b2bb-4575-be81-0d4d8871a5d8"
   },
   "outputs": [
    {
     "data": {
      "text/plain": [
       "['casa', 'barco', 'coche', 'apartamento']"
      ]
     },
     "execution_count": 28,
     "metadata": {},
     "output_type": "execute_result"
    }
   ],
   "source": [
    "['casa', 'barco'] + ['coche', 'apartamento']"
   ]
  },
  {
   "cell_type": "markdown",
   "metadata": {
    "id": "t3SK2PuNNuoj"
   },
   "source": [
    "Otras operaciones básicas con listas:"
   ]
  },
  {
   "cell_type": "code",
   "execution_count": null,
   "metadata": {
    "id": "WWU6yoUbNuoj",
    "outputId": "eca7c6c0-fae9-479e-cfda-cc69baa141d3"
   },
   "outputs": [
    {
     "data": {
      "text/plain": [
       "3"
      ]
     },
     "execution_count": 32,
     "metadata": {},
     "output_type": "execute_result"
    }
   ],
   "source": [
    "len([1, 2, 3])  # Número de elementos\n",
    "\n",
    "\n",
    "    "
   ]
  },
  {
   "cell_type": "code",
   "execution_count": null,
   "metadata": {
    "id": "th7vguBDNuok",
    "outputId": "da01618c-3f62-4832-d6a1-e48141d50bf8"
   },
   "outputs": [
    {
     "data": {
      "text/plain": [
       "['oh!', 1, 'oh!', 1, 'oh!', 1, 'oh!', 1]"
      ]
     },
     "execution_count": 30,
     "metadata": {},
     "output_type": "execute_result"
    }
   ],
   "source": [
    "['oh!', 1] * 4  # Repetición"
   ]
  },
  {
   "cell_type": "code",
   "execution_count": null,
   "metadata": {
    "id": "p1eNMwn3Nuol",
    "outputId": "d8f7f1f6-5138-42de-f4d6-8ac0ba3f9093"
   },
   "outputs": [
    {
     "data": {
      "text/plain": [
       "True"
      ]
     },
     "execution_count": 31,
     "metadata": {},
     "output_type": "execute_result"
    }
   ],
   "source": [
    "3 in [1, 2, 3]  # Pertenencia"
   ]
  },
  {
   "cell_type": "code",
   "execution_count": null,
   "metadata": {
    "id": "xUjrFBojNuom"
   },
   "outputs": [],
   "source": [
    "lista = [[1,2,4],\n",
    "        [5,8,7]]"
   ]
  },
  {
   "cell_type": "code",
   "execution_count": null,
   "metadata": {
    "id": "xsSj4RqnNuom",
    "outputId": "5490a39a-3703-45a7-987d-b17d7f3ec7f1"
   },
   "outputs": [
    {
     "data": {
      "text/plain": [
       "[[1, 2, 4], [5, 8, 7]]"
      ]
     },
     "execution_count": 46,
     "metadata": {},
     "output_type": "execute_result"
    }
   ],
   "source": [
    "lista"
   ]
  },
  {
   "cell_type": "markdown",
   "metadata": {
    "id": "XXm2Ja_xNuon"
   },
   "source": [
    "Para saber que otros métodos de la librería estándar de Python podemos usar con los objetos de tipo lista usamos la función `dir()`"
   ]
  },
  {
   "cell_type": "code",
   "execution_count": 18,
   "metadata": {
    "id": "Xr6Y1GwsNuoo",
    "outputId": "8d3283a2-4723-4dee-d184-f12ad0f604b2"
   },
   "outputs": [
    {
     "data": {
      "text/plain": [
       "['__add__',\n",
       " '__class__',\n",
       " '__class_getitem__',\n",
       " '__contains__',\n",
       " '__delattr__',\n",
       " '__delitem__',\n",
       " '__dir__',\n",
       " '__doc__',\n",
       " '__eq__',\n",
       " '__format__',\n",
       " '__ge__',\n",
       " '__getattribute__',\n",
       " '__getitem__',\n",
       " '__gt__',\n",
       " '__hash__',\n",
       " '__iadd__',\n",
       " '__imul__',\n",
       " '__init__',\n",
       " '__init_subclass__',\n",
       " '__iter__',\n",
       " '__le__',\n",
       " '__len__',\n",
       " '__lt__',\n",
       " '__mul__',\n",
       " '__ne__',\n",
       " '__new__',\n",
       " '__reduce__',\n",
       " '__reduce_ex__',\n",
       " '__repr__',\n",
       " '__reversed__',\n",
       " '__rmul__',\n",
       " '__setattr__',\n",
       " '__setitem__',\n",
       " '__sizeof__',\n",
       " '__str__',\n",
       " '__subclasshook__',\n",
       " 'append',\n",
       " 'clear',\n",
       " 'copy',\n",
       " 'count',\n",
       " 'extend',\n",
       " 'index',\n",
       " 'insert',\n",
       " 'pop',\n",
       " 'remove',\n",
       " 'reverse',\n",
       " 'sort']"
      ]
     },
     "execution_count": 18,
     "metadata": {},
     "output_type": "execute_result"
    }
   ],
   "source": [
    "dir(lista)"
   ]
  },
  {
   "cell_type": "markdown",
   "metadata": {
    "id": "HGBFFY6mNuoo"
   },
   "source": [
    "### Tuplas\n",
    "\n",
    "Una tupla es una secuencia de valores muy parecida a una lista. Los valores almacenados en una tupla pueden ser de cualquier tipo, y están indexados por enteros. Las tuplas se diferencian de las listas en que:\n",
    "\n",
    "1. No se puede modificar el valor de los elementos de una tupla (*objeto inmutable*).\n",
    "2. Se usan parentesis en lugar de corchetes para construir una tupla, aunque sintácticamente no es obligatorio."
   ]
  },
  {
   "cell_type": "code",
   "execution_count": null,
   "metadata": {
    "id": "oQGXgH-ANuop"
   },
   "outputs": [],
   "source": [
    "# Crear una tupla\n",
    "\n",
    "tupla1 = tuple()\n",
    "tupla2 = ()\n",
    "tupla3 = (1, 'a', 71.4)\n",
    "tupla4 = 1, 'a', 71.4"
   ]
  },
  {
   "cell_type": "code",
   "execution_count": null,
   "metadata": {
    "id": "25cFO_YFNuop",
    "outputId": "e4e2be5c-048f-41c5-ec35-eeea2e2691d8"
   },
   "outputs": [
    {
     "data": {
      "text/plain": [
       "(1, 'a', 71.4)"
      ]
     },
     "execution_count": 43,
     "metadata": {},
     "output_type": "execute_result"
    }
   ],
   "source": [
    "tupla3"
   ]
  },
  {
   "cell_type": "code",
   "execution_count": null,
   "metadata": {
    "id": "_UATvEjLNuop",
    "outputId": "47719f0d-9077-4e1d-82b6-f946713f708a"
   },
   "outputs": [
    {
     "ename": "TypeError",
     "evalue": "'tuple' object does not support item assignment",
     "output_type": "error",
     "traceback": [
      "\u001b[1;31m---------------------------------------------------------------------------\u001b[0m",
      "\u001b[1;31mTypeError\u001b[0m                                 Traceback (most recent call last)",
      "\u001b[1;32m<ipython-input-50-fab4fc52bfc7>\u001b[0m in \u001b[0;36m<module>\u001b[1;34m\u001b[0m\n\u001b[0;32m      1\u001b[0m \u001b[1;31m# Error! Las tuplas son inmutables!\u001b[0m\u001b[1;33m\u001b[0m\u001b[1;33m\u001b[0m\u001b[1;33m\u001b[0m\u001b[0m\n\u001b[1;32m----> 2\u001b[1;33m \u001b[0mtupla3\u001b[0m\u001b[1;33m[\u001b[0m\u001b[1;36m1\u001b[0m\u001b[1;33m]\u001b[0m \u001b[1;33m=\u001b[0m \u001b[1;34m'b'\u001b[0m\u001b[1;33m\u001b[0m\u001b[1;33m\u001b[0m\u001b[0m\n\u001b[0m",
      "\u001b[1;31mTypeError\u001b[0m: 'tuple' object does not support item assignment"
     ]
    }
   ],
   "source": [
    "# Error! Las tuplas son inmutables!\n",
    "tupla3[1] = 'b'"
   ]
  },
  {
   "cell_type": "code",
   "execution_count": 21,
   "metadata": {},
   "outputs": [
    {
     "name": "stdout",
     "output_type": "stream",
     "text": [
      "[1, 4, 3]\n"
     ]
    }
   ],
   "source": [
    "# Diferencia con lista\n",
    "lista_p = [1,2,3]\n",
    "lista_p[1] = 4\n",
    "print(lista_p)"
   ]
  },
  {
   "cell_type": "markdown",
   "metadata": {
    "id": "kY7myobqNuoq"
   },
   "source": [
    "Como en las listas, los elementos de una tupla se pueden acceder usando corchetes `[]` y el índice del elemento:"
   ]
  },
  {
   "cell_type": "code",
   "execution_count": null,
   "metadata": {
    "id": "Q6kv5HIbNuoq",
    "outputId": "6b22dedd-065a-4ba0-a32e-bd6a12af1071"
   },
   "outputs": [
    {
     "data": {
      "text/plain": [
       "1"
      ]
     },
     "execution_count": 54,
     "metadata": {},
     "output_type": "execute_result"
    }
   ],
   "source": [
    "tupla3[0]"
   ]
  },
  {
   "cell_type": "markdown",
   "metadata": {
    "id": "PfK_xW3-Nuor"
   },
   "source": [
    "Dos tuplas se pueden concatenar:"
   ]
  },
  {
   "cell_type": "code",
   "execution_count": null,
   "metadata": {
    "id": "Q4t9zfS1Nuor"
   },
   "outputs": [],
   "source": [
    "tup1 = ('a','b','c', 'd')\n",
    "tup2 = ('d','f','g')"
   ]
  },
  {
   "cell_type": "code",
   "execution_count": null,
   "metadata": {
    "id": "FzEmrdiLNuor",
    "outputId": "b356bd21-28ea-4db1-e278-e86c920b5474",
    "scrolled": true
   },
   "outputs": [
    {
     "data": {
      "text/plain": [
       "('a', 'b', 'c', 'd', 'd', 'f', 'g')"
      ]
     },
     "execution_count": 52,
     "metadata": {},
     "output_type": "execute_result"
    }
   ],
   "source": [
    "tup1 + tup2"
   ]
  },
  {
   "cell_type": "markdown",
   "metadata": {
    "id": "cmUqIz3yNuos"
   },
   "source": [
    "Para saber que otros métodos de la librería estándar de Python podemos usar con los objetos de tipo tupla usamos la función `dir()`"
   ]
  },
  {
   "cell_type": "code",
   "execution_count": null,
   "metadata": {
    "collapsed": true,
    "id": "TPCjIGEJNuos",
    "outputId": "5bba3cff-3064-41d7-b1d5-ded5d3d84503"
   },
   "outputs": [
    {
     "data": {
      "text/plain": [
       "['__add__',\n",
       " '__class__',\n",
       " '__contains__',\n",
       " '__delattr__',\n",
       " '__dir__',\n",
       " '__doc__',\n",
       " '__eq__',\n",
       " '__format__',\n",
       " '__ge__',\n",
       " '__getattribute__',\n",
       " '__getitem__',\n",
       " '__getnewargs__',\n",
       " '__gt__',\n",
       " '__hash__',\n",
       " '__init__',\n",
       " '__init_subclass__',\n",
       " '__iter__',\n",
       " '__le__',\n",
       " '__len__',\n",
       " '__lt__',\n",
       " '__mul__',\n",
       " '__ne__',\n",
       " '__new__',\n",
       " '__reduce__',\n",
       " '__reduce_ex__',\n",
       " '__repr__',\n",
       " '__rmul__',\n",
       " '__setattr__',\n",
       " '__sizeof__',\n",
       " '__str__',\n",
       " '__subclasshook__',\n",
       " 'count',\n",
       " 'index']"
      ]
     },
     "execution_count": 58,
     "metadata": {},
     "output_type": "execute_result"
    }
   ],
   "source": [
    "dir(tupla3)"
   ]
  },
  {
   "cell_type": "code",
   "execution_count": 25,
   "metadata": {
    "id": "Fpa7Bj3wNuos"
   },
   "outputs": [
    {
     "name": "stdout",
     "output_type": "stream",
     "text": [
      "Object `tupla3.count` not found.\n"
     ]
    }
   ],
   "source": [
    "tupla3.count?"
   ]
  },
  {
   "cell_type": "code",
   "execution_count": 23,
   "metadata": {
    "id": "63LBz93WNuot"
   },
   "outputs": [],
   "source": [
    "tupla = (1,2,3,4,1,1,1,1,1,2)"
   ]
  },
  {
   "cell_type": "code",
   "execution_count": 27,
   "metadata": {
    "id": "dI3QEhEcNuot",
    "outputId": "63de7ba5-2e0e-43ed-b194-1fab44bd7559"
   },
   "outputs": [
    {
     "ename": "TypeError",
     "evalue": "tuple.count() takes exactly one argument (0 given)",
     "output_type": "error",
     "traceback": [
      "\u001b[1;31m---------------------------------------------------------------------------\u001b[0m",
      "\u001b[1;31mTypeError\u001b[0m                                 Traceback (most recent call last)",
      "\u001b[1;32m~\\AppData\\Local\\Temp/ipykernel_8620/593113007.py\u001b[0m in \u001b[0;36m<module>\u001b[1;34m\u001b[0m\n\u001b[1;32m----> 1\u001b[1;33m \u001b[0mtupla\u001b[0m\u001b[1;33m.\u001b[0m\u001b[0mcount\u001b[0m\u001b[1;33m(\u001b[0m\u001b[1;33m)\u001b[0m\u001b[1;33m\u001b[0m\u001b[1;33m\u001b[0m\u001b[0m\n\u001b[0m\u001b[0;32m      2\u001b[0m \u001b[0mprint\u001b[0m\u001b[1;33m(\u001b[0m\u001b[0mlen\u001b[0m\u001b[1;33m(\u001b[0m\u001b[0mtupla\u001b[0m\u001b[1;33m)\u001b[0m\u001b[1;33m)\u001b[0m\u001b[1;33m\u001b[0m\u001b[1;33m\u001b[0m\u001b[0m\n",
      "\u001b[1;31mTypeError\u001b[0m: tuple.count() takes exactly one argument (0 given)"
     ]
    }
   ],
   "source": [
    "tupla.count()\n",
    "print(len(tupla))"
   ]
  },
  {
   "cell_type": "markdown",
   "metadata": {
    "id": "uK_zj3MCNuot"
   },
   "source": [
    "### Diccionarios\n",
    "\n",
    "Los diccionarios definen una relación uno a uno entre claves y valores. Los diccionarios son mutables y no ordenados.\n",
    "\n",
    "```\n",
    " { key1:value1 , key2:value2 , key3:value3 , ...}\n",
    " \n",
    "```\n",
    "\n",
    "En un diccionario las claves (key) son únicas e inmutables, pero los valores (value) si pueden cambiar."
   ]
  },
  {
   "cell_type": "code",
   "execution_count": 29,
   "metadata": {
    "id": "szuAPXv6Nuou"
   },
   "outputs": [],
   "source": [
    "edades = {'jose': 2, 'luis': 34, 'maria': 21}\n"
   ]
  },
  {
   "cell_type": "code",
   "execution_count": 30,
   "metadata": {
    "id": "i2sw2qOrNuou",
    "outputId": "7b82e8bf-7f52-436a-8334-ab9f7f4623ce"
   },
   "outputs": [
    {
     "data": {
      "text/plain": [
       "{'jose': 2, 'luis': 34, 'maria': 21}"
      ]
     },
     "execution_count": 30,
     "metadata": {},
     "output_type": "execute_result"
    }
   ],
   "source": [
    "edades"
   ]
  },
  {
   "cell_type": "code",
   "execution_count": null,
   "metadata": {
    "id": "RpndusfHNuov"
   },
   "outputs": [],
   "source": [
    "edades = {'jose': 24, 'luis': 34, 'maria': 21,'maria':32}"
   ]
  },
  {
   "cell_type": "code",
   "execution_count": null,
   "metadata": {
    "id": "OcyWxH7gNuov",
    "outputId": "35e0cf29-5394-45d0-95e8-ff242add4531"
   },
   "outputs": [
    {
     "data": {
      "text/plain": [
       "{'jose': 24, 'luis': 34, 'maria': 32}"
      ]
     },
     "execution_count": 63,
     "metadata": {},
     "output_type": "execute_result"
    }
   ],
   "source": [
    "edades"
   ]
  },
  {
   "cell_type": "markdown",
   "metadata": {
    "id": "6cBGYFTMNuov"
   },
   "source": [
    "Para acceder a los elementos de un diccionario se utilizan corchetes `[]` y la clave correspondiente."
   ]
  },
  {
   "cell_type": "code",
   "execution_count": null,
   "metadata": {
    "id": "eliS8HArNuow",
    "outputId": "1cf92c51-b25c-41ee-858f-69a2e4bdbda8"
   },
   "outputs": [
    {
     "data": {
      "text/plain": [
       "(34, 24)"
      ]
     },
     "execution_count": 69,
     "metadata": {},
     "output_type": "execute_result"
    }
   ],
   "source": [
    "edades['luis'], edades['jose']"
   ]
  },
  {
   "cell_type": "markdown",
   "metadata": {
    "id": "iRuF67DLNuow"
   },
   "source": [
    "Acceso a claves inexistentes devuelve KeyError"
   ]
  },
  {
   "cell_type": "code",
   "execution_count": null,
   "metadata": {
    "id": "ME6KVhVvNuow",
    "outputId": "ab37652b-6d6f-43bc-864a-265330028e5c"
   },
   "outputs": [
    {
     "ename": "KeyError",
     "evalue": "'pepe'",
     "output_type": "error",
     "traceback": [
      "\u001b[1;31m---------------------------------------------------------------------------\u001b[0m",
      "\u001b[1;31mKeyError\u001b[0m                                  Traceback (most recent call last)",
      "\u001b[1;32m<ipython-input-70-9aaf3be02547>\u001b[0m in \u001b[0;36m<module>\u001b[1;34m\u001b[0m\n\u001b[1;32m----> 1\u001b[1;33m \u001b[0medades\u001b[0m\u001b[1;33m[\u001b[0m\u001b[1;34m'pepe'\u001b[0m\u001b[1;33m]\u001b[0m\u001b[1;33m\u001b[0m\u001b[1;33m\u001b[0m\u001b[0m\n\u001b[0m",
      "\u001b[1;31mKeyError\u001b[0m: 'pepe'"
     ]
    }
   ],
   "source": [
    "edades['pepe']"
   ]
  },
  {
   "cell_type": "markdown",
   "metadata": {
    "id": "a_d6NZn8Nuox"
   },
   "source": [
    "Aunque también podemos devolver un valor por defecto con el método `get`. El primer parámetro del método `get` es la clave de búsqueda, el segundo el valor por defecto."
   ]
  },
  {
   "cell_type": "code",
   "execution_count": null,
   "metadata": {
    "id": "J5DLfs1mNuox",
    "outputId": "25c002f9-2ada-433b-db57-7e7c7f7c88fc",
    "scrolled": true
   },
   "outputs": [
    {
     "data": {
      "text/plain": [
       "-1"
      ]
     },
     "execution_count": 71,
     "metadata": {},
     "output_type": "execute_result"
    }
   ],
   "source": [
    "edades.get('paco',-1)"
   ]
  },
  {
   "cell_type": "code",
   "execution_count": null,
   "metadata": {
    "id": "CsGhNqbuNuox",
    "outputId": "4d381050-8a91-4ca3-b941-2949f3973f70",
    "scrolled": true
   },
   "outputs": [
    {
     "data": {
      "text/plain": [
       "{'jose': 24, 'luis': 34, 'maria': 32}"
      ]
     },
     "execution_count": 77,
     "metadata": {},
     "output_type": "execute_result"
    }
   ],
   "source": [
    "edades"
   ]
  },
  {
   "cell_type": "code",
   "execution_count": null,
   "metadata": {
    "id": "pgo7csHcNuoy",
    "outputId": "939d1cd2-6b79-4e97-dfa3-e6fce8eff1d6"
   },
   "outputs": [
    {
     "data": {
      "text/plain": [
       "{'jose': 24, 'luis': 34, 'maria': 32}"
      ]
     },
     "execution_count": 72,
     "metadata": {},
     "output_type": "execute_result"
    }
   ],
   "source": [
    "edades"
   ]
  },
  {
   "cell_type": "code",
   "execution_count": null,
   "metadata": {
    "id": "kjeR-6ZCNuoy",
    "outputId": "4cb26443-a197-4c00-9de0-4ebe99b3ca87"
   },
   "outputs": [
    {
     "data": {
      "text/plain": [
       "{'luis': 34, 'maria': [1, 2, 3]}"
      ]
     },
     "execution_count": 85,
     "metadata": {},
     "output_type": "execute_result"
    }
   ],
   "source": [
    "# Asignación:\n",
    "edades['maria'] = [1,2,3]\n",
    "edades"
   ]
  },
  {
   "cell_type": "code",
   "execution_count": null,
   "metadata": {
    "id": "gWAjP9udNuoy",
    "outputId": "b4c28399-8ddf-47a0-8979-2b39a1dc3137"
   },
   "outputs": [
    {
     "data": {
      "text/plain": [
       "[32, 'casa', [1, 2, 3]]"
      ]
     },
     "execution_count": 75,
     "metadata": {},
     "output_type": "execute_result"
    }
   ],
   "source": [
    "lista"
   ]
  },
  {
   "cell_type": "code",
   "execution_count": 32,
   "metadata": {},
   "outputs": [
    {
     "data": {
      "text/plain": [
       "{'Esteban': 21, 'Sebastián': 25, 'Manuel': 23, 'Laura': 21}"
      ]
     },
     "execution_count": 32,
     "metadata": {},
     "output_type": "execute_result"
    }
   ],
   "source": [
    "# ¿Cómo añadir un valor?\n",
    "\n",
    "edades_ml = {'Esteban':21, 'Sebastián': 25, 'Manuel':23}\n",
    "\n",
    "edades_ml['Laura'] = 21\n",
    "\n",
    "edades_ml\n"
   ]
  },
  {
   "cell_type": "markdown",
   "metadata": {
    "id": "OJdQJSIqNuoz"
   },
   "source": [
    "Los elementos de un diccionarios no conservan el orden con el cual fueron creados."
   ]
  },
  {
   "cell_type": "code",
   "execution_count": null,
   "metadata": {
    "id": "p_eBobXmNuoz",
    "outputId": "06dbc46e-2dda-4aa7-bec7-8770fdad6dde"
   },
   "outputs": [
    {
     "data": {
      "text/plain": [
       "{'maria': [1, 2, 3]}"
      ]
     },
     "execution_count": 87,
     "metadata": {},
     "output_type": "execute_result"
    }
   ],
   "source": [
    "edades"
   ]
  },
  {
   "cell_type": "code",
   "execution_count": null,
   "metadata": {
    "id": "SKeuAHqnNuoz"
   },
   "outputs": [],
   "source": [
    "edades_2 ={'camilo':12,'Nicolas':15}"
   ]
  },
  {
   "cell_type": "code",
   "execution_count": null,
   "metadata": {
    "id": "3aePe9ejNuoz",
    "outputId": "b9cf0dd0-e572-42c6-80bd-b4e96158135f"
   },
   "outputs": [
    {
     "data": {
      "text/plain": [
       "34"
      ]
     },
     "execution_count": 86,
     "metadata": {},
     "output_type": "execute_result"
    }
   ],
   "source": [
    "## Eliminar key:value\n",
    "edades.pop('luis')"
   ]
  },
  {
   "cell_type": "code",
   "execution_count": null,
   "metadata": {
    "id": "GgEQrW3wNuo0",
    "outputId": "4a6e3ce1-74ff-49f5-9350-d8e4cbdaa52f"
   },
   "outputs": [
    {
     "data": {
      "text/plain": [
       "{'jose': 24, 'luis': 34, 'maria': 32}"
      ]
     },
     "execution_count": 90,
     "metadata": {},
     "output_type": "execute_result"
    }
   ],
   "source": [
    "edades"
   ]
  },
  {
   "cell_type": "code",
   "execution_count": null,
   "metadata": {
    "id": "vyNDQQHFNuo0"
   },
   "outputs": [],
   "source": [
    "## Agregar\n",
    "edades['Laura'] = 2"
   ]
  },
  {
   "cell_type": "code",
   "execution_count": null,
   "metadata": {
    "id": "yaPS_1XkNuo0",
    "outputId": "b205b920-dce0-4146-8f28-2054c88570d3"
   },
   "outputs": [
    {
     "data": {
      "text/plain": [
       "{'jose': 24, 'luis': 34, 'maria': 32, 'Laura': 2}"
      ]
     },
     "execution_count": 93,
     "metadata": {},
     "output_type": "execute_result"
    }
   ],
   "source": [
    "edades"
   ]
  },
  {
   "cell_type": "markdown",
   "metadata": {
    "id": "-Kzy_ifGNuo1"
   },
   "source": [
    "Para crear un diccionario vacío:"
   ]
  },
  {
   "cell_type": "code",
   "execution_count": null,
   "metadata": {
    "id": "p1KpHYf7Nuo1"
   },
   "outputs": [],
   "source": [
    "d = {}\n",
    "d1 = dict()"
   ]
  },
  {
   "cell_type": "code",
   "execution_count": null,
   "metadata": {
    "id": "i3c-Bi_LNuo1"
   },
   "outputs": [],
   "source": [
    "list() ## []\n",
    "tuple() ## ()\n",
    "dict() ## {} "
   ]
  },
  {
   "cell_type": "markdown",
   "metadata": {
    "id": "s5Fdt3Y2Nuo2"
   },
   "source": [
    "## Sets"
   ]
  },
  {
   "cell_type": "markdown",
   "metadata": {
    "id": "iNS6LhEHNuo2"
   },
   "source": [
    "Coleccion **no ordenada** de elementos del mismo o distinto tipo (incluso puede tener sets como elementos), que se caracteriza por ser **sin elementos duplicados**.\n",
    "\n",
    "Los usos más tipicos son testing de pertenencia, y eliminar entradas duplicadas. \n",
    "\n",
    "Al ser la implementación de un concepto matemático, los conjuntos, soporta operaciones matemáticas como unión, intersección, diferencia, y diferencia simétrica. \n",
    "\n",
    "Se crean con {} o con la función set(). \n",
    "\n",
    "Nota: para crear un set vacío, hay que usar la función set(). No se puede usar {} pues crea un diccionario vacío."
   ]
  },
  {
   "cell_type": "code",
   "execution_count": null,
   "metadata": {
    "id": "q37CcdVxNuo2",
    "outputId": "53571edd-2554-432e-9804-2ddbbc7137f2"
   },
   "outputs": [
    {
     "data": {
      "text/plain": [
       "{'Barcelona', 'Madrid', 'Malaga'}"
      ]
     },
     "execution_count": 94,
     "metadata": {},
     "output_type": "execute_result"
    }
   ],
   "source": [
    "ciudades =  {'Madrid', 'Barcelona', 'Malaga'}\n",
    "\n",
    "ciudades"
   ]
  },
  {
   "cell_type": "code",
   "execution_count": 34,
   "metadata": {
    "id": "4ldryGJKNuo2",
    "outputId": "c3569dc0-9524-48c8-a853-455691e939f2"
   },
   "outputs": [
    {
     "data": {
      "text/plain": [
       "{' ', 'A', 'B', 'e', 'i', 'n', 'o', 'r', 's', 'u'}"
      ]
     },
     "execution_count": 34,
     "metadata": {},
     "output_type": "execute_result"
    }
   ],
   "source": [
    "ciudad = set(\"Buenos Aires\")\n",
    "ciudad"
   ]
  },
  {
   "cell_type": "code",
   "execution_count": 33,
   "metadata": {},
   "outputs": [
    {
     "data": {
      "text/plain": [
       "{'Buenos Aires'}"
      ]
     },
     "execution_count": 33,
     "metadata": {},
     "output_type": "execute_result"
    }
   ],
   "source": [
    "ciudad = {\"Buenos Aires\"}\n",
    "ciudad"
   ]
  },
  {
   "cell_type": "code",
   "execution_count": null,
   "metadata": {
    "id": "-PieXSyhNuo6",
    "outputId": "526a23f5-7b9d-402e-9054-a11ec318cf8e"
   },
   "outputs": [
    {
     "data": {
      "text/plain": [
       "{'Berlin', 'Birmingham', 'London', 'Lyon', 'Paris'}"
      ]
     },
     "execution_count": 103,
     "metadata": {},
     "output_type": "execute_result"
    }
   ],
   "source": [
    "ciudades = set((\"Paris\", \"Lyon\", \"London\",\"Berlin\",\"Paris\",\"Birmingham\"))\n",
    "ciudades"
   ]
  },
  {
   "cell_type": "code",
   "execution_count": null,
   "metadata": {
    "id": "KaQaB4qNNuo7",
    "outputId": "e7d68fe1-1817-4947-d31f-731cc6af9a32"
   },
   "outputs": [
    {
     "data": {
      "text/plain": [
       "{('Paris', 'Berlin', 'London'), ('Python', 'Perl')}"
      ]
     },
     "execution_count": 105,
     "metadata": {},
     "output_type": "execute_result"
    }
   ],
   "source": [
    "ciudades = set(((\"Python\",\"Perl\"), (\"Paris\", \"Berlin\", \"London\")))\n",
    "ciudades"
   ]
  },
  {
   "cell_type": "markdown",
   "metadata": {
    "id": "Yc-JaebvNuo7"
   },
   "source": [
    "Los sets no aceptan objetos mutables, por lo que no se le pueden pasar listas como elementos pero si tuplas"
   ]
  },
  {
   "cell_type": "code",
   "execution_count": null,
   "metadata": {
    "id": "r5dYzv3JNuo7",
    "outputId": "1d47ded7-dfc0-43ab-a181-ca66ba926781"
   },
   "outputs": [
    {
     "ename": "TypeError",
     "evalue": "unhashable type: 'list'",
     "output_type": "error",
     "traceback": [
      "\u001b[1;31m---------------------------------------------------------------------------\u001b[0m",
      "\u001b[1;31mTypeError\u001b[0m                                 Traceback (most recent call last)",
      "\u001b[1;32m<ipython-input-96-2f27c00d1fe3>\u001b[0m in \u001b[0;36m<module>\u001b[1;34m\u001b[0m\n\u001b[1;32m----> 1\u001b[1;33m \u001b[0mciudades\u001b[0m \u001b[1;33m=\u001b[0m \u001b[0mset\u001b[0m\u001b[1;33m(\u001b[0m\u001b[1;33m(\u001b[0m\u001b[1;33m[\u001b[0m\u001b[1;34m\"Python\"\u001b[0m\u001b[1;33m,\u001b[0m\u001b[1;34m\"Perl\"\u001b[0m\u001b[1;33m]\u001b[0m\u001b[1;33m,\u001b[0m \u001b[1;33m[\u001b[0m\u001b[1;34m\"Paris\"\u001b[0m\u001b[1;33m,\u001b[0m \u001b[1;34m\"Berlin\"\u001b[0m\u001b[1;33m,\u001b[0m \u001b[1;34m\"London\"\u001b[0m\u001b[1;33m]\u001b[0m\u001b[1;33m)\u001b[0m\u001b[1;33m)\u001b[0m\u001b[1;33m\u001b[0m\u001b[1;33m\u001b[0m\u001b[0m\n\u001b[0m\u001b[0;32m      2\u001b[0m \u001b[0mciudades\u001b[0m\u001b[1;33m\u001b[0m\u001b[1;33m\u001b[0m\u001b[0m\n",
      "\u001b[1;31mTypeError\u001b[0m: unhashable type: 'list'"
     ]
    }
   ],
   "source": [
    "ciudades = set(([\"Python\",\"Perl\"], [\"Paris\", \"Berlin\", \"London\"]))\n",
    "ciudades"
   ]
  },
  {
   "cell_type": "code",
   "execution_count": null,
   "metadata": {
    "id": "z26UhIdONuo8",
    "outputId": "a2c4c68f-a98f-4142-ac1b-64ea01ed878a"
   },
   "outputs": [
    {
     "data": {
      "text/plain": [
       "{3, 'azul', 'rojo', 'verde'}"
      ]
     },
     "execution_count": 97,
     "metadata": {},
     "output_type": "execute_result"
    }
   ],
   "source": [
    "colores = {\"rojo\",\"azul\",\"verde\",3}\n",
    "colores"
   ]
  },
  {
   "cell_type": "markdown",
   "metadata": {
    "id": "qL1oJ6YyNuo8"
   },
   "source": [
    "Algunos metodos:\n",
    "\n",
    "add(element): método para añadir un elemento, el cual ha de ser inmutable\n",
    "\n",
    "copy(): devuelve una copia del set\n",
    "\n",
    "difference(): operación de diferencia. También se puede usar el operador -\n",
    "\n",
    "union(),intersection(): tambien se puede usar los operadores |, &\n"
   ]
  },
  {
   "cell_type": "code",
   "execution_count": null,
   "metadata": {
    "id": "lpaPj5RKNuo8",
    "outputId": "db4633ff-8df8-408e-963b-040fcac20b24"
   },
   "outputs": [
    {
     "data": {
      "text/plain": [
       "{'Schaffhausen', 'St. Gallen', 'Winterthur'}"
      ]
     },
     "execution_count": 98,
     "metadata": {},
     "output_type": "execute_result"
    }
   ],
   "source": [
    "#Crea una copia del set, la cual se devuelve\n",
    "mas_ciudades = {\"Winterthur\",\"Schaffhausen\",\"St. Gallen\"}\n",
    "ciudades_backup = mas_ciudades.copy()\n",
    "mas_ciudades.clear()\n",
    "ciudades_backup"
   ]
  },
  {
   "cell_type": "code",
   "execution_count": null,
   "metadata": {
    "id": "yioxbPMuNuo9",
    "outputId": "b29ede97-b20b-469f-d439-b45e13967b43"
   },
   "outputs": [
    {
     "data": {
      "text/plain": [
       "set()"
      ]
     },
     "execution_count": 99,
     "metadata": {},
     "output_type": "execute_result"
    }
   ],
   "source": [
    "# ¿Es suficiente una asignación?\n",
    "mas_ciudades = {\"Winterthur\",\"Schaffhausen\",\"St. Gallen\"}\n",
    "ciudades_backup = mas_ciudades\n",
    "mas_ciudades.clear()\n",
    "ciudades_backup\n",
    "\n",
    "# No, la asignación crea un puntero, es decir, otro nombre a la misma estructura de datos"
   ]
  },
  {
   "cell_type": "code",
   "execution_count": null,
   "metadata": {
    "id": "FE7kQfjgNuo9",
    "outputId": "870bb358-cdba-4172-e549-7aa03b59ade9"
   },
   "outputs": [
    {
     "name": "stdout",
     "output_type": "stream",
     "text": [
      "{'pera', 'manzana', 'naranja'}\n"
     ]
    }
   ],
   "source": [
    "fruteria = {'manzana', 'naranja', 'manzana', 'pera'}\n",
    "print(fruteria)                      # Mostrar que se eliminan los duplicados"
   ]
  },
  {
   "cell_type": "code",
   "execution_count": null,
   "metadata": {
    "id": "q8W2smtfNuo-",
    "outputId": "cc7daf81-559c-42bd-beca-711725accc94"
   },
   "outputs": [
    {
     "data": {
      "text/plain": [
       "True"
      ]
     },
     "execution_count": 101,
     "metadata": {},
     "output_type": "execute_result"
    }
   ],
   "source": [
    "'naranja' in fruteria                 # Prueba rapida de pertenencia "
   ]
  },
  {
   "cell_type": "code",
   "execution_count": null,
   "metadata": {
    "id": "it7jvpkVNuo-",
    "outputId": "430f7b2f-17f3-4776-f71d-b4751b304f18"
   },
   "outputs": [
    {
     "data": {
      "text/plain": [
       "False"
      ]
     },
     "execution_count": 102,
     "metadata": {},
     "output_type": "execute_result"
    }
   ],
   "source": [
    "'platano' in fruteria"
   ]
  },
  {
   "cell_type": "code",
   "execution_count": null,
   "metadata": {
    "id": "IeeXwX3hNuo-",
    "outputId": "469c9892-19f4-40d1-9ee3-35011aba4214"
   },
   "outputs": [
    {
     "data": {
      "text/plain": [
       "{'a', 'b', 'c', 'd', 'e', 'f', 'g', 'h'}"
      ]
     },
     "execution_count": 103,
     "metadata": {},
     "output_type": "execute_result"
    }
   ],
   "source": [
    "# Operaciones con sets\n",
    "a = set('abcdefghh')\n",
    "b = set('defghijklmn')\n",
    "a                                  # letras unicas -sin duplicados- en a"
   ]
  },
  {
   "cell_type": "code",
   "execution_count": null,
   "metadata": {
    "id": "GJk-wIycNuo-",
    "outputId": "fb260501-ce1b-4c09-bd1c-a319fd94322a"
   },
   "outputs": [
    {
     "data": {
      "text/plain": [
       "{'a', 'b', 'c'}"
      ]
     },
     "execution_count": 104,
     "metadata": {},
     "output_type": "execute_result"
    }
   ],
   "source": [
    "a - b                              # letras en a pero no en b"
   ]
  },
  {
   "cell_type": "code",
   "execution_count": null,
   "metadata": {
    "id": "GzXvkwnfNuo_",
    "outputId": "7575849c-b2ee-423d-b762-4bbabad8cc99"
   },
   "outputs": [
    {
     "data": {
      "text/plain": [
       "{'a', 'b', 'c', 'd', 'e', 'f', 'g', 'h', 'i', 'j', 'k', 'l', 'm', 'n'}"
      ]
     },
     "execution_count": 105,
     "metadata": {},
     "output_type": "execute_result"
    }
   ],
   "source": [
    "a | b                              # letras en a o b o ambos"
   ]
  },
  {
   "cell_type": "code",
   "execution_count": null,
   "metadata": {
    "id": "eNqdaBUmNuo_",
    "outputId": "c468a0f4-4615-4dea-cab7-1de73e175674"
   },
   "outputs": [
    {
     "data": {
      "text/plain": [
       "{'d', 'e', 'f', 'g', 'h'}"
      ]
     },
     "execution_count": 106,
     "metadata": {},
     "output_type": "execute_result"
    }
   ],
   "source": [
    "a & b                              # letras en ambos, a y b"
   ]
  },
  {
   "cell_type": "code",
   "execution_count": null,
   "metadata": {
    "id": "pDqOWpNzNuo_",
    "outputId": "30563973-1fd7-42a6-92d9-ae5871abc8b6"
   },
   "outputs": [
    {
     "data": {
      "text/plain": [
       "{'a', 'b', 'c', 'i', 'j', 'k', 'l', 'm', 'n'}"
      ]
     },
     "execution_count": 107,
     "metadata": {},
     "output_type": "execute_result"
    }
   ],
   "source": [
    "a ^ b                              # letras en a o b pero no en ambos"
   ]
  },
  {
   "cell_type": "markdown",
   "metadata": {
    "id": "LZmBkQj4NupA"
   },
   "source": [
    "---\n",
    "\n",
    "## *Indexing* y *slicing*\n",
    "\n",
    "En Python los elementos de las secuencias ordenadas (*strings*, listas, y tuplas) se acceden via índices que se indican entre corchetes después del nombre del objeto que contiene la secuencia. Tomemos por ejemplo la lista `nombres` de la siguiente figura:\n",
    "\n",
    "<center><img src=\"img/indexing1.png\"></center>"
   ]
  },
  {
   "cell_type": "code",
   "execution_count": null,
   "metadata": {
    "id": "4zs3h-qANupA"
   },
   "outputs": [],
   "source": [
    "nombres = ['teresa', 'andrea', 'pablo', 'isabel', 'alvaro', 'angelo', 'mirian', 'carolina']"
   ]
  },
  {
   "cell_type": "markdown",
   "metadata": {
    "id": "uIK6Xg0yNupA"
   },
   "source": [
    "Como ya hemos mencionado, los índices de las secuencias en Python empiezan en cero (0). Por lo tanto, para acceder al primer elemento de la list (`\"teresa\"`) \n",
    "\n",
    "<center><img src=\"img/nombres0.png\"></center>"
   ]
  },
  {
   "cell_type": "code",
   "execution_count": null,
   "metadata": {
    "id": "fuZ001rSNupB",
    "outputId": "c1b9d638-8e95-4710-8618-da3923a8ae64"
   },
   "outputs": [
    {
     "data": {
      "text/plain": [
       "'teresa'"
      ]
     },
     "execution_count": 119,
     "metadata": {},
     "output_type": "execute_result"
    }
   ],
   "source": [
    "nombres[0]"
   ]
  },
  {
   "cell_type": "code",
   "execution_count": null,
   "metadata": {
    "id": "Kdf5H9q5NupB",
    "outputId": "109fb918-28cd-4610-b842-bccbca06c3d4"
   },
   "outputs": [
    {
     "data": {
      "text/plain": [
       "'alvaro'"
      ]
     },
     "execution_count": 120,
     "metadata": {},
     "output_type": "execute_result"
    }
   ],
   "source": [
    "nombres[4]"
   ]
  },
  {
   "cell_type": "markdown",
   "metadata": {
    "id": "8VRhGaBzNupB"
   },
   "source": [
    "El número de elementos en la secuencia se obtiene con la función `len`:\n",
    "\n",
    "<center><img src=\"img/len.png\"></center>"
   ]
  },
  {
   "cell_type": "code",
   "execution_count": null,
   "metadata": {
    "id": "DmFCwVvlNupB",
    "outputId": "dc01c65f-f32a-4320-a646-23164b2bf763"
   },
   "outputs": [
    {
     "data": {
      "text/plain": [
       "8"
      ]
     },
     "execution_count": 135,
     "metadata": {},
     "output_type": "execute_result"
    }
   ],
   "source": [
    "len(nombres)"
   ]
  },
  {
   "cell_type": "markdown",
   "metadata": {
    "id": "Q-cJazgtNupC"
   },
   "source": [
    "El último elemento de la lista:\n",
    "\n",
    "<center><img src=\"img/nombres7.png\"></center>"
   ]
  },
  {
   "cell_type": "code",
   "execution_count": null,
   "metadata": {
    "id": "lTiwZsIANupC",
    "outputId": "303dbfa4-93fa-4172-f0cc-b280b046a8ea"
   },
   "outputs": [
    {
     "data": {
      "text/plain": [
       "'carolina'"
      ]
     },
     "execution_count": 122,
     "metadata": {},
     "output_type": "execute_result"
    }
   ],
   "source": [
    "nombres[len(nombres) - 1]"
   ]
  },
  {
   "cell_type": "markdown",
   "metadata": {
    "id": "_PANX_9UNupD"
   },
   "source": [
    "También podemos acceder al útlimo elemento, usando `-1` como índice."
   ]
  },
  {
   "cell_type": "code",
   "execution_count": null,
   "metadata": {
    "id": "3fFffrluNupD",
    "outputId": "6fd4ad72-a6e8-480a-fb93-e908c50f5eea"
   },
   "outputs": [
    {
     "data": {
      "text/plain": [
       "'carolina'"
      ]
     },
     "execution_count": 123,
     "metadata": {},
     "output_type": "execute_result"
    }
   ],
   "source": [
    "nombres[-1]"
   ]
  },
  {
   "cell_type": "markdown",
   "metadata": {
    "id": "B2TLkkbCNupD"
   },
   "source": [
    "Se puede obtener una parte de la secuencia usando:\n",
    "\n",
    "```python\n",
    "secuencia[x:y:z]\n",
    "```\n",
    "donde x, y, z son números enteros.\n",
    "\n",
    "Lo anterior devuelve una nueva secuencia con las siguientes características:\n",
    "\n",
    "- Del mismo tipo que la original (una rebanada de una lista es una lista, una rebanada de una tupla es una tupla, y una rebanada de una cadena es una cadena).\n",
    "- Conteniendo los elementos desde `secuencia[x]` hasta `secuencia[y-1]` (no incluye a secuencia[y]). Saltándose `z` elementos cada vez, se puede omitir si `z = 1`. \n",
    "\n",
    "**Ejemplos:**\n",
    "\n",
    "<center><img src=\"img/nombres24.png\"></center>"
   ]
  },
  {
   "cell_type": "code",
   "execution_count": null,
   "metadata": {
    "id": "c8_DU0ZXNupE",
    "outputId": "af659c94-2cd3-411d-a9d4-385eaa799532"
   },
   "outputs": [
    {
     "data": {
      "text/plain": [
       "['pablo', 'isabel']"
      ]
     },
     "execution_count": 124,
     "metadata": {},
     "output_type": "execute_result"
    }
   ],
   "source": [
    "nombres[2:4]"
   ]
  },
  {
   "cell_type": "code",
   "execution_count": null,
   "metadata": {
    "id": "J0k6KgsjNupE",
    "outputId": "174f9190-60ca-419f-f522-f247d73bfdc6"
   },
   "outputs": [
    {
     "data": {
      "text/plain": [
       "['pablo', 'isabel']"
      ]
     },
     "execution_count": 125,
     "metadata": {},
     "output_type": "execute_result"
    }
   ],
   "source": [
    "nombres[2:4:1]"
   ]
  },
  {
   "cell_type": "code",
   "execution_count": null,
   "metadata": {
    "id": "X4Emr1nJNupF",
    "outputId": "ec81b8ad-21f4-452e-c9ae-af5581e43cc7"
   },
   "outputs": [
    {
     "data": {
      "text/plain": [
       "['andrea', 'alvaro']"
      ]
     },
     "execution_count": 126,
     "metadata": {},
     "output_type": "execute_result"
    }
   ],
   "source": [
    "nombres[1:5:3]"
   ]
  },
  {
   "cell_type": "code",
   "execution_count": null,
   "metadata": {
    "id": "4PmpUZlsNupG",
    "outputId": "f3a165cf-6d28-48a3-d34e-623b588f8f87"
   },
   "outputs": [
    {
     "data": {
      "text/plain": [
       "['pablo', 'isabel', 'alvaro', 'angelo']"
      ]
     },
     "execution_count": 127,
     "metadata": {},
     "output_type": "execute_result"
    }
   ],
   "source": [
    "nombres[2:6]"
   ]
  },
  {
   "cell_type": "markdown",
   "metadata": {
    "id": "g1mRD2CRNupG"
   },
   "source": [
    "<center><img src=\"img/nombresall.png\"></center>"
   ]
  },
  {
   "cell_type": "code",
   "execution_count": null,
   "metadata": {
    "id": "fc-Kffs7NupH",
    "outputId": "c15ecea0-7603-453d-d31d-f4f1c7d96c58"
   },
   "outputs": [
    {
     "data": {
      "text/plain": [
       "['teresa',\n",
       " 'andrea',\n",
       " 'pablo',\n",
       " 'isabel',\n",
       " 'alvaro',\n",
       " 'angelo',\n",
       " 'mirian',\n",
       " 'carolina']"
      ]
     },
     "execution_count": 128,
     "metadata": {},
     "output_type": "execute_result"
    }
   ],
   "source": [
    "nombres[:]"
   ]
  },
  {
   "cell_type": "markdown",
   "metadata": {
    "id": "4I9fi_mZNupH"
   },
   "source": [
    "<center><img src=\"img/nombres2.png\"></center>"
   ]
  },
  {
   "cell_type": "code",
   "execution_count": null,
   "metadata": {
    "id": "V600j03KNupI",
    "outputId": "fe745525-df3f-494f-a35b-af9624dc64a4"
   },
   "outputs": [
    {
     "data": {
      "text/plain": [
       "['pablo', 'isabel', 'alvaro', 'angelo', 'mirian', 'carolina']"
      ]
     },
     "execution_count": 129,
     "metadata": {},
     "output_type": "execute_result"
    }
   ],
   "source": [
    "nombres[2:]"
   ]
  },
  {
   "cell_type": "markdown",
   "metadata": {
    "id": "QKtxaWJlNupI"
   },
   "source": [
    "<center><img src=\"img/nombres3.png\"></center>"
   ]
  },
  {
   "cell_type": "code",
   "execution_count": null,
   "metadata": {
    "id": "rMcXbfpKNupI",
    "outputId": "c3513fd5-c230-4691-f7a0-4422100af628"
   },
   "outputs": [
    {
     "data": {
      "text/plain": [
       "['teresa', 'andrea', 'pablo']"
      ]
     },
     "execution_count": 130,
     "metadata": {},
     "output_type": "execute_result"
    }
   ],
   "source": [
    "nombres[:3]"
   ]
  },
  {
   "cell_type": "markdown",
   "metadata": {
    "id": "CEIRXi7rNupJ"
   },
   "source": [
    "<center><img src=\"img/nombres22.png\"></center>"
   ]
  },
  {
   "cell_type": "code",
   "execution_count": null,
   "metadata": {
    "id": "Ads5q1xrNupJ",
    "outputId": "68dc5c22-28e0-4346-91c9-c01d0a838e77"
   },
   "outputs": [
    {
     "data": {
      "text/plain": [
       "['teresa', 'pablo', 'alvaro', 'mirian']"
      ]
     },
     "execution_count": 131,
     "metadata": {},
     "output_type": "execute_result"
    }
   ],
   "source": [
    "# :: es todo y en este caso, cada dos posiciones\n",
    "\n",
    "\n",
    "nombres[::2]"
   ]
  },
  {
   "cell_type": "code",
   "execution_count": null,
   "metadata": {
    "id": "AbS_jZUwNupJ",
    "outputId": "647dd507-c85f-479f-aa36-58fa45b35068",
    "scrolled": true
   },
   "outputs": [
    {
     "data": {
      "text/plain": [
       "['carolina',\n",
       " 'mirian',\n",
       " 'angelo',\n",
       " 'alvaro',\n",
       " 'isabel',\n",
       " 'pablo',\n",
       " 'andrea',\n",
       " 'teresa']"
      ]
     },
     "execution_count": 132,
     "metadata": {},
     "output_type": "execute_result"
    }
   ],
   "source": [
    "nombres[::-1]"
   ]
  },
  {
   "cell_type": "code",
   "execution_count": null,
   "metadata": {
    "id": "TasQlqXrNupK",
    "outputId": "d1624e39-ebad-43f3-96a6-e1cd81a65994"
   },
   "outputs": [
    {
     "data": {
      "text/plain": [
       "['teresa',\n",
       " 'andrea',\n",
       " 'pablo',\n",
       " 'isabel',\n",
       " 'alvaro',\n",
       " 'angelo',\n",
       " 'mirian',\n",
       " 'carolina']"
      ]
     },
     "execution_count": 148,
     "metadata": {},
     "output_type": "execute_result"
    }
   ],
   "source": [
    "nombres"
   ]
  },
  {
   "cell_type": "code",
   "execution_count": null,
   "metadata": {
    "id": "QPba_g3JNupK"
   },
   "outputs": [],
   "source": [
    "lista = [0,1,2,3,4,5]\n",
    "lista_2 = [6,7,8,9,10]"
   ]
  },
  {
   "cell_type": "code",
   "execution_count": null,
   "metadata": {
    "id": "f3Q4sts0NupL",
    "outputId": "05969b16-e644-4069-ab25-a600a2648cea"
   },
   "outputs": [
    {
     "data": {
      "text/plain": [
       "[0, 2, 4, 6, 9]"
      ]
     },
     "execution_count": 144,
     "metadata": {},
     "output_type": "execute_result"
    }
   ],
   "source": [
    "lista_3 = lista[::2] + lista_2[::3]\n",
    "lista_3"
   ]
  },
  {
   "cell_type": "code",
   "execution_count": null,
   "metadata": {
    "id": "vxf4WhNdNupM",
    "outputId": "7674f67b-d349-4aed-f494-c2fd5427ca89"
   },
   "outputs": [
    {
     "data": {
      "text/plain": [
       "['teresa',\n",
       " 'andrea',\n",
       " 'pablo',\n",
       " 'isabel',\n",
       " 'alvaro',\n",
       " 'angelo',\n",
       " 'mirian',\n",
       " 'carolina']"
      ]
     },
     "execution_count": 145,
     "metadata": {},
     "output_type": "execute_result"
    }
   ],
   "source": [
    "nombres"
   ]
  },
  {
   "cell_type": "code",
   "execution_count": null,
   "metadata": {
    "id": "BXnR5HCbNupM",
    "outputId": "20f6d247-7910-4c6d-e6cf-7e2a686698a9"
   },
   "outputs": [
    {
     "data": {
      "text/plain": [
       "['pablo', 'isabel']"
      ]
     },
     "execution_count": 147,
     "metadata": {},
     "output_type": "execute_result"
    }
   ],
   "source": [
    "nombres[2:3] + nombres[3:4]"
   ]
  },
  {
   "cell_type": "code",
   "execution_count": null,
   "metadata": {
    "id": "Zhs9luwgNupN",
    "outputId": "d19aa7dc-0abe-494a-ddd5-cbac11714ec9"
   },
   "outputs": [
    {
     "data": {
      "text/plain": [
       "str"
      ]
     },
     "execution_count": 134,
     "metadata": {},
     "output_type": "execute_result"
    }
   ],
   "source": [
    "type(nombres[7])"
   ]
  },
  {
   "cell_type": "markdown",
   "metadata": {
    "id": "t6a0ICK4NupN"
   },
   "source": [
    "## Ejercicios"
   ]
  },
  {
   "cell_type": "markdown",
   "metadata": {
    "id": "TtcFCawsNupO"
   },
   "source": [
    "### Ejercicio 1\n",
    "\n",
    "Escribir un programa que sume todos los elementos de la lista = [0,1,...., 20]."
   ]
  },
  {
   "cell_type": "code",
   "execution_count": 1,
   "metadata": {
    "colab": {
     "base_uri": "https://localhost:8080/"
    },
    "executionInfo": {
     "elapsed": 49,
     "status": "ok",
     "timestamp": 1660864134109,
     "user": {
      "displayName": "Camilo Gaitán",
      "userId": "02535021554495643434"
     },
     "user_tz": 300
    },
    "id": "z9MiDKcZNupP",
    "outputId": "ab30d377-26b5-4699-9bff-0395f87c1024"
   },
   "outputs": [
    {
     "data": {
      "text/plain": [
       "210"
      ]
     },
     "execution_count": 1,
     "metadata": {},
     "output_type": "execute_result"
    }
   ],
   "source": [
    "sum(range(21))"
   ]
  },
  {
   "cell_type": "markdown",
   "metadata": {
    "id": "ubAbRLb4NupP"
   },
   "source": [
    "### Ejercicio 2\n",
    "Calcular factorial del número 100.\n",
    "\n",
    "Recordamos que el factorial de un número entero positivo se define:\n",
    "\n",
    "$$n! = \\prod_{k = 1}^{n}{k}$$"
   ]
  },
  {
   "cell_type": "code",
   "execution_count": 61,
   "metadata": {
    "executionInfo": {
     "elapsed": 294,
     "status": "ok",
     "timestamp": 1660864142957,
     "user": {
      "displayName": "Camilo Gaitán",
      "userId": "02535021554495643434"
     },
     "user_tz": 300
    },
    "id": "yIXxZLH3NupQ"
   },
   "outputs": [
    {
     "name": "stdout",
     "output_type": "stream",
     "text": [
      "933262154439441526816992388562667004907159682643816214685929638952175999932299156089414639761565182862536979208272237582511852109168640000000000000000000000\n"
     ]
    }
   ],
   "source": [
    "factorial = 1\n",
    "for i in range(1,100):\n",
    "    factorial = factorial*i\n",
    "print(factorial)"
   ]
  },
  {
   "cell_type": "markdown",
   "metadata": {
    "id": "fRqCWOeYNupQ"
   },
   "source": [
    "### Ejercicio 3\n",
    "Dada una lista de *strings* (cadenas de caracteres) devuelva el número de strings que tienen una longitud de 2 o más caracteres, y cuyo primer y último caracter sean iguales."
   ]
  },
  {
   "cell_type": "code",
   "execution_count": 70,
   "metadata": {
    "executionInfo": {
     "elapsed": 393,
     "status": "ok",
     "timestamp": 1660864172028,
     "user": {
      "displayName": "Camilo Gaitán",
      "userId": "02535021554495643434"
     },
     "user_tz": 300
    },
    "id": "sGbCbw4WNupR"
   },
   "outputs": [],
   "source": [
    "frutas=['mangm','fresa','naranjan','oco','fresa','sandia',\n",
    "        'sandia','banano','u','m']"
   ]
  },
  {
   "cell_type": "code",
   "execution_count": 102,
   "metadata": {
    "executionInfo": {
     "elapsed": 14,
     "status": "ok",
     "timestamp": 1660864172363,
     "user": {
      "displayName": "Camilo Gaitán",
      "userId": "02535021554495643434"
     },
     "user_tz": 300
    },
    "id": "85QRpa9wNupR"
   },
   "outputs": [
    {
     "name": "stdout",
     "output_type": "stream",
     "text": [
      "Los Strings que cumplen dicha condición son:  3\n"
     ]
    }
   ],
   "source": [
    "\n",
    "for i in frutas:\n",
    "    if(len(i)>=2 and (i[0] == i[-1])):\n",
    "        x = i\n",
    "print(\"Los Strings que cumplen dicha condición son: \", len(x))\n"
   ]
  },
  {
   "cell_type": "markdown",
   "metadata": {
    "id": "WeE6lfrQNupS"
   },
   "source": [
    "### Ejercicio 4\n",
    "Escribir un programa que tome dos listas y devuelva `True` si tienen elementos comunes."
   ]
  },
  {
   "cell_type": "code",
   "execution_count": 57,
   "metadata": {
    "executionInfo": {
     "elapsed": 353,
     "status": "ok",
     "timestamp": 1660864202123,
     "user": {
      "displayName": "Camilo Gaitán",
      "userId": "02535021554495643434"
     },
     "user_tz": 300
    },
    "id": "D6xrq9PbNupS"
   },
   "outputs": [],
   "source": [
    "lista1 = ['a','b','c']\n",
    "lista2 = ['d','e','a']"
   ]
  },
  {
   "cell_type": "code",
   "execution_count": 92,
   "metadata": {
    "colab": {
     "base_uri": "https://localhost:8080/"
    },
    "executionInfo": {
     "elapsed": 10,
     "status": "ok",
     "timestamp": 1660864202516,
     "user": {
      "displayName": "Camilo Gaitán",
      "userId": "02535021554495643434"
     },
     "user_tz": 300
    },
    "id": "dhe4wS6PNupT",
    "outputId": "d8f96d89-9e72-48e3-b34a-7e15cda5ded3"
   },
   "outputs": [
    {
     "ename": "TypeError",
     "evalue": "list indices must be integers or slices, not str",
     "output_type": "error",
     "traceback": [
      "\u001b[1;31m---------------------------------------------------------------------------\u001b[0m",
      "\u001b[1;31mTypeError\u001b[0m                                 Traceback (most recent call last)",
      "\u001b[1;32m~\\AppData\\Local\\Temp/ipykernel_8620/551821922.py\u001b[0m in \u001b[0;36m<module>\u001b[1;34m\u001b[0m\n\u001b[1;32m----> 1\u001b[1;33m \u001b[1;32mif\u001b[0m\u001b[1;33m(\u001b[0m\u001b[0mlista1\u001b[0m\u001b[1;33m[\u001b[0m\u001b[0mi\u001b[0m\u001b[1;33m]\u001b[0m \u001b[1;33m==\u001b[0m \u001b[0mlista2\u001b[0m\u001b[1;33m[\u001b[0m\u001b[0mi\u001b[0m\u001b[1;33m]\u001b[0m\u001b[1;33m)\u001b[0m\u001b[1;33m:\u001b[0m\u001b[1;33m\u001b[0m\u001b[1;33m\u001b[0m\u001b[0m\n\u001b[0m\u001b[0;32m      2\u001b[0m     \u001b[0mprint\u001b[0m\u001b[1;33m(\u001b[0m\u001b[1;32mTrue\u001b[0m\u001b[1;33m)\u001b[0m\u001b[1;33m\u001b[0m\u001b[1;33m\u001b[0m\u001b[0m\n",
      "\u001b[1;31mTypeError\u001b[0m: list indices must be integers or slices, not str"
     ]
    }
   ],
   "source": [
    "if(lista1[i] == lista2[i]):\n",
    "    print(True)"
   ]
  },
  {
   "cell_type": "markdown",
   "metadata": {
    "id": "YfvcPaxDNupU"
   },
   "source": [
    "### Ejercicio 5\n",
    "Realice lo mismo pero con sets en lugar de listas."
   ]
  },
  {
   "cell_type": "code",
   "execution_count": 8,
   "metadata": {
    "colab": {
     "base_uri": "https://localhost:8080/"
    },
    "executionInfo": {
     "elapsed": 55,
     "status": "ok",
     "timestamp": 1660864134485,
     "user": {
      "displayName": "Camilo Gaitán",
      "userId": "02535021554495643434"
     },
     "user_tz": 300
    },
    "id": "hzcf5qknNupU",
    "outputId": "55804a99-68d1-451a-f9a1-c7b4c482cf69"
   },
   "outputs": [
    {
     "name": "stdout",
     "output_type": "stream",
     "text": [
      "True {'a'}\n"
     ]
    }
   ],
   "source": []
  },
  {
   "cell_type": "markdown",
   "metadata": {
    "id": "XJJrAnXlNupV"
   },
   "source": [
    "### Ejercicio 6\n",
    "Supongamos que tenemos una lista de palabras y queremos ordenarlas de más larga a más corta."
   ]
  },
  {
   "cell_type": "code",
   "execution_count": 9,
   "metadata": {
    "executionInfo": {
     "elapsed": 54,
     "status": "ok",
     "timestamp": 1660864134487,
     "user": {
      "displayName": "Camilo Gaitán",
      "userId": "02535021554495643434"
     },
     "user_tz": 300
    },
    "id": "SEnWX0lHNupV"
   },
   "outputs": [],
   "source": [
    "txt = u'Lorem ipsum dolor sit amet, consectetur adipiscing elit. Vestibulum et tellus justo.  \\\n",
    " Integer dolor elit, volutpat vitae ante ut, venenatis semper nibh. '"
   ]
  },
  {
   "cell_type": "code",
   "execution_count": 10,
   "metadata": {
    "colab": {
     "base_uri": "https://localhost:8080/"
    },
    "executionInfo": {
     "elapsed": 54,
     "status": "ok",
     "timestamp": 1660864134489,
     "user": {
      "displayName": "Camilo Gaitán",
      "userId": "02535021554495643434"
     },
     "user_tz": 300
    },
    "id": "Yz4rs_0YNupW",
    "outputId": "3945ac21-c040-4daa-d1cd-0750fafa32ab",
    "scrolled": true
   },
   "outputs": [
    {
     "name": "stdout",
     "output_type": "stream",
     "text": [
      "Help on method_descriptor:\n",
      "\n",
      "split(self, /, sep=None, maxsplit=-1)\n",
      "    Return a list of the words in the string, using sep as the delimiter string.\n",
      "    \n",
      "    sep\n",
      "      The delimiter according which to split the string.\n",
      "      None (the default value) means split according to any whitespace,\n",
      "      and discard empty strings from the result.\n",
      "    maxsplit\n",
      "      Maximum number of splits to do.\n",
      "      -1 (the default value) means no limit.\n",
      "\n"
     ]
    }
   ],
   "source": [
    "help(str.split)"
   ]
  },
  {
   "cell_type": "code",
   "execution_count": 11,
   "metadata": {
    "executionInfo": {
     "elapsed": 56,
     "status": "ok",
     "timestamp": 1660864134495,
     "user": {
      "displayName": "Camilo Gaitán",
      "userId": "02535021554495643434"
     },
     "user_tz": 300
    },
    "id": "T6iFUHGzNupW"
   },
   "outputs": [],
   "source": [
    "txt = txt.replace(',', '').replace('.', '')"
   ]
  },
  {
   "cell_type": "code",
   "execution_count": 12,
   "metadata": {
    "executionInfo": {
     "elapsed": 53,
     "status": "ok",
     "timestamp": 1660864134496,
     "user": {
      "displayName": "Camilo Gaitán",
      "userId": "02535021554495643434"
     },
     "user_tz": 300
    },
    "id": "xpbvpiiONupX"
   },
   "outputs": [],
   "source": [
    "txt = txt.split(' ')"
   ]
  },
  {
   "cell_type": "code",
   "execution_count": 13,
   "metadata": {
    "colab": {
     "base_uri": "https://localhost:8080/"
    },
    "executionInfo": {
     "elapsed": 54,
     "status": "ok",
     "timestamp": 1660864134498,
     "user": {
      "displayName": "Camilo Gaitán",
      "userId": "02535021554495643434"
     },
     "user_tz": 300
    },
    "id": "t_6kRCrPNupX",
    "outputId": "9e3917a7-dd93-4db1-d1b3-b41997bab6fd",
    "scrolled": true
   },
   "outputs": [
    {
     "name": "stdout",
     "output_type": "stream",
     "text": [
      "Help on built-in function sorted in module builtins:\n",
      "\n",
      "sorted(iterable, /, *, key=None, reverse=False)\n",
      "    Return a new list containing all items from the iterable in ascending order.\n",
      "    \n",
      "    A custom key function can be supplied to customize the sort order, and the\n",
      "    reverse flag can be set to request the result in descending order.\n",
      "\n"
     ]
    }
   ],
   "source": [
    "help(sorted) # o el método mi_variable.sort() según el tipo de variable"
   ]
  },
  {
   "cell_type": "code",
   "execution_count": 14,
   "metadata": {
    "executionInfo": {
     "elapsed": 53,
     "status": "ok",
     "timestamp": 1660864134500,
     "user": {
      "displayName": "Camilo Gaitán",
      "userId": "02535021554495643434"
     },
     "user_tz": 300
    },
    "id": "75K1bUnENupY"
   },
   "outputs": [],
   "source": []
  },
  {
   "cell_type": "markdown",
   "metadata": {
    "id": "7ohaASqZNupY"
   },
   "source": [
    "### Ejercicio 7\n",
    "Ahora genera una lista de tuplas con la palabra y su longitud"
   ]
  },
  {
   "cell_type": "code",
   "execution_count": 15,
   "metadata": {
    "colab": {
     "base_uri": "https://localhost:8080/"
    },
    "executionInfo": {
     "elapsed": 53,
     "status": "ok",
     "timestamp": 1660864134501,
     "user": {
      "displayName": "Camilo Gaitán",
      "userId": "02535021554495643434"
     },
     "user_tz": 300
    },
    "id": "W4dkuSDjNupZ",
    "outputId": "a3ab2b4a-e32a-429b-cb8f-fe8d932fe7ec"
   },
   "outputs": [
    {
     "data": {
      "text/plain": [
       "[('consectetur', 11),\n",
       " ('adipiscing', 10),\n",
       " ('Vestibulum', 10),\n",
       " ('venenatis', 9),\n",
       " ('volutpat', 8),\n",
       " ('Integer', 7),\n",
       " ('tellus', 6),\n",
       " ('semper', 6),\n",
       " ('Lorem', 5),\n",
       " ('ipsum', 5),\n",
       " ('dolor', 5),\n",
       " ('justo', 5),\n",
       " ('dolor', 5),\n",
       " ('vitae', 5),\n",
       " ('amet', 4),\n",
       " ('elit', 4),\n",
       " ('elit', 4),\n",
       " ('ante', 4),\n",
       " ('nibh', 4),\n",
       " ('sit', 3),\n",
       " ('et', 2),\n",
       " ('ut', 2),\n",
       " ('', 0),\n",
       " ('', 0),\n",
       " ('', 0)]"
      ]
     },
     "execution_count": 15,
     "metadata": {},
     "output_type": "execute_result"
    }
   ],
   "source": []
  },
  {
   "cell_type": "markdown",
   "metadata": {
    "id": "xLsw5MY_NupZ"
   },
   "source": [
    "### Ejercicio 8\n",
    "¿Cómo modificarías el código para que no se repitan palabras en la lista `res`?"
   ]
  },
  {
   "cell_type": "code",
   "execution_count": 22,
   "metadata": {
    "executionInfo": {
     "elapsed": 7,
     "status": "ok",
     "timestamp": 1660864242151,
     "user": {
      "displayName": "Camilo Gaitán",
      "userId": "02535021554495643434"
     },
     "user_tz": 300
    },
    "id": "tnKIpKnINupZ"
   },
   "outputs": [],
   "source": []
  },
  {
   "cell_type": "markdown",
   "metadata": {
    "id": "HcsJ1JRoNupa"
   },
   "source": [
    "### Ejercicio 9\n",
    "Crear un diccionario cuyas claves (`key`) son números enteros entre 1 y 15 (ambos inclusive) y los valores (`value`) son el cuadrado de la clave (`key`)."
   ]
  },
  {
   "cell_type": "code",
   "execution_count": 22,
   "metadata": {
    "executionInfo": {
     "elapsed": 575,
     "status": "ok",
     "timestamp": 1660864250768,
     "user": {
      "displayName": "Camilo Gaitán",
      "userId": "02535021554495643434"
     },
     "user_tz": 300
    },
    "id": "qIFuT8-QNupa"
   },
   "outputs": [],
   "source": []
  },
  {
   "cell_type": "markdown",
   "metadata": {
    "id": "FhW4Q6PgNupa"
   },
   "source": [
    "# Ejercicio 4. \n",
    "\n",
    "Suponga que usted tiene el siguiente registro de velocidad: 132 km/h. Cree un loop tal que, mientras ese registro sea mayor a un límite impuesto igual a 30, imprima “Reduzca la velocidad” y, por esta acción, el registro disminuya 7 km/h. \n",
    "a. ¿Cuántas veces tuvo que bajar la velocidad? \n",
    "b. ¿Cuál fue finalmente la velocidad a la que llegó para que no sobre pasara el límite? "
   ]
  },
  {
   "cell_type": "markdown",
   "metadata": {
    "id": "9wwnH5uGNupb"
   },
   "source": [
    "Del punto anterior, mejore las restricciones de velocidad, tal que:\n",
    "\n",
    "Si la velocidad es mayor a 48 km/h, imprima “Bájele mucho más” y como resultado, este baje 11 km/h\n",
    "Aun cuando la velocidad sea mayor a 48 km/h, recuerde que en el punto 4 hay otra condición, esta debe imprimir “su velocidad es – mencione la velocidad – km/h“\n",
    "Si la velocidad ya no es mayor a 48 km/h pero mayor a 30, debe imprimir el mensaje b pero adicional, imprimir “reduzca un poco más”, y como consecuencia, este baje 6 km/h hasta no sobrepasar el límite de 30."
   ]
  },
  {
   "cell_type": "code",
   "execution_count": 23,
   "metadata": {
    "executionInfo": {
     "elapsed": 343,
     "status": "ok",
     "timestamp": 1660864262762,
     "user": {
      "displayName": "Camilo Gaitán",
      "userId": "02535021554495643434"
     },
     "user_tz": 300
    },
    "id": "0SpGQua2Nupb"
   },
   "outputs": [],
   "source": [
    "## Cómo lo harían?  "
   ]
  },
  {
   "cell_type": "markdown",
   "metadata": {
    "id": "2-6N1oy-Nupc"
   },
   "source": [
    "Suponga usted quiere que un usuario adivine un número entre el 1 al 9 solicitado por pantalla, usted debe escoger aleatoriamente el número que debe adivinar. Mientras el usuario no adivine, debe imprimir si \"está por debajo!\" o \"está por encima!\" del número según corresponda y debe seguir solicitando el número hasta que este sea adivinado. cuando este sea adivinado debe decir \"Muy bien hecho!\".\n",
    "\n",
    "Al final adivina el número, debe mencionar \"Y sólo te costó x intentos\""
   ]
  },
  {
   "cell_type": "markdown",
   "metadata": {
    "id": "aS4sMWUKNupc"
   },
   "source": [
    "1. Solicitar por pantalla\n",
    "2. # Aleatorio\n",
    "3. Condición -> numero != input\n",
    "4. Solicitar el número mientras numero != input\n",
    "5. Imprimir si está por debajo o encima\n",
    "6. Si adivina, imprimir el msj y la cantidad de intentos"
   ]
  },
  {
   "cell_type": "code",
   "execution_count": null,
   "metadata": {
    "id": "gpG-jp8ZNupd"
   },
   "outputs": [],
   "source": [
    "import random"
   ]
  },
  {
   "cell_type": "code",
   "execution_count": 24,
   "metadata": {
    "executionInfo": {
     "elapsed": 421,
     "status": "ok",
     "timestamp": 1660864282667,
     "user": {
      "displayName": "Camilo Gaitán",
      "userId": "02535021554495643434"
     },
     "user_tz": 300
    },
    "id": "M6CGyg_FNupd"
   },
   "outputs": [],
   "source": []
  }
 ],
 "metadata": {
  "anaconda-cloud": {},
  "colab": {
   "name": "04 Estructuras de datos.ipynb",
   "provenance": []
  },
  "kernelspec": {
   "display_name": "Python 3 (ipykernel)",
   "language": "python",
   "name": "python3"
  },
  "language_info": {
   "codemirror_mode": {
    "name": "ipython",
    "version": 3
   },
   "file_extension": ".py",
   "mimetype": "text/x-python",
   "name": "python",
   "nbconvert_exporter": "python",
   "pygments_lexer": "ipython3",
   "version": "3.9.13"
  },
  "toc": {
   "base_numbering": 1,
   "nav_menu": {
    "height": "386px",
    "width": "306px"
   },
   "number_sections": true,
   "sideBar": true,
   "skip_h1_title": false,
   "title_cell": "Table of Contents",
   "title_sidebar": "Contents",
   "toc_cell": true,
   "toc_position": {
    "height": "calc(100% - 180px)",
    "left": "10px",
    "top": "150px",
    "width": "337px"
   },
   "toc_section_display": true,
   "toc_window_display": true
  },
  "varInspector": {
   "cols": {
    "lenName": 16,
    "lenType": 16,
    "lenVar": 40
   },
   "kernels_config": {
    "python": {
     "delete_cmd_postfix": "",
     "delete_cmd_prefix": "del ",
     "library": "var_list.py",
     "varRefreshCmd": "print(var_dic_list())"
    },
    "r": {
     "delete_cmd_postfix": ") ",
     "delete_cmd_prefix": "rm(",
     "library": "var_list.r",
     "varRefreshCmd": "cat(var_dic_list()) "
    }
   },
   "types_to_exclude": [
    "module",
    "function",
    "builtin_function_or_method",
    "instance",
    "_Feature"
   ],
   "window_display": false
  }
 },
 "nbformat": 4,
 "nbformat_minor": 1
}
