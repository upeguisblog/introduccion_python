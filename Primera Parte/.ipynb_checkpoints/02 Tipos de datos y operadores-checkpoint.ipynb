{
 "cells": [
  {
   "cell_type": "markdown",
   "metadata": {
    "id": "2gCEmqdfA235",
    "toc": true
   },
   "source": [
    "<h1>Table of Contents<span class=\"tocSkip\"></span></h1>\n",
    "<div class=\"toc\"><ul class=\"toc-item\"><li><span><a href=\"#Introducción-a-Python\" data-toc-modified-id=\"Introducción-a-Python-1\"><span class=\"toc-item-num\">1&nbsp;&nbsp;</span>Introducción a Python</a></span><ul class=\"toc-item\"><li><span><a href=\"#Tipos-de-datos\" data-toc-modified-id=\"Tipos-de-datos-1.1\"><span class=\"toc-item-num\">1.1&nbsp;&nbsp;</span>Tipos de datos</a></span><ul class=\"toc-item\"><li><span><a href=\"#Numéricos\" data-toc-modified-id=\"Numéricos-1.1.1\"><span class=\"toc-item-num\">1.1.1&nbsp;&nbsp;</span>Numéricos</a></span></li><li><span><a href=\"#Cadenas-de-caracteres-(Strings)\" data-toc-modified-id=\"Cadenas-de-caracteres-(Strings)-1.1.2\"><span class=\"toc-item-num\">1.1.2&nbsp;&nbsp;</span>Cadenas de caracteres (Strings)</a></span></li><li><span><a href=\"#Boolean\" data-toc-modified-id=\"Boolean-1.1.3\"><span class=\"toc-item-num\">1.1.3&nbsp;&nbsp;</span>Boolean</a></span></li></ul></li><li><span><a href=\"#Operadores\" data-toc-modified-id=\"Operadores-1.2\"><span class=\"toc-item-num\">1.2&nbsp;&nbsp;</span>Operadores</a></span><ul class=\"toc-item\"><li><span><a href=\"#Operadores-Aritméticos\" data-toc-modified-id=\"Operadores-Aritméticos-1.2.1\"><span class=\"toc-item-num\">1.2.1&nbsp;&nbsp;</span>Operadores Aritméticos</a></span><ul class=\"toc-item\"><li><span><a href=\"#Suma-'-+-'\" data-toc-modified-id=\"Suma-'-+-'-1.2.1.1\"><span class=\"toc-item-num\">1.2.1.1&nbsp;&nbsp;</span>Suma ' + '</a></span></li><li><span><a href=\"#Resta-'---'\" data-toc-modified-id=\"Resta-'---'-1.2.1.2\"><span class=\"toc-item-num\">1.2.1.2&nbsp;&nbsp;</span>Resta ' - '</a></span></li><li><span><a href=\"#Multiplicación-'-*-'\" data-toc-modified-id=\"Multiplicación-'-*-'-1.2.1.3\"><span class=\"toc-item-num\">1.2.1.3&nbsp;&nbsp;</span>Multiplicación ' * '</a></span></li><li><span><a href=\"#División-'-/-'\" data-toc-modified-id=\"División-'-/-'-1.2.1.4\"><span class=\"toc-item-num\">1.2.1.4&nbsp;&nbsp;</span>División ' / '</a></span></li><li><span><a href=\"#Modulo-'-%-'\" data-toc-modified-id=\"Modulo-'-%-'-1.2.1.5\"><span class=\"toc-item-num\">1.2.1.5&nbsp;&nbsp;</span>Modulo ' % '</a></span></li><li><span><a href=\"#Exponenciación-'-**-'\" data-toc-modified-id=\"Exponenciación-'-**-'-1.2.1.6\"><span class=\"toc-item-num\">1.2.1.6&nbsp;&nbsp;</span>Exponenciación ' ** '</a></span></li></ul></li><li><span><a href=\"#Operadores-Booleanos\" data-toc-modified-id=\"Operadores-Booleanos-1.2.2\"><span class=\"toc-item-num\">1.2.2&nbsp;&nbsp;</span>Operadores Booleanos</a></span><ul class=\"toc-item\"><li><span><a href=\"#Operadores-and,-or,-not\" data-toc-modified-id=\"Operadores-and,-or,-not-1.2.2.1\"><span class=\"toc-item-num\">1.2.2.1&nbsp;&nbsp;</span>Operadores and, or, not</a></span></li><li><span><a href=\"#Operadores-de-comparación\" data-toc-modified-id=\"Operadores-de-comparación-1.2.2.2\"><span class=\"toc-item-num\">1.2.2.2&nbsp;&nbsp;</span>Operadores de comparación</a></span></li><li><span><a href=\"#Operadores-de-pertenencia\" data-toc-modified-id=\"Operadores-de-pertenencia-1.2.2.3\"><span class=\"toc-item-num\">1.2.2.3&nbsp;&nbsp;</span>Operadores de pertenencia</a></span></li><li><span><a href=\"#Operadores-de-identidad\" data-toc-modified-id=\"Operadores-de-identidad-1.2.2.4\"><span class=\"toc-item-num\">1.2.2.4&nbsp;&nbsp;</span>Operadores de identidad</a></span></li></ul></li><li><span><a href=\"#Otros-operadores\" data-toc-modified-id=\"Otros-operadores-1.2.3\"><span class=\"toc-item-num\">1.2.3&nbsp;&nbsp;</span>Otros operadores</a></span></li></ul></li><li><span><a href=\"#Ejercicios\" data-toc-modified-id=\"Ejercicios-1.3\"><span class=\"toc-item-num\">1.3&nbsp;&nbsp;</span>Ejercicios</a></span><ul class=\"toc-item\"><li><span><a href=\"#Ejercicio-1\" data-toc-modified-id=\"Ejercicio-1-1.3.1\"><span class=\"toc-item-num\">1.3.1&nbsp;&nbsp;</span>Ejercicio 1</a></span></li><li><span><a href=\"#Ejercicio-2\" data-toc-modified-id=\"Ejercicio-2-1.3.2\"><span class=\"toc-item-num\">1.3.2&nbsp;&nbsp;</span>Ejercicio 2</a></span></li><li><span><a href=\"#Ejercicio-3\" data-toc-modified-id=\"Ejercicio-3-1.3.3\"><span class=\"toc-item-num\">1.3.3&nbsp;&nbsp;</span>Ejercicio 3</a></span></li><li><span><a href=\"#Ejercicio-4\" data-toc-modified-id=\"Ejercicio-4-1.3.4\"><span class=\"toc-item-num\">1.3.4&nbsp;&nbsp;</span>Ejercicio 4</a></span></li><li><span><a href=\"#Ejercicio-5\" data-toc-modified-id=\"Ejercicio-5-1.3.5\"><span class=\"toc-item-num\">1.3.5&nbsp;&nbsp;</span>Ejercicio 5</a></span></li></ul></li></ul></li></ul></div>"
   ]
  },
  {
   "cell_type": "markdown",
   "metadata": {
    "id": "13YGL7BYA24C"
   },
   "source": [
    "# Introducción a Python"
   ]
  },
  {
   "cell_type": "markdown",
   "metadata": {
    "id": "NG_68Vi7A24F"
   },
   "source": [
    "---\n",
    "\n",
    "## Tipos de datos\n",
    "\n",
    "Python es un lenguaje de tipado dinámico, y no necesita que se declaren las variables ni sus tipos. El nombre de las variables deben cumplir que:\n",
    "\n",
    "- Usar sólo caracteres alfanumérico y 'underscore' ( _ )\n",
    "- NO contener espacios en blanco\n",
    "- NO empezar por un número\n",
    "- En Python el nombre de las variables son *case sensitive*, i.e.: Python != python\n",
    "\n",
    "EL símbolo igual (`=`) se utiliza para asignar valores a las variables. Veamos algunos ejemplos:"
   ]
  },
  {
   "cell_type": "code",
   "execution_count": null,
   "metadata": {
    "id": "9eo-ZUFaA24G"
   },
   "outputs": [],
   "source": [
    "x = 85  ## Asignar un valor\n",
    "defensa = 21321321"
   ]
  },
  {
   "cell_type": "code",
   "execution_count": null,
   "metadata": {
    "colab": {
     "base_uri": "https://localhost:8080/"
    },
    "executionInfo": {
     "elapsed": 243,
     "status": "ok",
     "timestamp": 1645745839383,
     "user": {
      "displayName": "Camilo Gaitán",
      "photoUrl": "https://lh3.googleusercontent.com/a-/AOh14GjQXA_8SBdYbwOxYFqQvQwm4FZW3oL3Gx0J0uabLLU=s64",
      "userId": "02535021554495643434"
     },
     "user_tz": 300
    },
    "id": "qN1zoUnbA24I",
    "outputId": "faeb51c7-1e65-4011-a8b8-a9563e3f6ec1"
   },
   "outputs": [
    {
     "data": {
      "text/plain": [
       "85"
      ]
     },
     "execution_count": 2,
     "metadata": {},
     "output_type": "execute_result"
    }
   ],
   "source": [
    "x  ## Imprimir/Mostrar un valor"
   ]
  },
  {
   "cell_type": "code",
   "execution_count": null,
   "metadata": {
    "id": "Xuwyv0FOA24K"
   },
   "outputs": [],
   "source": [
    "x = 61.34  ## \".\" es decimal \",\" es separador"
   ]
  },
  {
   "cell_type": "code",
   "execution_count": null,
   "metadata": {
    "id": "ViAag67VA24K",
    "outputId": "c3d0778f-942f-4ed0-98ab-7ff222a9c522"
   },
   "outputs": [
    {
     "data": {
      "text/plain": [
       "61.34"
      ]
     },
     "execution_count": 19,
     "metadata": {},
     "output_type": "execute_result"
    }
   ],
   "source": [
    "x"
   ]
  },
  {
   "cell_type": "code",
   "execution_count": null,
   "metadata": {
    "colab": {
     "base_uri": "https://localhost:8080/"
    },
    "executionInfo": {
     "elapsed": 261,
     "status": "ok",
     "timestamp": 1645746245491,
     "user": {
      "displayName": "Camilo Gaitán",
      "photoUrl": "https://lh3.googleusercontent.com/a-/AOh14GjQXA_8SBdYbwOxYFqQvQwm4FZW3oL3Gx0J0uabLLU=s64",
      "userId": "02535021554495643434"
     },
     "user_tz": 300
    },
    "id": "qtvxWcJQA24L",
    "outputId": "4f2b3101-3178-4d93-fda6-bab8a3078391"
   },
   "outputs": [
    {
     "data": {
      "text/plain": [
       "int"
      ]
     },
     "execution_count": 3,
     "metadata": {},
     "output_type": "execute_result"
    }
   ],
   "source": [
    "type(x) ## Me indica el tipo de variable con el que estoy trabajando\n",
    "## asdasdas 45536456"
   ]
  },
  {
   "cell_type": "code",
   "execution_count": null,
   "metadata": {
    "id": "VvKzJydGA24M"
   },
   "outputs": [],
   "source": [
    "#### VALOR DENTRO DE LA VARIABLE\n",
    "\n",
    "## Float -> Decimales (1.2 - 1.00)\n",
    "## Int -> Enteros (1,2,3,4,5)\n",
    "## String -> Texto (#2, 'Hola')\n",
    "## Boolean -> (True, False), (0,1) (Variables Dummy/ Dicotómicas)\n",
    "\n",
    "#### EL TIPO DE ESTRUCTURA QUE TIENE LA VARIABLE (Type)\n",
    "\n",
    "## Lista\n",
    "## Tupla\n",
    "## Diccionario"
   ]
  },
  {
   "cell_type": "code",
   "execution_count": null,
   "metadata": {
    "colab": {
     "base_uri": "https://localhost:8080/",
     "height": 130
    },
    "executionInfo": {
     "elapsed": 232,
     "status": "error",
     "timestamp": 1645746363324,
     "user": {
      "displayName": "Camilo Gaitán",
      "photoUrl": "https://lh3.googleusercontent.com/a-/AOh14GjQXA_8SBdYbwOxYFqQvQwm4FZW3oL3Gx0J0uabLLU=s64",
      "userId": "02535021554495643434"
     },
     "user_tz": 300
    },
    "id": "94kZQgIIA24N",
    "outputId": "f826f702-a124-461e-8130-e908198ca30c",
    "scrolled": true
   },
   "outputs": [
    {
     "ename": "SyntaxError",
     "evalue": "ignored",
     "output_type": "error",
     "traceback": [
      "\u001b[0;36m  File \u001b[0;32m\"<ipython-input-4-285fe16058aa>\"\u001b[0;36m, line \u001b[0;32m2\u001b[0m\n\u001b[0;31m    1x = 23\u001b[0m\n\u001b[0m     ^\u001b[0m\n\u001b[0;31mSyntaxError\u001b[0m\u001b[0;31m:\u001b[0m invalid syntax\n"
     ]
    }
   ],
   "source": [
    "# No se pueden crear variables cuyo nombre empiece por un número\n",
    "1x = 23"
   ]
  },
  {
   "cell_type": "code",
   "execution_count": null,
   "metadata": {
    "colab": {
     "base_uri": "https://localhost:8080/"
    },
    "executionInfo": {
     "elapsed": 249,
     "status": "ok",
     "timestamp": 1645746389839,
     "user": {
      "displayName": "Camilo Gaitán",
      "photoUrl": "https://lh3.googleusercontent.com/a-/AOh14GjQXA_8SBdYbwOxYFqQvQwm4FZW3oL3Gx0J0uabLLU=s64",
      "userId": "02535021554495643434"
     },
     "user_tz": 300
    },
    "id": "-Dg07nr7A24O",
    "outputId": "18bf82d3-4819-4abb-caae-386a3bbe442d"
   },
   "outputs": [
    {
     "data": {
      "text/plain": [
       "854"
      ]
     },
     "execution_count": 5,
     "metadata": {},
     "output_type": "execute_result"
    }
   ],
   "source": [
    "x_1 = 854\n",
    "x_1"
   ]
  },
  {
   "cell_type": "code",
   "execution_count": null,
   "metadata": {
    "id": "0LldBalFA24O",
    "outputId": "c1ea82d7-888c-4a24-e4fc-4d6b651e8d56"
   },
   "outputs": [
    {
     "ename": "SyntaxError",
     "evalue": "invalid syntax (<ipython-input-8-293b1331e9d1>, line 2)",
     "output_type": "error",
     "traceback": [
      "\u001b[1;36m  File \u001b[1;32m\"<ipython-input-8-293b1331e9d1>\"\u001b[1;36m, line \u001b[1;32m2\u001b[0m\n\u001b[1;33m    def = 2\u001b[0m\n\u001b[1;37m        ^\u001b[0m\n\u001b[1;31mSyntaxError\u001b[0m\u001b[1;31m:\u001b[0m invalid syntax\n"
     ]
    }
   ],
   "source": [
    "# def es una palabra reservada\n",
    "def = 2 "
   ]
  },
  {
   "cell_type": "markdown",
   "metadata": {
    "id": "7d8xI7vXA24P"
   },
   "source": [
    "En Python los tipos primitivos son: números(int,float), cadenas de caracteres (*string*), booleanos (T,F), tuplas, listas, y diccionarios."
   ]
  },
  {
   "cell_type": "markdown",
   "metadata": {
    "id": "kF64kM4cA24P"
   },
   "source": [
    "En Python la instrucción para **imprimir por pantalla** es `print`. Por ejemplo:"
   ]
  },
  {
   "cell_type": "code",
   "execution_count": null,
   "metadata": {
    "id": "gngpq2PTA24Q"
   },
   "outputs": [],
   "source": [
    "x = 5\n",
    "y = 80"
   ]
  },
  {
   "cell_type": "code",
   "execution_count": null,
   "metadata": {
    "id": "BIwehEaEA24Q",
    "outputId": "2e8841ef-16f0-4e08-b8c7-da256a13d053"
   },
   "outputs": [
    {
     "name": "stdout",
     "output_type": "stream",
     "text": [
      "Mi variable z = 85 y una de las variable es 80\n"
     ]
    }
   ],
   "source": [
    "print('Mi variable z =',x + y,'y una de las variable es',y)\n",
    "## Comentario en cuadro de código"
   ]
  },
  {
   "cell_type": "code",
   "execution_count": null,
   "metadata": {
    "id": "h0pooAgjA24R",
    "outputId": "36c0b471-1a69-4a02-e646-340cc8eafd44"
   },
   "outputs": [
    {
     "name": "stdout",
     "output_type": "stream",
     "text": [
      "El valor de x es:  5\n",
      "El doble de x es:  10\n"
     ]
    }
   ],
   "source": [
    "print('El valor de x es: ', x)\n",
    "print('El doble de x es: ', 2 * x)"
   ]
  },
  {
   "cell_type": "markdown",
   "metadata": {
    "id": "FGPv46WaA24R"
   },
   "source": [
    "### Numéricos\n",
    "\n",
    "Son objetos que almacenan valores numéricos. Se crean al asignarles un valor. \n",
    "\n",
    "Python aceptan cuatro tipo de valores numericos:\n",
    "\n",
    "- `int`\n",
    "- `float`\n",
    "- `complex`\n",
    "\n",
    "Por ejemplo:"
   ]
  },
  {
   "cell_type": "code",
   "execution_count": null,
   "metadata": {
    "id": "8MJkbAkrA24R"
   },
   "outputs": [],
   "source": [
    "x = 23 ## Int\n",
    "y = 1.94 ## Float"
   ]
  },
  {
   "cell_type": "markdown",
   "metadata": {
    "collapsed": true,
    "id": "9gzbXyskA24S"
   },
   "source": [
    "Si queremos saber el tipo de una variable podemos utilzar la función 'type'"
   ]
  },
  {
   "cell_type": "code",
   "execution_count": null,
   "metadata": {
    "colab": {
     "base_uri": "https://localhost:8080/"
    },
    "executionInfo": {
     "elapsed": 25,
     "status": "ok",
     "timestamp": 1645746967866,
     "user": {
      "displayName": "Camilo Gaitán",
      "photoUrl": "https://lh3.googleusercontent.com/a-/AOh14GjQXA_8SBdYbwOxYFqQvQwm4FZW3oL3Gx0J0uabLLU=s64",
      "userId": "02535021554495643434"
     },
     "user_tz": 300
    },
    "id": "6vQQvCXFA24S",
    "outputId": "56b60ffa-5bfd-43bc-ba25-ad080d61e5d5"
   },
   "outputs": [
    {
     "name": "stdout",
     "output_type": "stream",
     "text": [
      "<class 'int'>\n",
      "<class 'float'>\n"
     ]
    }
   ],
   "source": [
    "print(type(x))\n",
    "print(type(y))"
   ]
  },
  {
   "cell_type": "markdown",
   "metadata": {
    "id": "sU0GO16rA24T"
   },
   "source": [
    "Datatypes casting"
   ]
  },
  {
   "cell_type": "code",
   "execution_count": null,
   "metadata": {
    "id": "cseVYfoyA24T"
   },
   "outputs": [],
   "source": [
    "## int -> función\n",
    "## float -> function\n",
    "## string -> string"
   ]
  },
  {
   "cell_type": "code",
   "execution_count": null,
   "metadata": {
    "colab": {
     "base_uri": "https://localhost:8080/"
    },
    "executionInfo": {
     "elapsed": 278,
     "status": "ok",
     "timestamp": 1645747879469,
     "user": {
      "displayName": "Camilo Gaitán",
      "photoUrl": "https://lh3.googleusercontent.com/a-/AOh14GjQXA_8SBdYbwOxYFqQvQwm4FZW3oL3Gx0J0uabLLU=s64",
      "userId": "02535021554495643434"
     },
     "user_tz": 300
    },
    "id": "cmO3E1bHA24T",
    "outputId": "9560a453-939a-4829-d210-eac40d63caef"
   },
   "outputs": [
    {
     "name": "stdout",
     "output_type": "stream",
     "text": [
      "<class 'str'>\n",
      "<class 'int'>\n"
     ]
    },
    {
     "data": {
      "text/plain": [
       "1"
      ]
     },
     "execution_count": 28,
     "metadata": {},
     "output_type": "execute_result"
    }
   ],
   "source": [
    "c = \"1\"\n",
    "print(type(c))\n",
    "c = int(c)\n",
    "print(type(c))\n",
    "c"
   ]
  },
  {
   "cell_type": "code",
   "execution_count": null,
   "metadata": {
    "colab": {
     "base_uri": "https://localhost:8080/",
     "height": 200
    },
    "executionInfo": {
     "elapsed": 272,
     "status": "error",
     "timestamp": 1645746968120,
     "user": {
      "displayName": "Camilo Gaitán",
      "photoUrl": "https://lh3.googleusercontent.com/a-/AOh14GjQXA_8SBdYbwOxYFqQvQwm4FZW3oL3Gx0J0uabLLU=s64",
      "userId": "02535021554495643434"
     },
     "user_tz": 300
    },
    "id": "sU_Y0T52A24U",
    "outputId": "84f52ec7-55f2-4cc3-97e3-990bcaa3e4a6"
   },
   "outputs": [
    {
     "ename": "ValueError",
     "evalue": "ignored",
     "output_type": "error",
     "traceback": [
      "\u001b[0;31m---------------------------------------------------------------------------\u001b[0m",
      "\u001b[0;31mValueError\u001b[0m                                Traceback (most recent call last)",
      "\u001b[0;32m<ipython-input-27-3019f7d5e8b6>\u001b[0m in \u001b[0;36m<module>\u001b[0;34m()\u001b[0m\n\u001b[1;32m      1\u001b[0m \u001b[0mc\u001b[0m\u001b[0;34m=\u001b[0m\u001b[0;34m\"hola\"\u001b[0m\u001b[0;34m\u001b[0m\u001b[0;34m\u001b[0m\u001b[0m\n\u001b[0;32m----> 2\u001b[0;31m \u001b[0mc\u001b[0m \u001b[0;34m=\u001b[0m \u001b[0mint\u001b[0m\u001b[0;34m(\u001b[0m\u001b[0mc\u001b[0m\u001b[0;34m)\u001b[0m\u001b[0;34m\u001b[0m\u001b[0;34m\u001b[0m\u001b[0m\n\u001b[0m\u001b[1;32m      3\u001b[0m \u001b[0mc\u001b[0m\u001b[0;34m\u001b[0m\u001b[0;34m\u001b[0m\u001b[0m\n",
      "\u001b[0;31mValueError\u001b[0m: invalid literal for int() with base 10: 'hola'"
     ]
    }
   ],
   "source": [
    "c=\"hola\"\n",
    "c = int(c)\n",
    "c"
   ]
  },
  {
   "cell_type": "code",
   "execution_count": null,
   "metadata": {
    "id": "8mOSHMqFA24U"
   },
   "outputs": [],
   "source": [
    "c=\"1.23\"\n",
    "c= float(c)\n",
    "c"
   ]
  },
  {
   "cell_type": "code",
   "execution_count": null,
   "metadata": {
    "id": "lbasHBqWA24V"
   },
   "outputs": [],
   "source": [
    "c = 1\n",
    "c = str(c)\n",
    "c"
   ]
  },
  {
   "cell_type": "code",
   "execution_count": null,
   "metadata": {
    "colab": {
     "base_uri": "https://localhost:8080/"
    },
    "executionInfo": {
     "elapsed": 248,
     "status": "ok",
     "timestamp": 1645748088604,
     "user": {
      "displayName": "Camilo Gaitán",
      "photoUrl": "https://lh3.googleusercontent.com/a-/AOh14GjQXA_8SBdYbwOxYFqQvQwm4FZW3oL3Gx0J0uabLLU=s64",
      "userId": "02535021554495643434"
     },
     "user_tz": 300
    },
    "id": "DIkqku_EA24V",
    "outputId": "db8c081d-a3bf-4feb-e8c4-ffc35e312bb2"
   },
   "outputs": [
    {
     "name": "stdout",
     "output_type": "stream",
     "text": [
      "23 1.94 46 3.88\n"
     ]
    }
   ],
   "source": [
    "print(x, y, 2 * x, 2 * y)"
   ]
  },
  {
   "cell_type": "markdown",
   "metadata": {
    "id": "MUa4qFCJA24V"
   },
   "source": [
    "Se pueden consultar los métodos de una variable (objeto) con la función `dir`."
   ]
  },
  {
   "cell_type": "code",
   "execution_count": null,
   "metadata": {
    "colab": {
     "base_uri": "https://localhost:8080/"
    },
    "collapsed": true,
    "executionInfo": {
     "elapsed": 220,
     "status": "ok",
     "timestamp": 1645748335263,
     "user": {
      "displayName": "Camilo Gaitán",
      "photoUrl": "https://lh3.googleusercontent.com/a-/AOh14GjQXA_8SBdYbwOxYFqQvQwm4FZW3oL3Gx0J0uabLLU=s64",
      "userId": "02535021554495643434"
     },
     "user_tz": 300
    },
    "id": "LP7SZYEzA24W",
    "outputId": "a9d91311-c795-4001-db15-309fd0e2ba85"
   },
   "outputs": [
    {
     "data": {
      "text/plain": [
       "['__abs__',\n",
       " '__add__',\n",
       " '__and__',\n",
       " '__bool__',\n",
       " '__ceil__',\n",
       " '__class__',\n",
       " '__delattr__',\n",
       " '__dir__',\n",
       " '__divmod__',\n",
       " '__doc__',\n",
       " '__eq__',\n",
       " '__float__',\n",
       " '__floor__',\n",
       " '__floordiv__',\n",
       " '__format__',\n",
       " '__ge__',\n",
       " '__getattribute__',\n",
       " '__getnewargs__',\n",
       " '__gt__',\n",
       " '__hash__',\n",
       " '__index__',\n",
       " '__init__',\n",
       " '__init_subclass__',\n",
       " '__int__',\n",
       " '__invert__',\n",
       " '__le__',\n",
       " '__lshift__',\n",
       " '__lt__',\n",
       " '__mod__',\n",
       " '__mul__',\n",
       " '__ne__',\n",
       " '__neg__',\n",
       " '__new__',\n",
       " '__or__',\n",
       " '__pos__',\n",
       " '__pow__',\n",
       " '__radd__',\n",
       " '__rand__',\n",
       " '__rdivmod__',\n",
       " '__reduce__',\n",
       " '__reduce_ex__',\n",
       " '__repr__',\n",
       " '__rfloordiv__',\n",
       " '__rlshift__',\n",
       " '__rmod__',\n",
       " '__rmul__',\n",
       " '__ror__',\n",
       " '__round__',\n",
       " '__rpow__',\n",
       " '__rrshift__',\n",
       " '__rshift__',\n",
       " '__rsub__',\n",
       " '__rtruediv__',\n",
       " '__rxor__',\n",
       " '__setattr__',\n",
       " '__sizeof__',\n",
       " '__str__',\n",
       " '__sub__',\n",
       " '__subclasshook__',\n",
       " '__truediv__',\n",
       " '__trunc__',\n",
       " '__xor__',\n",
       " 'bit_length',\n",
       " 'conjugate',\n",
       " 'denominator',\n",
       " 'from_bytes',\n",
       " 'imag',\n",
       " 'numerator',\n",
       " 'real',\n",
       " 'to_bytes']"
      ]
     },
     "execution_count": 30,
     "metadata": {},
     "output_type": "execute_result"
    }
   ],
   "source": [
    "dir(c)"
   ]
  },
  {
   "cell_type": "markdown",
   "metadata": {
    "id": "0tdOQ76xA24W"
   },
   "source": [
    "Consultar la ayuda de una función se puede hacer de dos formas:"
   ]
  },
  {
   "cell_type": "code",
   "execution_count": null,
   "metadata": {
    "id": "E9l-FpiSA24W"
   },
   "outputs": [],
   "source": [
    "str??"
   ]
  },
  {
   "cell_type": "code",
   "execution_count": null,
   "metadata": {
    "colab": {
     "base_uri": "https://localhost:8080/"
    },
    "collapsed": true,
    "executionInfo": {
     "elapsed": 255,
     "status": "ok",
     "timestamp": 1645748481130,
     "user": {
      "displayName": "Camilo Gaitán",
      "photoUrl": "https://lh3.googleusercontent.com/a-/AOh14GjQXA_8SBdYbwOxYFqQvQwm4FZW3oL3Gx0J0uabLLU=s64",
      "userId": "02535021554495643434"
     },
     "user_tz": 300
    },
    "id": "7WdfNl71A24X",
    "outputId": "0f1757a7-a6d3-4f62-b119-4bd39d1fa25d"
   },
   "outputs": [
    {
     "name": "stdout",
     "output_type": "stream",
     "text": [
      "Help on class str in module builtins:\n",
      "\n",
      "class str(object)\n",
      " |  str(object='') -> str\n",
      " |  str(bytes_or_buffer[, encoding[, errors]]) -> str\n",
      " |  \n",
      " |  Create a new string object from the given object. If encoding or\n",
      " |  errors is specified, then the object must expose a data buffer\n",
      " |  that will be decoded using the given encoding and error handler.\n",
      " |  Otherwise, returns the result of object.__str__() (if defined)\n",
      " |  or repr(object).\n",
      " |  encoding defaults to sys.getdefaultencoding().\n",
      " |  errors defaults to 'strict'.\n",
      " |  \n",
      " |  Methods defined here:\n",
      " |  \n",
      " |  __add__(self, value, /)\n",
      " |      Return self+value.\n",
      " |  \n",
      " |  __contains__(self, key, /)\n",
      " |      Return key in self.\n",
      " |  \n",
      " |  __eq__(self, value, /)\n",
      " |      Return self==value.\n",
      " |  \n",
      " |  __format__(self, format_spec, /)\n",
      " |      Return a formatted version of the string as described by format_spec.\n",
      " |  \n",
      " |  __ge__(self, value, /)\n",
      " |      Return self>=value.\n",
      " |  \n",
      " |  __getattribute__(self, name, /)\n",
      " |      Return getattr(self, name).\n",
      " |  \n",
      " |  __getitem__(self, key, /)\n",
      " |      Return self[key].\n",
      " |  \n",
      " |  __getnewargs__(...)\n",
      " |  \n",
      " |  __gt__(self, value, /)\n",
      " |      Return self>value.\n",
      " |  \n",
      " |  __hash__(self, /)\n",
      " |      Return hash(self).\n",
      " |  \n",
      " |  __iter__(self, /)\n",
      " |      Implement iter(self).\n",
      " |  \n",
      " |  __le__(self, value, /)\n",
      " |      Return self<=value.\n",
      " |  \n",
      " |  __len__(self, /)\n",
      " |      Return len(self).\n",
      " |  \n",
      " |  __lt__(self, value, /)\n",
      " |      Return self<value.\n",
      " |  \n",
      " |  __mod__(self, value, /)\n",
      " |      Return self%value.\n",
      " |  \n",
      " |  __mul__(self, value, /)\n",
      " |      Return self*value.\n",
      " |  \n",
      " |  __ne__(self, value, /)\n",
      " |      Return self!=value.\n",
      " |  \n",
      " |  __repr__(self, /)\n",
      " |      Return repr(self).\n",
      " |  \n",
      " |  __rmod__(self, value, /)\n",
      " |      Return value%self.\n",
      " |  \n",
      " |  __rmul__(self, value, /)\n",
      " |      Return value*self.\n",
      " |  \n",
      " |  __sizeof__(self, /)\n",
      " |      Return the size of the string in memory, in bytes.\n",
      " |  \n",
      " |  __str__(self, /)\n",
      " |      Return str(self).\n",
      " |  \n",
      " |  capitalize(self, /)\n",
      " |      Return a capitalized version of the string.\n",
      " |      \n",
      " |      More specifically, make the first character have upper case and the rest lower\n",
      " |      case.\n",
      " |  \n",
      " |  casefold(self, /)\n",
      " |      Return a version of the string suitable for caseless comparisons.\n",
      " |  \n",
      " |  center(self, width, fillchar=' ', /)\n",
      " |      Return a centered string of length width.\n",
      " |      \n",
      " |      Padding is done using the specified fill character (default is a space).\n",
      " |  \n",
      " |  count(...)\n",
      " |      S.count(sub[, start[, end]]) -> int\n",
      " |      \n",
      " |      Return the number of non-overlapping occurrences of substring sub in\n",
      " |      string S[start:end].  Optional arguments start and end are\n",
      " |      interpreted as in slice notation.\n",
      " |  \n",
      " |  encode(self, /, encoding='utf-8', errors='strict')\n",
      " |      Encode the string using the codec registered for encoding.\n",
      " |      \n",
      " |      encoding\n",
      " |        The encoding in which to encode the string.\n",
      " |      errors\n",
      " |        The error handling scheme to use for encoding errors.\n",
      " |        The default is 'strict' meaning that encoding errors raise a\n",
      " |        UnicodeEncodeError.  Other possible values are 'ignore', 'replace' and\n",
      " |        'xmlcharrefreplace' as well as any other name registered with\n",
      " |        codecs.register_error that can handle UnicodeEncodeErrors.\n",
      " |  \n",
      " |  endswith(...)\n",
      " |      S.endswith(suffix[, start[, end]]) -> bool\n",
      " |      \n",
      " |      Return True if S ends with the specified suffix, False otherwise.\n",
      " |      With optional start, test S beginning at that position.\n",
      " |      With optional end, stop comparing S at that position.\n",
      " |      suffix can also be a tuple of strings to try.\n",
      " |  \n",
      " |  expandtabs(self, /, tabsize=8)\n",
      " |      Return a copy where all tab characters are expanded using spaces.\n",
      " |      \n",
      " |      If tabsize is not given, a tab size of 8 characters is assumed.\n",
      " |  \n",
      " |  find(...)\n",
      " |      S.find(sub[, start[, end]]) -> int\n",
      " |      \n",
      " |      Return the lowest index in S where substring sub is found,\n",
      " |      such that sub is contained within S[start:end].  Optional\n",
      " |      arguments start and end are interpreted as in slice notation.\n",
      " |      \n",
      " |      Return -1 on failure.\n",
      " |  \n",
      " |  format(...)\n",
      " |      S.format(*args, **kwargs) -> str\n",
      " |      \n",
      " |      Return a formatted version of S, using substitutions from args and kwargs.\n",
      " |      The substitutions are identified by braces ('{' and '}').\n",
      " |  \n",
      " |  format_map(...)\n",
      " |      S.format_map(mapping) -> str\n",
      " |      \n",
      " |      Return a formatted version of S, using substitutions from mapping.\n",
      " |      The substitutions are identified by braces ('{' and '}').\n",
      " |  \n",
      " |  index(...)\n",
      " |      S.index(sub[, start[, end]]) -> int\n",
      " |      \n",
      " |      Return the lowest index in S where substring sub is found, \n",
      " |      such that sub is contained within S[start:end].  Optional\n",
      " |      arguments start and end are interpreted as in slice notation.\n",
      " |      \n",
      " |      Raises ValueError when the substring is not found.\n",
      " |  \n",
      " |  isalnum(self, /)\n",
      " |      Return True if the string is an alpha-numeric string, False otherwise.\n",
      " |      \n",
      " |      A string is alpha-numeric if all characters in the string are alpha-numeric and\n",
      " |      there is at least one character in the string.\n",
      " |  \n",
      " |  isalpha(self, /)\n",
      " |      Return True if the string is an alphabetic string, False otherwise.\n",
      " |      \n",
      " |      A string is alphabetic if all characters in the string are alphabetic and there\n",
      " |      is at least one character in the string.\n",
      " |  \n",
      " |  isascii(self, /)\n",
      " |      Return True if all characters in the string are ASCII, False otherwise.\n",
      " |      \n",
      " |      ASCII characters have code points in the range U+0000-U+007F.\n",
      " |      Empty string is ASCII too.\n",
      " |  \n",
      " |  isdecimal(self, /)\n",
      " |      Return True if the string is a decimal string, False otherwise.\n",
      " |      \n",
      " |      A string is a decimal string if all characters in the string are decimal and\n",
      " |      there is at least one character in the string.\n",
      " |  \n",
      " |  isdigit(self, /)\n",
      " |      Return True if the string is a digit string, False otherwise.\n",
      " |      \n",
      " |      A string is a digit string if all characters in the string are digits and there\n",
      " |      is at least one character in the string.\n",
      " |  \n",
      " |  isidentifier(self, /)\n",
      " |      Return True if the string is a valid Python identifier, False otherwise.\n",
      " |      \n",
      " |      Use keyword.iskeyword() to test for reserved identifiers such as \"def\" and\n",
      " |      \"class\".\n",
      " |  \n",
      " |  islower(self, /)\n",
      " |      Return True if the string is a lowercase string, False otherwise.\n",
      " |      \n",
      " |      A string is lowercase if all cased characters in the string are lowercase and\n",
      " |      there is at least one cased character in the string.\n",
      " |  \n",
      " |  isnumeric(self, /)\n",
      " |      Return True if the string is a numeric string, False otherwise.\n",
      " |      \n",
      " |      A string is numeric if all characters in the string are numeric and there is at\n",
      " |      least one character in the string.\n",
      " |  \n",
      " |  isprintable(self, /)\n",
      " |      Return True if the string is printable, False otherwise.\n",
      " |      \n",
      " |      A string is printable if all of its characters are considered printable in\n",
      " |      repr() or if it is empty.\n",
      " |  \n",
      " |  isspace(self, /)\n",
      " |      Return True if the string is a whitespace string, False otherwise.\n",
      " |      \n",
      " |      A string is whitespace if all characters in the string are whitespace and there\n",
      " |      is at least one character in the string.\n",
      " |  \n",
      " |  istitle(self, /)\n",
      " |      Return True if the string is a title-cased string, False otherwise.\n",
      " |      \n",
      " |      In a title-cased string, upper- and title-case characters may only\n",
      " |      follow uncased characters and lowercase characters only cased ones.\n",
      " |  \n",
      " |  isupper(self, /)\n",
      " |      Return True if the string is an uppercase string, False otherwise.\n",
      " |      \n",
      " |      A string is uppercase if all cased characters in the string are uppercase and\n",
      " |      there is at least one cased character in the string.\n",
      " |  \n",
      " |  join(self, iterable, /)\n",
      " |      Concatenate any number of strings.\n",
      " |      \n",
      " |      The string whose method is called is inserted in between each given string.\n",
      " |      The result is returned as a new string.\n",
      " |      \n",
      " |      Example: '.'.join(['ab', 'pq', 'rs']) -> 'ab.pq.rs'\n",
      " |  \n",
      " |  ljust(self, width, fillchar=' ', /)\n",
      " |      Return a left-justified string of length width.\n",
      " |      \n",
      " |      Padding is done using the specified fill character (default is a space).\n",
      " |  \n",
      " |  lower(self, /)\n",
      " |      Return a copy of the string converted to lowercase.\n",
      " |  \n",
      " |  lstrip(self, chars=None, /)\n",
      " |      Return a copy of the string with leading whitespace removed.\n",
      " |      \n",
      " |      If chars is given and not None, remove characters in chars instead.\n",
      " |  \n",
      " |  partition(self, sep, /)\n",
      " |      Partition the string into three parts using the given separator.\n",
      " |      \n",
      " |      This will search for the separator in the string.  If the separator is found,\n",
      " |      returns a 3-tuple containing the part before the separator, the separator\n",
      " |      itself, and the part after it.\n",
      " |      \n",
      " |      If the separator is not found, returns a 3-tuple containing the original string\n",
      " |      and two empty strings.\n",
      " |  \n",
      " |  replace(self, old, new, count=-1, /)\n",
      " |      Return a copy with all occurrences of substring old replaced by new.\n",
      " |      \n",
      " |        count\n",
      " |          Maximum number of occurrences to replace.\n",
      " |          -1 (the default value) means replace all occurrences.\n",
      " |      \n",
      " |      If the optional argument count is given, only the first count occurrences are\n",
      " |      replaced.\n",
      " |  \n",
      " |  rfind(...)\n",
      " |      S.rfind(sub[, start[, end]]) -> int\n",
      " |      \n",
      " |      Return the highest index in S where substring sub is found,\n",
      " |      such that sub is contained within S[start:end].  Optional\n",
      " |      arguments start and end are interpreted as in slice notation.\n",
      " |      \n",
      " |      Return -1 on failure.\n",
      " |  \n",
      " |  rindex(...)\n",
      " |      S.rindex(sub[, start[, end]]) -> int\n",
      " |      \n",
      " |      Return the highest index in S where substring sub is found,\n",
      " |      such that sub is contained within S[start:end].  Optional\n",
      " |      arguments start and end are interpreted as in slice notation.\n",
      " |      \n",
      " |      Raises ValueError when the substring is not found.\n",
      " |  \n",
      " |  rjust(self, width, fillchar=' ', /)\n",
      " |      Return a right-justified string of length width.\n",
      " |      \n",
      " |      Padding is done using the specified fill character (default is a space).\n",
      " |  \n",
      " |  rpartition(self, sep, /)\n",
      " |      Partition the string into three parts using the given separator.\n",
      " |      \n",
      " |      This will search for the separator in the string, starting at the end. If\n",
      " |      the separator is found, returns a 3-tuple containing the part before the\n",
      " |      separator, the separator itself, and the part after it.\n",
      " |      \n",
      " |      If the separator is not found, returns a 3-tuple containing two empty strings\n",
      " |      and the original string.\n",
      " |  \n",
      " |  rsplit(self, /, sep=None, maxsplit=-1)\n",
      " |      Return a list of the words in the string, using sep as the delimiter string.\n",
      " |      \n",
      " |        sep\n",
      " |          The delimiter according which to split the string.\n",
      " |          None (the default value) means split according to any whitespace,\n",
      " |          and discard empty strings from the result.\n",
      " |        maxsplit\n",
      " |          Maximum number of splits to do.\n",
      " |          -1 (the default value) means no limit.\n",
      " |      \n",
      " |      Splits are done starting at the end of the string and working to the front.\n",
      " |  \n",
      " |  rstrip(self, chars=None, /)\n",
      " |      Return a copy of the string with trailing whitespace removed.\n",
      " |      \n",
      " |      If chars is given and not None, remove characters in chars instead.\n",
      " |  \n",
      " |  split(self, /, sep=None, maxsplit=-1)\n",
      " |      Return a list of the words in the string, using sep as the delimiter string.\n",
      " |      \n",
      " |      sep\n",
      " |        The delimiter according which to split the string.\n",
      " |        None (the default value) means split according to any whitespace,\n",
      " |        and discard empty strings from the result.\n",
      " |      maxsplit\n",
      " |        Maximum number of splits to do.\n",
      " |        -1 (the default value) means no limit.\n",
      " |  \n",
      " |  splitlines(self, /, keepends=False)\n",
      " |      Return a list of the lines in the string, breaking at line boundaries.\n",
      " |      \n",
      " |      Line breaks are not included in the resulting list unless keepends is given and\n",
      " |      true.\n",
      " |  \n",
      " |  startswith(...)\n",
      " |      S.startswith(prefix[, start[, end]]) -> bool\n",
      " |      \n",
      " |      Return True if S starts with the specified prefix, False otherwise.\n",
      " |      With optional start, test S beginning at that position.\n",
      " |      With optional end, stop comparing S at that position.\n",
      " |      prefix can also be a tuple of strings to try.\n",
      " |  \n",
      " |  strip(self, chars=None, /)\n",
      " |      Return a copy of the string with leading and trailing whitespace removed.\n",
      " |      \n",
      " |      If chars is given and not None, remove characters in chars instead.\n",
      " |  \n",
      " |  swapcase(self, /)\n",
      " |      Convert uppercase characters to lowercase and lowercase characters to uppercase.\n",
      " |  \n",
      " |  title(self, /)\n",
      " |      Return a version of the string where each word is titlecased.\n",
      " |      \n",
      " |      More specifically, words start with uppercased characters and all remaining\n",
      " |      cased characters have lower case.\n",
      " |  \n",
      " |  translate(self, table, /)\n",
      " |      Replace each character in the string using the given translation table.\n",
      " |      \n",
      " |        table\n",
      " |          Translation table, which must be a mapping of Unicode ordinals to\n",
      " |          Unicode ordinals, strings, or None.\n",
      " |      \n",
      " |      The table must implement lookup/indexing via __getitem__, for instance a\n",
      " |      dictionary or list.  If this operation raises LookupError, the character is\n",
      " |      left untouched.  Characters mapped to None are deleted.\n",
      " |  \n",
      " |  upper(self, /)\n",
      " |      Return a copy of the string converted to uppercase.\n",
      " |  \n",
      " |  zfill(self, width, /)\n",
      " |      Pad a numeric string with zeros on the left, to fill a field of the given width.\n",
      " |      \n",
      " |      The string is never truncated.\n",
      " |  \n",
      " |  ----------------------------------------------------------------------\n",
      " |  Static methods defined here:\n",
      " |  \n",
      " |  __new__(*args, **kwargs) from builtins.type\n",
      " |      Create and return a new object.  See help(type) for accurate signature.\n",
      " |  \n",
      " |  maketrans(x, y=None, z=None, /)\n",
      " |      Return a translation table usable for str.translate().\n",
      " |      \n",
      " |      If there is only one argument, it must be a dictionary mapping Unicode\n",
      " |      ordinals (integers) or characters to Unicode ordinals, strings or None.\n",
      " |      Character keys will be then converted to ordinals.\n",
      " |      If there are two arguments, they must be strings of equal length, and\n",
      " |      in the resulting dictionary, each character in x will be mapped to the\n",
      " |      character at the same position in y. If there is a third argument, it\n",
      " |      must be a string, whose characters will be mapped to None in the result.\n",
      "\n"
     ]
    }
   ],
   "source": [
    "help(str)"
   ]
  },
  {
   "cell_type": "code",
   "execution_count": null,
   "metadata": {
    "id": "tHKEcc6BA24X"
   },
   "outputs": [],
   "source": [
    "z = 2 + 2j # Complex"
   ]
  },
  {
   "cell_type": "code",
   "execution_count": null,
   "metadata": {
    "colab": {
     "base_uri": "https://localhost:8080/"
    },
    "executionInfo": {
     "elapsed": 3,
     "status": "ok",
     "timestamp": 1645749004432,
     "user": {
      "displayName": "Camilo Gaitán",
      "photoUrl": "https://lh3.googleusercontent.com/a-/AOh14GjQXA_8SBdYbwOxYFqQvQwm4FZW3oL3Gx0J0uabLLU=s64",
      "userId": "02535021554495643434"
     },
     "user_tz": 300
    },
    "id": "lfUFa3DPA24X",
    "outputId": "9fb45f66-1bb6-494a-bae7-e2479e19e587"
   },
   "outputs": [
    {
     "data": {
      "text/plain": [
       "complex"
      ]
     },
     "execution_count": 35,
     "metadata": {},
     "output_type": "execute_result"
    }
   ],
   "source": [
    "type(z)"
   ]
  },
  {
   "cell_type": "code",
   "execution_count": null,
   "metadata": {
    "id": "PmyPoH7dA24Y"
   },
   "outputs": [],
   "source": [
    "y = 2"
   ]
  },
  {
   "cell_type": "code",
   "execution_count": null,
   "metadata": {
    "id": "rDYdwM52A24Y"
   },
   "outputs": [],
   "source": [
    "print(type(z), z)"
   ]
  },
  {
   "cell_type": "code",
   "execution_count": null,
   "metadata": {
    "colab": {
     "base_uri": "https://localhost:8080/"
    },
    "executionInfo": {
     "elapsed": 217,
     "status": "ok",
     "timestamp": 1645749023181,
     "user": {
      "displayName": "Camilo Gaitán",
      "photoUrl": "https://lh3.googleusercontent.com/a-/AOh14GjQXA_8SBdYbwOxYFqQvQwm4FZW3oL3Gx0J0uabLLU=s64",
      "userId": "02535021554495643434"
     },
     "user_tz": 300
    },
    "id": "TZMjw0HLA24Y",
    "outputId": "afb392a5-4517-4437-bfea-9a37b7a6137a"
   },
   "outputs": [
    {
     "name": "stdout",
     "output_type": "stream",
     "text": [
      "<class 'complex'> (23+4j)\n"
     ]
    }
   ],
   "source": [
    "w = x + 4j\n",
    "print(type(w), w)"
   ]
  },
  {
   "cell_type": "code",
   "execution_count": null,
   "metadata": {
    "id": "e0PDGOg3A24Z"
   },
   "outputs": [],
   "source": [
    "w = complex(x,y)\n",
    "print(w)"
   ]
  },
  {
   "cell_type": "code",
   "execution_count": null,
   "metadata": {
    "colab": {
     "base_uri": "https://localhost:8080/"
    },
    "executionInfo": {
     "elapsed": 254,
     "status": "ok",
     "timestamp": 1645749027840,
     "user": {
      "displayName": "Camilo Gaitán",
      "photoUrl": "https://lh3.googleusercontent.com/a-/AOh14GjQXA_8SBdYbwOxYFqQvQwm4FZW3oL3Gx0J0uabLLU=s64",
      "userId": "02535021554495643434"
     },
     "user_tz": 300
    },
    "id": "RgMjTyFxA24Z",
    "outputId": "a963e4a2-44b7-46cb-f6d2-a75467b4ad41"
   },
   "outputs": [
    {
     "name": "stdout",
     "output_type": "stream",
     "text": [
      "<class 'complex'> (23+1.94j)\n"
     ]
    }
   ],
   "source": [
    "h = complex(x,y)     # Cast a complex\n",
    "print(type(h),h)"
   ]
  },
  {
   "cell_type": "code",
   "execution_count": null,
   "metadata": {
    "id": "5rXHEKfXA24Z"
   },
   "outputs": [],
   "source": [
    "h"
   ]
  },
  {
   "cell_type": "code",
   "execution_count": null,
   "metadata": {
    "colab": {
     "base_uri": "https://localhost:8080/"
    },
    "executionInfo": {
     "elapsed": 231,
     "status": "ok",
     "timestamp": 1645749730807,
     "user": {
      "displayName": "Camilo Gaitán",
      "photoUrl": "https://lh3.googleusercontent.com/a-/AOh14GjQXA_8SBdYbwOxYFqQvQwm4FZW3oL3Gx0J0uabLLU=s64",
      "userId": "02535021554495643434"
     },
     "user_tz": 300
    },
    "id": "JlK016ChA24Z",
    "outputId": "95f0989e-7671-4afb-baf5-3316a150bfcf"
   },
   "outputs": [
    {
     "data": {
      "text/plain": [
       "23.0"
      ]
     },
     "execution_count": 43,
     "metadata": {},
     "output_type": "execute_result"
    }
   ],
   "source": [
    "h.real"
   ]
  },
  {
   "cell_type": "code",
   "execution_count": null,
   "metadata": {
    "colab": {
     "base_uri": "https://localhost:8080/"
    },
    "executionInfo": {
     "elapsed": 254,
     "status": "ok",
     "timestamp": 1645749728258,
     "user": {
      "displayName": "Camilo Gaitán",
      "photoUrl": "https://lh3.googleusercontent.com/a-/AOh14GjQXA_8SBdYbwOxYFqQvQwm4FZW3oL3Gx0J0uabLLU=s64",
      "userId": "02535021554495643434"
     },
     "user_tz": 300
    },
    "id": "3zLt7zGJA24a",
    "outputId": "9f7f0d05-a7ee-4877-a2d1-ae45105af36a"
   },
   "outputs": [
    {
     "data": {
      "text/plain": [
       "1.94"
      ]
     },
     "execution_count": 42,
     "metadata": {},
     "output_type": "execute_result"
    }
   ],
   "source": [
    "h.imag"
   ]
  },
  {
   "cell_type": "markdown",
   "metadata": {
    "id": "RmXiiOpyA24a"
   },
   "source": [
    "### Cadenas de caracteres (Strings)\n",
    "\n",
    "Consisten en secuencias de caracteres dentro de comillas. En Python las variables *strings* se pueden declarar indistintamente usando comillas simples('') o dobles (\"\")."
   ]
  },
  {
   "cell_type": "code",
   "execution_count": null,
   "metadata": {
    "id": "HHjsf1olA24a"
   },
   "outputs": [],
   "source": [
    "nombre = 'Carlos'\n",
    "apellido = \"Perez\""
   ]
  },
  {
   "cell_type": "markdown",
   "metadata": {
    "id": "C05E8PWsA24a"
   },
   "source": [
    "Las cadenas de caracteres **son objetos *inmutables***, es decir, una vez creado el literal no puede modificarse. Por ejemplo:"
   ]
  },
  {
   "cell_type": "code",
   "execution_count": null,
   "metadata": {
    "colab": {
     "base_uri": "https://localhost:8080/"
    },
    "executionInfo": {
     "elapsed": 28,
     "status": "ok",
     "timestamp": 1645746957012,
     "user": {
      "displayName": "Camilo Gaitán",
      "photoUrl": "https://lh3.googleusercontent.com/a-/AOh14GjQXA_8SBdYbwOxYFqQvQwm4FZW3oL3Gx0J0uabLLU=s64",
      "userId": "02535021554495643434"
     },
     "user_tz": 300
    },
    "id": "FvRyw2AnA24b",
    "outputId": "fe60e134-6df3-493d-c627-cf58f79a2106"
   },
   "outputs": [
    {
     "data": {
      "text/plain": [
       "str"
      ]
     },
     "execution_count": 8,
     "metadata": {},
     "output_type": "execute_result"
    }
   ],
   "source": [
    "type(apellido)"
   ]
  },
  {
   "cell_type": "code",
   "execution_count": null,
   "metadata": {
    "colab": {
     "base_uri": "https://localhost:8080/",
     "height": 35
    },
    "executionInfo": {
     "elapsed": 225,
     "status": "ok",
     "timestamp": 1645750244430,
     "user": {
      "displayName": "Camilo Gaitán",
      "photoUrl": "https://lh3.googleusercontent.com/a-/AOh14GjQXA_8SBdYbwOxYFqQvQwm4FZW3oL3Gx0J0uabLLU=s64",
      "userId": "02535021554495643434"
     },
     "user_tz": 300
    },
    "id": "ls0XL72JA24b",
    "outputId": "3ff114ed-a3e9-4f69-e535-6140ad086ebc"
   },
   "outputs": [
    {
     "data": {
      "application/vnd.google.colaboratory.intrinsic+json": {
       "type": "string"
      },
      "text/plain": [
       "'Ana isabel'"
      ]
     },
     "execution_count": 48,
     "metadata": {},
     "output_type": "execute_result"
    }
   ],
   "source": [
    "nombre = \"ana isabel\"\n",
    "nombre.upper() .lower() .capitalize()\n",
    "## Lower = Coloca todo texto en minúscula\n",
    "## Capitalize = Primera letra del texto en Mayúscula\n",
    "## upper = Vuelve todo en mayúscula"
   ]
  },
  {
   "cell_type": "code",
   "execution_count": null,
   "metadata": {
    "id": "7h7lhyBhA24b"
   },
   "outputs": [],
   "source": [
    "B = nombre.lower().capitalize()"
   ]
  },
  {
   "cell_type": "code",
   "execution_count": null,
   "metadata": {
    "colab": {
     "base_uri": "https://localhost:8080/",
     "height": 35
    },
    "executionInfo": {
     "elapsed": 246,
     "status": "ok",
     "timestamp": 1645750321215,
     "user": {
      "displayName": "Camilo Gaitán",
      "photoUrl": "https://lh3.googleusercontent.com/a-/AOh14GjQXA_8SBdYbwOxYFqQvQwm4FZW3oL3Gx0J0uabLLU=s64",
      "userId": "02535021554495643434"
     },
     "user_tz": 300
    },
    "id": "L2uebl2KA24b",
    "outputId": "0e318f13-a80b-4cf6-8f63-0c6e590e946f"
   },
   "outputs": [
    {
     "data": {
      "application/vnd.google.colaboratory.intrinsic+json": {
       "type": "string"
      },
      "text/plain": [
       "'Ana isabel'"
      ]
     },
     "execution_count": 50,
     "metadata": {},
     "output_type": "execute_result"
    }
   ],
   "source": [
    "B"
   ]
  },
  {
   "cell_type": "code",
   "execution_count": null,
   "metadata": {
    "colab": {
     "base_uri": "https://localhost:8080/",
     "height": 35
    },
    "executionInfo": {
     "elapsed": 25,
     "status": "ok",
     "timestamp": 1645746957018,
     "user": {
      "displayName": "Camilo Gaitán",
      "photoUrl": "https://lh3.googleusercontent.com/a-/AOh14GjQXA_8SBdYbwOxYFqQvQwm4FZW3oL3Gx0J0uabLLU=s64",
      "userId": "02535021554495643434"
     },
     "user_tz": 300
    },
    "id": "eHFqpzavA24c",
    "outputId": "9711795b-36f8-4fdc-f3ff-d67b8cdfd2b0"
   },
   "outputs": [
    {
     "data": {
      "application/vnd.google.colaboratory.intrinsic+json": {
       "type": "string"
      },
      "text/plain": [
       "'Ana Isabel'"
      ]
     },
     "execution_count": 12,
     "metadata": {},
     "output_type": "execute_result"
    }
   ],
   "source": [
    "nombre"
   ]
  },
  {
   "cell_type": "code",
   "execution_count": null,
   "metadata": {
    "colab": {
     "base_uri": "https://localhost:8080/",
     "height": 35
    },
    "executionInfo": {
     "elapsed": 318,
     "status": "ok",
     "timestamp": 1645746957313,
     "user": {
      "displayName": "Camilo Gaitán",
      "photoUrl": "https://lh3.googleusercontent.com/a-/AOh14GjQXA_8SBdYbwOxYFqQvQwm4FZW3oL3Gx0J0uabLLU=s64",
      "userId": "02535021554495643434"
     },
     "user_tz": 300
    },
    "id": "q9q9-wZlA24c",
    "outputId": "08cdf1b3-efcb-4fb4-84c9-99c9d0795da1"
   },
   "outputs": [
    {
     "data": {
      "application/vnd.google.colaboratory.intrinsic+json": {
       "type": "string"
      },
      "text/plain": [
       "'ana isabel'"
      ]
     },
     "execution_count": 13,
     "metadata": {},
     "output_type": "execute_result"
    }
   ],
   "source": [
    "nombre.lower() ## Ejecutando una función pero no estoy guardando el resultado\n",
    "## nombre = nombre.lower()"
   ]
  },
  {
   "cell_type": "code",
   "execution_count": null,
   "metadata": {
    "colab": {
     "base_uri": "https://localhost:8080/",
     "height": 35
    },
    "executionInfo": {
     "elapsed": 41,
     "status": "ok",
     "timestamp": 1645746957314,
     "user": {
      "displayName": "Camilo Gaitán",
      "photoUrl": "https://lh3.googleusercontent.com/a-/AOh14GjQXA_8SBdYbwOxYFqQvQwm4FZW3oL3Gx0J0uabLLU=s64",
      "userId": "02535021554495643434"
     },
     "user_tz": 300
    },
    "id": "NGO6hy0bA24c",
    "outputId": "01572487-ff0a-49a1-dc28-aa06f7c4fd3e"
   },
   "outputs": [
    {
     "data": {
      "application/vnd.google.colaboratory.intrinsic+json": {
       "type": "string"
      },
      "text/plain": [
       "'Ana Isabel'"
      ]
     },
     "execution_count": 14,
     "metadata": {},
     "output_type": "execute_result"
    }
   ],
   "source": [
    "nombre"
   ]
  },
  {
   "cell_type": "code",
   "execution_count": null,
   "metadata": {
    "colab": {
     "base_uri": "https://localhost:8080/",
     "height": 35
    },
    "executionInfo": {
     "elapsed": 10,
     "status": "ok",
     "timestamp": 1645750543358,
     "user": {
      "displayName": "Camilo Gaitán",
      "photoUrl": "https://lh3.googleusercontent.com/a-/AOh14GjQXA_8SBdYbwOxYFqQvQwm4FZW3oL3Gx0J0uabLLU=s64",
      "userId": "02535021554495643434"
     },
     "user_tz": 300
    },
    "id": "oUUI9CBhA24d",
    "outputId": "50ccb887-e6ea-48c1-e76b-3d3bd9f22a85"
   },
   "outputs": [
    {
     "data": {
      "application/vnd.google.colaboratory.intrinsic+json": {
       "type": "string"
      },
      "text/plain": [
       "' '"
      ]
     },
     "execution_count": 53,
     "metadata": {},
     "output_type": "execute_result"
    }
   ],
   "source": [
    "len(nombre)\n",
    "nombre[3]\n",
    "## Los textos tienen longitud, donde el espacio cuenta\n",
    "## Python en posiciones empieza desde 0"
   ]
  },
  {
   "cell_type": "code",
   "execution_count": null,
   "metadata": {
    "colab": {
     "base_uri": "https://localhost:8080/"
    },
    "executionInfo": {
     "elapsed": 217,
     "status": "ok",
     "timestamp": 1645751191643,
     "user": {
      "displayName": "Camilo Gaitán",
      "photoUrl": "https://lh3.googleusercontent.com/a-/AOh14GjQXA_8SBdYbwOxYFqQvQwm4FZW3oL3Gx0J0uabLLU=s64",
      "userId": "02535021554495643434"
     },
     "user_tz": 300
    },
    "id": "IwlIKT3OA24d",
    "outputId": "d8862e4e-350f-4669-b8a2-07659b01169f"
   },
   "outputs": [
    {
     "name": "stdout",
     "output_type": "stream",
     "text": [
      "Ana isabel\n"
     ]
    }
   ],
   "source": [
    "## Explique el contenido brevemente\n",
    "## Imprimo longitud y posición 1 de la palabra\n",
    "print(B[0:15])"
   ]
  },
  {
   "cell_type": "code",
   "execution_count": null,
   "metadata": {
    "id": "qJxndZKGA24d"
   },
   "outputs": [],
   "source": [
    "# Esto es un comentario"
   ]
  },
  {
   "cell_type": "markdown",
   "metadata": {
    "id": "zBnxZ6ZTA24d"
   },
   "source": [
    "Una misma variable puede referenciar a distintos tipos de datos, sin necesidad de declarar explícitamente su tipo."
   ]
  },
  {
   "cell_type": "code",
   "execution_count": null,
   "metadata": {
    "colab": {
     "base_uri": "https://localhost:8080/"
    },
    "executionInfo": {
     "elapsed": 35,
     "status": "ok",
     "timestamp": 1645746957317,
     "user": {
      "displayName": "Camilo Gaitán",
      "photoUrl": "https://lh3.googleusercontent.com/a-/AOh14GjQXA_8SBdYbwOxYFqQvQwm4FZW3oL3Gx0J0uabLLU=s64",
      "userId": "02535021554495643434"
     },
     "user_tz": 300
    },
    "id": "v5XThJvnA24e",
    "outputId": "c06e78b1-fe4a-497d-fa06-7332ebbbfd85"
   },
   "outputs": [
    {
     "name": "stdout",
     "output_type": "stream",
     "text": [
      "<class 'str'> a\n"
     ]
    }
   ],
   "source": [
    "x = 'a'\n",
    "print(type(x), x)"
   ]
  },
  {
   "cell_type": "code",
   "execution_count": null,
   "metadata": {
    "colab": {
     "base_uri": "https://localhost:8080/"
    },
    "executionInfo": {
     "elapsed": 34,
     "status": "ok",
     "timestamp": 1645746957318,
     "user": {
      "displayName": "Camilo Gaitán",
      "photoUrl": "https://lh3.googleusercontent.com/a-/AOh14GjQXA_8SBdYbwOxYFqQvQwm4FZW3oL3Gx0J0uabLLU=s64",
      "userId": "02535021554495643434"
     },
     "user_tz": 300
    },
    "id": "XLuAdpmbA24e",
    "outputId": "18bdc117-1994-4fa5-ef67-98ced7172c8e"
   },
   "outputs": [
    {
     "data": {
      "text/plain": [
       "str"
      ]
     },
     "execution_count": 19,
     "metadata": {},
     "output_type": "execute_result"
    }
   ],
   "source": [
    "type(x)"
   ]
  },
  {
   "cell_type": "markdown",
   "metadata": {
    "id": "yYrMVcy6A24e"
   },
   "source": [
    "Una cadena en Python es una **colección ordenada de caracteres**. Se puede acceder a cada caracter de la cadena a través de su **posición**.\n",
    "<img src=\"img/indexing_string.png\">"
   ]
  },
  {
   "cell_type": "code",
   "execution_count": null,
   "metadata": {
    "colab": {
     "base_uri": "https://localhost:8080/"
    },
    "executionInfo": {
     "elapsed": 34,
     "status": "ok",
     "timestamp": 1645746957320,
     "user": {
      "displayName": "Camilo Gaitán",
      "photoUrl": "https://lh3.googleusercontent.com/a-/AOh14GjQXA_8SBdYbwOxYFqQvQwm4FZW3oL3Gx0J0uabLLU=s64",
      "userId": "02535021554495643434"
     },
     "user_tz": 300
    },
    "id": "lPtJbppQA24e",
    "outputId": "c0454635-d9c5-401f-e255-54b2a7a9ef8e"
   },
   "outputs": [
    {
     "name": "stdout",
     "output_type": "stream",
     "text": [
      "hello\n",
      "e\n"
     ]
    }
   ],
   "source": [
    "cadena = \"hello\"\n",
    "print(cadena[0:len(cadena)])\n",
    "print(cadena[1])"
   ]
  },
  {
   "cell_type": "code",
   "execution_count": null,
   "metadata": {
    "colab": {
     "base_uri": "https://localhost:8080/",
     "height": 35
    },
    "executionInfo": {
     "elapsed": 33,
     "status": "ok",
     "timestamp": 1645746957320,
     "user": {
      "displayName": "Camilo Gaitán",
      "photoUrl": "https://lh3.googleusercontent.com/a-/AOh14GjQXA_8SBdYbwOxYFqQvQwm4FZW3oL3Gx0J0uabLLU=s64",
      "userId": "02535021554495643434"
     },
     "user_tz": 300
    },
    "id": "c1MAwkDlA24f",
    "outputId": "3bedaa71-d402-4e00-e3ed-68a100f1945e"
   },
   "outputs": [
    {
     "data": {
      "application/vnd.google.colaboratory.intrinsic+json": {
       "type": "string"
      },
      "text/plain": [
       "'hel'"
      ]
     },
     "execution_count": 21,
     "metadata": {},
     "output_type": "execute_result"
    }
   ],
   "source": [
    "cadena[0:3]"
   ]
  },
  {
   "cell_type": "code",
   "execution_count": null,
   "metadata": {
    "colab": {
     "base_uri": "https://localhost:8080/",
     "height": 183
    },
    "executionInfo": {
     "elapsed": 275,
     "status": "error",
     "timestamp": 1645746957565,
     "user": {
      "displayName": "Camilo Gaitán",
      "photoUrl": "https://lh3.googleusercontent.com/a-/AOh14GjQXA_8SBdYbwOxYFqQvQwm4FZW3oL3Gx0J0uabLLU=s64",
      "userId": "02535021554495643434"
     },
     "user_tz": 300
    },
    "id": "Lpg3VwSCA24f",
    "outputId": "64b4b53a-ae04-42ae-97a9-0a102842f83e"
   },
   "outputs": [
    {
     "ename": "TypeError",
     "evalue": "ignored",
     "output_type": "error",
     "traceback": [
      "\u001b[0;31m---------------------------------------------------------------------------\u001b[0m",
      "\u001b[0;31mTypeError\u001b[0m                                 Traceback (most recent call last)",
      "\u001b[0;32m<ipython-input-22-bf5e5148db66>\u001b[0m in \u001b[0;36m<module>\u001b[0;34m()\u001b[0m\n\u001b[1;32m      1\u001b[0m \u001b[0;31m# ERROR: Los `str` son inmutables\u001b[0m\u001b[0;34m\u001b[0m\u001b[0;34m\u001b[0m\u001b[0;34m\u001b[0m\u001b[0m\n\u001b[0;32m----> 2\u001b[0;31m \u001b[0mnombre\u001b[0m\u001b[0;34m[\u001b[0m\u001b[0;36m0\u001b[0m\u001b[0;34m]\u001b[0m \u001b[0;34m=\u001b[0m \u001b[0;34m'c'\u001b[0m\u001b[0;34m\u001b[0m\u001b[0;34m\u001b[0m\u001b[0m\n\u001b[0m",
      "\u001b[0;31mTypeError\u001b[0m: 'str' object does not support item assignment"
     ]
    }
   ],
   "source": [
    "# ERROR: Los `str` son inmutables\n",
    "nombre[0] = 'c'"
   ]
  },
  {
   "cell_type": "markdown",
   "metadata": {
    "id": "PFDb9yeJA24f"
   },
   "source": [
    "### Boolean"
   ]
  },
  {
   "cell_type": "code",
   "execution_count": null,
   "metadata": {
    "id": "qErPoimjA24f"
   },
   "outputs": [],
   "source": [
    "green = True\n",
    "red = False\n",
    "yellow = False"
   ]
  },
  {
   "cell_type": "code",
   "execution_count": null,
   "metadata": {
    "colab": {
     "base_uri": "https://localhost:8080/"
    },
    "executionInfo": {
     "elapsed": 5,
     "status": "ok",
     "timestamp": 1645751361965,
     "user": {
      "displayName": "Camilo Gaitán",
      "photoUrl": "https://lh3.googleusercontent.com/a-/AOh14GjQXA_8SBdYbwOxYFqQvQwm4FZW3oL3Gx0J0uabLLU=s64",
      "userId": "02535021554495643434"
     },
     "user_tz": 300
    },
    "id": "WrBKhyoVA24g",
    "outputId": "927539e7-cec1-47eb-f361-a8e194f91633"
   },
   "outputs": [
    {
     "data": {
      "text/plain": [
       "True"
      ]
     },
     "execution_count": 66,
     "metadata": {},
     "output_type": "execute_result"
    }
   ],
   "source": [
    "green"
   ]
  },
  {
   "cell_type": "markdown",
   "metadata": {
    "id": "4voqOdpQA24g"
   },
   "source": [
    "Para conocer cuáles métodos tiene disponible una variable u objeto, se puede utilizar la función `dir`, p.e:"
   ]
  },
  {
   "cell_type": "markdown",
   "metadata": {
    "id": "3WXzfzpiA24g"
   },
   "source": [
    "---\n",
    "\n",
    "## Operadores\n",
    "\n",
    "En este apartado se muestran los principales operadores de Python. Con ellos se pueden relacionar o comparar variables."
   ]
  },
  {
   "cell_type": "markdown",
   "metadata": {
    "id": "C1xyszDpA24g"
   },
   "source": [
    "### Operadores Aritméticos\n",
    "\n",
    "Los operadores aritméticos sirven principalmente para los tipos de datos numéricos, si bien tienen algunas utilidades con otros tipos de datos como listas o cadenas de caracteres.\n",
    "\n",
    "- **Adición** (también para cadenas de caracteres, tuplas, y concatenación de listas): `a + b`\n",
    "- **Sustracción** (también para complementos de conjunto): `a - b`\n",
    "- **Multiplicación** (también para cadenas de caracteres, tuplas, y replicación de listas): `a * b`\n",
    "- **División**: `a / b`\n",
    "- **División entera truncada** : `a // b`\n",
    "- **Módulo o residuo de la división**: `a % b`\n",
    "- **Exponeciación**: `a ** b`\n",
    "- **Asignación**: `=`, `-=`, `+=`, `/=`, `*=`, `%=`, `//=`, `**=`\n"
   ]
  },
  {
   "cell_type": "code",
   "execution_count": null,
   "metadata": {
    "colab": {
     "base_uri": "https://localhost:8080/"
    },
    "executionInfo": {
     "elapsed": 260,
     "status": "ok",
     "timestamp": 1645751672940,
     "user": {
      "displayName": "Camilo Gaitán",
      "photoUrl": "https://lh3.googleusercontent.com/a-/AOh14GjQXA_8SBdYbwOxYFqQvQwm4FZW3oL3Gx0J0uabLLU=s64",
      "userId": "02535021554495643434"
     },
     "user_tz": 300
    },
    "id": "QVCGGKbsA24h",
    "outputId": "c6b0e5fc-cfb0-4460-98d5-56f6b1e18b23"
   },
   "outputs": [
    {
     "data": {
      "text/plain": [
       "2"
      ]
     },
     "execution_count": 69,
     "metadata": {},
     "output_type": "execute_result"
    }
   ],
   "source": [
    "## Tradicional\n",
    "a = 5\n",
    "a = a // 2\n",
    "a"
   ]
  },
  {
   "cell_type": "code",
   "execution_count": null,
   "metadata": {
    "colab": {
     "base_uri": "https://localhost:8080/"
    },
    "executionInfo": {
     "elapsed": 219,
     "status": "ok",
     "timestamp": 1645752231055,
     "user": {
      "displayName": "Camilo Gaitán",
      "photoUrl": "https://lh3.googleusercontent.com/a-/AOh14GjQXA_8SBdYbwOxYFqQvQwm4FZW3oL3Gx0J0uabLLU=s64",
      "userId": "02535021554495643434"
     },
     "user_tz": 300
    },
    "id": "phXSnzS4A24h",
    "outputId": "8b50c133-bfc4-4c78-84b2-ca3668664516"
   },
   "outputs": [
    {
     "data": {
      "text/plain": [
       "2"
      ]
     },
     "execution_count": 78,
     "metadata": {},
     "output_type": "execute_result"
    }
   ],
   "source": [
    "## Resumida\n",
    "x= 5\n",
    "y= 2\n",
    "\n",
    "\n"
   ]
  },
  {
   "cell_type": "code",
   "execution_count": null,
   "metadata": {
    "colab": {
     "base_uri": "https://localhost:8080/"
    },
    "executionInfo": {
     "elapsed": 232,
     "status": "ok",
     "timestamp": 1645751684143,
     "user": {
      "displayName": "Camilo Gaitán",
      "photoUrl": "https://lh3.googleusercontent.com/a-/AOh14GjQXA_8SBdYbwOxYFqQvQwm4FZW3oL3Gx0J0uabLLU=s64",
      "userId": "02535021554495643434"
     },
     "user_tz": 300
    },
    "id": "ZgXUZEV_A24h",
    "outputId": "dca1933e-229f-4ef0-d514-92e29d5ba267"
   },
   "outputs": [
    {
     "data": {
      "text/plain": [
       "1"
      ]
     },
     "execution_count": 70,
     "metadata": {},
     "output_type": "execute_result"
    }
   ],
   "source": [
    "x = 25\n",
    "x %= 4\n",
    "x"
   ]
  },
  {
   "cell_type": "code",
   "execution_count": null,
   "metadata": {
    "id": "1oUZZVHbA24h",
    "outputId": "d6abe2c3-b69f-4c91-b89c-f8cc3bf6cd52"
   },
   "outputs": [
    {
     "data": {
      "text/plain": [
       "1"
      ]
     },
     "execution_count": 91,
     "metadata": {},
     "output_type": "execute_result"
    }
   ],
   "source": [
    "x = 25 - (6*4)\n",
    "x"
   ]
  },
  {
   "cell_type": "markdown",
   "metadata": {
    "id": "vTGx-QlKA24i"
   },
   "source": [
    "#### Suma ' + '"
   ]
  },
  {
   "cell_type": "code",
   "execution_count": null,
   "metadata": {
    "id": "DUONG2uQA24i",
    "outputId": "030d2696-a181-487f-a5a3-f59d396478f9"
   },
   "outputs": [
    {
     "data": {
      "text/plain": [
       "6"
      ]
     },
     "execution_count": 92,
     "metadata": {},
     "output_type": "execute_result"
    }
   ],
   "source": [
    " 2 + 4"
   ]
  },
  {
   "cell_type": "markdown",
   "metadata": {
    "id": "tOWEut47A24i"
   },
   "source": [
    "El operador '+' también se puede utilizar para concatenar cadenas de caracteres (strings), p.e:"
   ]
  },
  {
   "cell_type": "code",
   "execution_count": null,
   "metadata": {
    "id": "m0Q0Xw8IA24i"
   },
   "outputs": [],
   "source": [
    "nombre = 'Andrés Camilo'\n",
    "apellido = \"Díaz\""
   ]
  },
  {
   "cell_type": "code",
   "execution_count": null,
   "metadata": {
    "id": "keyZ-dMHA24j",
    "outputId": "c2a3b1b4-e676-4fb4-e4d6-5ce827f74e91"
   },
   "outputs": [
    {
     "data": {
      "text/plain": [
       "'Andrés Camilo Gaitán Díaz'"
      ]
     },
     "execution_count": 43,
     "metadata": {},
     "output_type": "execute_result"
    }
   ],
   "source": [
    "nombre + ' Gaitán ' + apellido"
   ]
  },
  {
   "cell_type": "markdown",
   "metadata": {
    "id": "nlNC3MGKA24j"
   },
   "source": [
    "#### Resta ' - '"
   ]
  },
  {
   "cell_type": "code",
   "execution_count": null,
   "metadata": {
    "id": "-xLrbu47A24j",
    "outputId": "4d7e6623-a83e-4d06-c98d-a107e75ceafb"
   },
   "outputs": [
    {
     "data": {
      "text/plain": [
       "10.0"
      ]
     },
     "execution_count": 95,
     "metadata": {},
     "output_type": "execute_result"
    }
   ],
   "source": [
    "10.5 - 0.5"
   ]
  },
  {
   "cell_type": "code",
   "execution_count": null,
   "metadata": {
    "id": "kKvR5uScA24j",
    "outputId": "a7fc40ef-3206-4fd7-9a9b-f60de50701ba"
   },
   "outputs": [
    {
     "ename": "TypeError",
     "evalue": "unsupported operand type(s) for -: 'str' and 'str'",
     "output_type": "error",
     "traceback": [
      "\u001b[1;31m---------------------------------------------------------------------------\u001b[0m",
      "\u001b[1;31mTypeError\u001b[0m                                 Traceback (most recent call last)",
      "\u001b[1;32m<ipython-input-44-7b177de5bfc5>\u001b[0m in \u001b[0;36m<module>\u001b[1;34m\u001b[0m\n\u001b[1;32m----> 1\u001b[1;33m \u001b[0mnombre\u001b[0m \u001b[1;33m-\u001b[0m \u001b[0mapellido\u001b[0m\u001b[1;33m\u001b[0m\u001b[1;33m\u001b[0m\u001b[0m\n\u001b[0m",
      "\u001b[1;31mTypeError\u001b[0m: unsupported operand type(s) for -: 'str' and 'str'"
     ]
    }
   ],
   "source": [
    "nombre - apellido"
   ]
  },
  {
   "cell_type": "markdown",
   "metadata": {
    "id": "tyDqzpNyA24k"
   },
   "source": [
    "#### Multiplicación ' * '"
   ]
  },
  {
   "cell_type": "code",
   "execution_count": null,
   "metadata": {
    "id": "l6Lu3tnBA24k",
    "outputId": "bfe7e318-5c57-4409-844d-c2ac3225d1b7"
   },
   "outputs": [
    {
     "data": {
      "text/plain": [
       "9.2"
      ]
     },
     "execution_count": 97,
     "metadata": {},
     "output_type": "execute_result"
    }
   ],
   "source": [
    "2.3 * 4"
   ]
  },
  {
   "cell_type": "code",
   "execution_count": null,
   "metadata": {
    "id": "In156j_-A24k",
    "outputId": "b8d94d03-b75b-4ec3-f07a-836d65f34922"
   },
   "outputs": [
    {
     "data": {
      "text/plain": [
       "'NaNaNaNaNaNaNaNaNaNaNaNaNaNaNaNaNaNaNaNaNaNaNaNaNaNaNaNaNaNaNaNa Batman!'"
      ]
     },
     "execution_count": 45,
     "metadata": {},
     "output_type": "execute_result"
    }
   ],
   "source": [
    "('NaNa'*16 + ' Batman!')"
   ]
  },
  {
   "cell_type": "markdown",
   "metadata": {
    "id": "vQ1m2SeSA24l"
   },
   "source": [
    "#### División ' / '\n",
    "\n",
    "En la versión de Python 2.7, el operador ' / ' implementa por defecto la división entera.\n",
    "En Python 3.X esto ha cambiado, y el operador '/ ' corresponde a división decimal por defecto."
   ]
  },
  {
   "cell_type": "code",
   "execution_count": null,
   "metadata": {
    "id": "9t8mw8g-A24l",
    "outputId": "b4ec9908-4c7d-4a6e-9f5c-48535123023d"
   },
   "outputs": [
    {
     "name": "stdout",
     "output_type": "stream",
     "text": [
      "<class 'float'> 5.0\n"
     ]
    }
   ],
   "source": [
    "div =  10 / 2\n",
    "print(type(div), div)"
   ]
  },
  {
   "cell_type": "code",
   "execution_count": null,
   "metadata": {
    "id": "k9x9nc2VA24l",
    "outputId": "43f70d21-4eac-4e27-b715-e040fb4cf62a"
   },
   "outputs": [
    {
     "name": "stdout",
     "output_type": "stream",
     "text": [
      "<class 'float'> 2.5\n"
     ]
    }
   ],
   "source": [
    "div = 10 / 4\n",
    "print(type(div), div)"
   ]
  },
  {
   "cell_type": "code",
   "execution_count": null,
   "metadata": {
    "id": "Nux3B8ZFA24m",
    "outputId": "dd3f290e-3b9c-4e1a-dcaa-e971aac8cbb3",
    "scrolled": true
   },
   "outputs": [
    {
     "name": "stdout",
     "output_type": "stream",
     "text": [
      "<class 'float'> 2.5\n"
     ]
    }
   ],
   "source": [
    "div = 10 / float(4)\n",
    "print(type(div), div)"
   ]
  },
  {
   "cell_type": "code",
   "execution_count": null,
   "metadata": {
    "id": "oBXcVwCaA24m",
    "outputId": "b58c7215-9f1e-438b-8e28-1330248286a7"
   },
   "outputs": [
    {
     "name": "stdout",
     "output_type": "stream",
     "text": [
      "<class 'float'> 2.5\n"
     ]
    }
   ],
   "source": [
    "div = 10 / 4.0\n",
    "print(type(div), div)"
   ]
  },
  {
   "cell_type": "code",
   "execution_count": null,
   "metadata": {
    "id": "UMjlqdibA24m",
    "outputId": "511b99d7-40c1-48ec-d4c3-551f7eec57fb"
   },
   "outputs": [
    {
     "name": "stdout",
     "output_type": "stream",
     "text": [
      "3.3333333333333335\n"
     ]
    }
   ],
   "source": [
    "div = 10. / 3.0\n",
    "print(div)"
   ]
  },
  {
   "cell_type": "markdown",
   "metadata": {
    "id": "wfVbAbukA24m"
   },
   "source": [
    "#### Modulo ' % '"
   ]
  },
  {
   "cell_type": "code",
   "execution_count": null,
   "metadata": {
    "id": "kIxeEVpBA24n",
    "outputId": "ccf98ab3-fccb-44aa-ff4a-875462da2edc"
   },
   "outputs": [
    {
     "data": {
      "text/plain": [
       "1"
      ]
     },
     "execution_count": 104,
     "metadata": {},
     "output_type": "execute_result"
    }
   ],
   "source": [
    "10 % 3"
   ]
  },
  {
   "cell_type": "markdown",
   "metadata": {
    "id": "ogGEBHzjA24n"
   },
   "source": [
    "#### Exponenciación ' ** '"
   ]
  },
  {
   "cell_type": "code",
   "execution_count": null,
   "metadata": {
    "id": "63p4xJV9A24n",
    "outputId": "ecd1641a-9e90-4f4b-d645-aedd0dbf3459"
   },
   "outputs": [
    {
     "data": {
      "text/plain": [
       "27"
      ]
     },
     "execution_count": 105,
     "metadata": {},
     "output_type": "execute_result"
    }
   ],
   "source": [
    "3**3"
   ]
  },
  {
   "cell_type": "markdown",
   "metadata": {
    "id": "LtRsKnHCA24n"
   },
   "source": [
    "### Operadores Booleanos\n",
    "\n",
    "- **Operadores Booleanos**: `and`, `or`, `not`\n",
    "- **Operadores de comparación**: `==`, `!=`, `<`, `>`, `<=`, `>=`\n",
    "- **Operadores de pertenencia**: `in`, `not in`\n",
    "- **Operadores de identidad**: `is`, `is not`"
   ]
  },
  {
   "cell_type": "code",
   "execution_count": 1,
   "metadata": {
    "colab": {
     "base_uri": "https://localhost:8080/"
    },
    "executionInfo": {
     "elapsed": 307,
     "status": "ok",
     "timestamp": 1659628466446,
     "user": {
      "displayName": "Camilo Gaitán",
      "userId": "02535021554495643434"
     },
     "user_tz": 300
    },
    "id": "k9b9aGRuA24o",
    "outputId": "8d399377-5369-4b8a-ecba-c27b0609e50c"
   },
   "outputs": [
    {
     "data": {
      "text/plain": [
       "7"
      ]
     },
     "execution_count": 1,
     "metadata": {},
     "output_type": "execute_result"
    }
   ],
   "source": [
    "x = 7\n",
    "x"
   ]
  },
  {
   "cell_type": "code",
   "execution_count": 2,
   "metadata": {
    "colab": {
     "base_uri": "https://localhost:8080/"
    },
    "executionInfo": {
     "elapsed": 12,
     "status": "ok",
     "timestamp": 1659628466447,
     "user": {
      "displayName": "Camilo Gaitán",
      "userId": "02535021554495643434"
     },
     "user_tz": 300
    },
    "id": "7IizgviGA24o",
    "outputId": "8a5be110-bf57-49ad-c9a0-2eaf053fbeb6"
   },
   "outputs": [
    {
     "data": {
      "text/plain": [
       "False"
      ]
     },
     "execution_count": 2,
     "metadata": {},
     "output_type": "execute_result"
    }
   ],
   "source": [
    "x == 5"
   ]
  },
  {
   "cell_type": "markdown",
   "metadata": {
    "id": "174eJR0CA24o"
   },
   "source": [
    "#### Operadores and, or, not"
   ]
  },
  {
   "cell_type": "code",
   "execution_count": 3,
   "metadata": {
    "colab": {
     "base_uri": "https://localhost:8080/"
    },
    "executionInfo": {
     "elapsed": 10,
     "status": "ok",
     "timestamp": 1659628466447,
     "user": {
      "displayName": "Camilo Gaitán",
      "userId": "02535021554495643434"
     },
     "user_tz": 300
    },
    "id": "hwkJG2bIA24p",
    "outputId": "4cb51c7f-1365-45d4-bdd2-00e4f42bccdc"
   },
   "outputs": [
    {
     "data": {
      "text/plain": [
       "False"
      ]
     },
     "execution_count": 3,
     "metadata": {},
     "output_type": "execute_result"
    }
   ],
   "source": [
    "True and False"
   ]
  },
  {
   "cell_type": "code",
   "execution_count": 4,
   "metadata": {
    "colab": {
     "base_uri": "https://localhost:8080/"
    },
    "executionInfo": {
     "elapsed": 9,
     "status": "ok",
     "timestamp": 1659628466448,
     "user": {
      "displayName": "Camilo Gaitán",
      "userId": "02535021554495643434"
     },
     "user_tz": 300
    },
    "id": "G8xMDwSEA24p",
    "outputId": "3b0b4f56-8fe9-49ad-b13d-8aa84a813923"
   },
   "outputs": [
    {
     "data": {
      "text/plain": [
       "True"
      ]
     },
     "execution_count": 4,
     "metadata": {},
     "output_type": "execute_result"
    }
   ],
   "source": [
    "True or False"
   ]
  },
  {
   "cell_type": "code",
   "execution_count": 5,
   "metadata": {
    "colab": {
     "base_uri": "https://localhost:8080/"
    },
    "executionInfo": {
     "elapsed": 7,
     "status": "ok",
     "timestamp": 1659628466448,
     "user": {
      "displayName": "Camilo Gaitán",
      "userId": "02535021554495643434"
     },
     "user_tz": 300
    },
    "id": "_YaYYfXtA24p",
    "outputId": "9af63563-490b-4a8b-aa7e-574fec432a75"
   },
   "outputs": [
    {
     "data": {
      "text/plain": [
       "False"
      ]
     },
     "execution_count": 5,
     "metadata": {},
     "output_type": "execute_result"
    }
   ],
   "source": [
    "not True"
   ]
  },
  {
   "cell_type": "markdown",
   "metadata": {
    "id": "IlQ-RZo9A24p"
   },
   "source": [
    "#### Operadores de comparación "
   ]
  },
  {
   "cell_type": "code",
   "execution_count": 6,
   "metadata": {
    "colab": {
     "base_uri": "https://localhost:8080/"
    },
    "executionInfo": {
     "elapsed": 14,
     "status": "ok",
     "timestamp": 1659628466706,
     "user": {
      "displayName": "Camilo Gaitán",
      "userId": "02535021554495643434"
     },
     "user_tz": 300
    },
    "id": "bDcAtq15A24q",
    "outputId": "6dcd4e71-27ac-468d-9012-5e5263afe45c"
   },
   "outputs": [
    {
     "data": {
      "text/plain": [
       "True"
      ]
     },
     "execution_count": 6,
     "metadata": {},
     "output_type": "execute_result"
    }
   ],
   "source": [
    "2 == 2 # igualdad"
   ]
  },
  {
   "cell_type": "code",
   "execution_count": 7,
   "metadata": {
    "colab": {
     "base_uri": "https://localhost:8080/"
    },
    "executionInfo": {
     "elapsed": 12,
     "status": "ok",
     "timestamp": 1659628466706,
     "user": {
      "displayName": "Camilo Gaitán",
      "userId": "02535021554495643434"
     },
     "user_tz": 300
    },
    "id": "ubAvu2inA24q",
    "outputId": "4cbb988a-ea5e-429d-9d2f-f33ecbaf8388"
   },
   "outputs": [
    {
     "data": {
      "text/plain": [
       "False"
      ]
     },
     "execution_count": 7,
     "metadata": {},
     "output_type": "execute_result"
    }
   ],
   "source": [
    "2 != 2 # desigualdad "
   ]
  },
  {
   "cell_type": "code",
   "execution_count": 8,
   "metadata": {
    "colab": {
     "base_uri": "https://localhost:8080/"
    },
    "executionInfo": {
     "elapsed": 11,
     "status": "ok",
     "timestamp": 1659628466706,
     "user": {
      "displayName": "Camilo Gaitán",
      "userId": "02535021554495643434"
     },
     "user_tz": 300
    },
    "id": "Ns1Gj4_zA24q",
    "outputId": "3c5acec1-9f28-49f2-ae6b-250b2be5e9bf"
   },
   "outputs": [
    {
     "data": {
      "text/plain": [
       "False"
      ]
     },
     "execution_count": 8,
     "metadata": {},
     "output_type": "execute_result"
    }
   ],
   "source": [
    "2 > 3 # mayor que"
   ]
  },
  {
   "cell_type": "code",
   "execution_count": 9,
   "metadata": {
    "colab": {
     "base_uri": "https://localhost:8080/"
    },
    "executionInfo": {
     "elapsed": 10,
     "status": "ok",
     "timestamp": 1659628466707,
     "user": {
      "displayName": "Camilo Gaitán",
      "userId": "02535021554495643434"
     },
     "user_tz": 300
    },
    "id": "iy1JknYHA24q",
    "outputId": "3c3b4517-b94d-456e-8fbd-65216a298662"
   },
   "outputs": [
    {
     "data": {
      "text/plain": [
       "True"
      ]
     },
     "execution_count": 9,
     "metadata": {},
     "output_type": "execute_result"
    }
   ],
   "source": [
    "2 < 3 # menor que"
   ]
  },
  {
   "cell_type": "code",
   "execution_count": 10,
   "metadata": {
    "colab": {
     "base_uri": "https://localhost:8080/"
    },
    "executionInfo": {
     "elapsed": 9,
     "status": "ok",
     "timestamp": 1659628466707,
     "user": {
      "displayName": "Camilo Gaitán",
      "userId": "02535021554495643434"
     },
     "user_tz": 300
    },
    "id": "jsK5o34RA24r",
    "outputId": "cdb352d9-cfea-4d18-a1a8-863303108c74"
   },
   "outputs": [
    {
     "data": {
      "text/plain": [
       "True"
      ]
     },
     "execution_count": 10,
     "metadata": {},
     "output_type": "execute_result"
    }
   ],
   "source": [
    "2 <= 2 # menor o igual que"
   ]
  },
  {
   "cell_type": "code",
   "execution_count": 11,
   "metadata": {
    "colab": {
     "base_uri": "https://localhost:8080/"
    },
    "executionInfo": {
     "elapsed": 8,
     "status": "ok",
     "timestamp": 1659628466707,
     "user": {
      "displayName": "Camilo Gaitán",
      "userId": "02535021554495643434"
     },
     "user_tz": 300
    },
    "id": "v2v676W-A24r",
    "outputId": "19372c33-598c-4da6-f242-3c08ec3e15a6"
   },
   "outputs": [
    {
     "data": {
      "text/plain": [
       "False"
      ]
     },
     "execution_count": 11,
     "metadata": {},
     "output_type": "execute_result"
    }
   ],
   "source": [
    "2 >= 3 # mayor o igual que"
   ]
  },
  {
   "cell_type": "markdown",
   "metadata": {
    "id": "MARwH1ogA24r"
   },
   "source": [
    "#### Operadores de pertenencia\n",
    "\n",
    "Estos operadores verifican si un dato pertenece a una secuencia, como cadenas de caracteres, listas, o tuplas."
   ]
  },
  {
   "cell_type": "code",
   "execution_count": 12,
   "metadata": {
    "colab": {
     "base_uri": "https://localhost:8080/"
    },
    "executionInfo": {
     "elapsed": 8,
     "status": "ok",
     "timestamp": 1659628466708,
     "user": {
      "displayName": "Camilo Gaitán",
      "userId": "02535021554495643434"
     },
     "user_tz": 300
    },
    "id": "QBiGztPlA24r",
    "outputId": "2b6f1967-8798-4ad3-d09c-4cebc07afcd0"
   },
   "outputs": [
    {
     "data": {
      "text/plain": [
       "True"
      ]
     },
     "execution_count": 12,
     "metadata": {},
     "output_type": "execute_result"
    }
   ],
   "source": [
    "'a' in 'casa'"
   ]
  },
  {
   "cell_type": "code",
   "execution_count": 13,
   "metadata": {
    "colab": {
     "base_uri": "https://localhost:8080/"
    },
    "executionInfo": {
     "elapsed": 8,
     "status": "ok",
     "timestamp": 1659628466708,
     "user": {
      "displayName": "Camilo Gaitán",
      "userId": "02535021554495643434"
     },
     "user_tz": 300
    },
    "id": "oClYI_6SA24s",
    "outputId": "2a9f1770-3f3a-44bd-adde-f8c6e0804f1f"
   },
   "outputs": [
    {
     "data": {
      "text/plain": [
       "False"
      ]
     },
     "execution_count": 13,
     "metadata": {},
     "output_type": "execute_result"
    }
   ],
   "source": [
    "'aa' in 'casa'"
   ]
  },
  {
   "cell_type": "code",
   "execution_count": 14,
   "metadata": {
    "colab": {
     "base_uri": "https://localhost:8080/"
    },
    "executionInfo": {
     "elapsed": 7,
     "status": "ok",
     "timestamp": 1659628466708,
     "user": {
      "displayName": "Camilo Gaitán",
      "userId": "02535021554495643434"
     },
     "user_tz": 300
    },
    "id": "LB-m7iVwA24s",
    "outputId": "194f6d0d-988a-401d-c9a5-e2747299f48d"
   },
   "outputs": [
    {
     "data": {
      "text/plain": [
       "False"
      ]
     },
     "execution_count": 14,
     "metadata": {},
     "output_type": "execute_result"
    }
   ],
   "source": [
    "'b' not in 'tambor'"
   ]
  },
  {
   "cell_type": "markdown",
   "metadata": {
    "id": "h0S8ovTtA24s"
   },
   "source": [
    "#### Operadores de identidad\n",
    "\n",
    "Los operadores de identidad comparan la dirección de memoria de dos objetos."
   ]
  },
  {
   "cell_type": "code",
   "execution_count": 15,
   "metadata": {
    "executionInfo": {
     "elapsed": 7,
     "status": "ok",
     "timestamp": 1659628466708,
     "user": {
      "displayName": "Camilo Gaitán",
      "userId": "02535021554495643434"
     },
     "user_tz": 300
    },
    "id": "mb5NiLEZA24s"
   },
   "outputs": [],
   "source": [
    "a = 'casa'\n",
    "b = 'perro'"
   ]
  },
  {
   "cell_type": "code",
   "execution_count": 16,
   "metadata": {
    "colab": {
     "base_uri": "https://localhost:8080/"
    },
    "executionInfo": {
     "elapsed": 8,
     "status": "ok",
     "timestamp": 1659628466708,
     "user": {
      "displayName": "Camilo Gaitán",
      "userId": "02535021554495643434"
     },
     "user_tz": 300
    },
    "id": "x6yMFKvJA24t",
    "outputId": "465f1b18-ae4f-4237-b875-6e3e352ae8e0"
   },
   "outputs": [
    {
     "data": {
      "text/plain": [
       "False"
      ]
     },
     "execution_count": 16,
     "metadata": {},
     "output_type": "execute_result"
    }
   ],
   "source": [
    "a is b"
   ]
  },
  {
   "cell_type": "code",
   "execution_count": 17,
   "metadata": {
    "colab": {
     "base_uri": "https://localhost:8080/"
    },
    "executionInfo": {
     "elapsed": 7,
     "status": "ok",
     "timestamp": 1659628466709,
     "user": {
      "displayName": "Camilo Gaitán",
      "userId": "02535021554495643434"
     },
     "user_tz": 300
    },
    "id": "eaOexjtDA24t",
    "outputId": "b294d624-fc0e-4502-9b68-6162871ffe6c"
   },
   "outputs": [
    {
     "data": {
      "text/plain": [
       "140100931201136"
      ]
     },
     "execution_count": 17,
     "metadata": {},
     "output_type": "execute_result"
    }
   ],
   "source": [
    "id(b)"
   ]
  },
  {
   "cell_type": "code",
   "execution_count": 18,
   "metadata": {
    "colab": {
     "base_uri": "https://localhost:8080/"
    },
    "executionInfo": {
     "elapsed": 7,
     "status": "ok",
     "timestamp": 1659628466709,
     "user": {
      "displayName": "Camilo Gaitán",
      "userId": "02535021554495643434"
     },
     "user_tz": 300
    },
    "id": "Om-s3xttA24t",
    "outputId": "2f0e3c85-cb5f-4bf6-bd1f-0b53ca1b8701"
   },
   "outputs": [
    {
     "data": {
      "text/plain": [
       "140100931201136"
      ]
     },
     "execution_count": 18,
     "metadata": {},
     "output_type": "execute_result"
    }
   ],
   "source": [
    "a = 'perro'\n",
    "id(a)"
   ]
  },
  {
   "cell_type": "code",
   "execution_count": 19,
   "metadata": {
    "colab": {
     "base_uri": "https://localhost:8080/"
    },
    "executionInfo": {
     "elapsed": 225,
     "status": "ok",
     "timestamp": 1659628466927,
     "user": {
      "displayName": "Camilo Gaitán",
      "userId": "02535021554495643434"
     },
     "user_tz": 300
    },
    "id": "WtgGCmlEA24t",
    "outputId": "2c85ca43-6774-4971-a943-f1a5ce32e1aa"
   },
   "outputs": [
    {
     "data": {
      "text/plain": [
       "True"
      ]
     },
     "execution_count": 19,
     "metadata": {},
     "output_type": "execute_result"
    }
   ],
   "source": [
    "a is b"
   ]
  },
  {
   "cell_type": "code",
   "execution_count": 20,
   "metadata": {
    "colab": {
     "base_uri": "https://localhost:8080/"
    },
    "executionInfo": {
     "elapsed": 7,
     "status": "ok",
     "timestamp": 1659628466928,
     "user": {
      "displayName": "Camilo Gaitán",
      "userId": "02535021554495643434"
     },
     "user_tz": 300
    },
    "id": "UM-3E0PzA24u",
    "outputId": "da58da10-011c-4f02-809b-59465fb748c4"
   },
   "outputs": [
    {
     "data": {
      "text/plain": [
       "False"
      ]
     },
     "execution_count": 20,
     "metadata": {},
     "output_type": "execute_result"
    }
   ],
   "source": [
    "a is not b"
   ]
  },
  {
   "cell_type": "code",
   "execution_count": 21,
   "metadata": {
    "colab": {
     "base_uri": "https://localhost:8080/"
    },
    "executionInfo": {
     "elapsed": 6,
     "status": "ok",
     "timestamp": 1659628466928,
     "user": {
      "displayName": "Camilo Gaitán",
      "userId": "02535021554495643434"
     },
     "user_tz": 300
    },
    "id": "5vzFV8AHA24u",
    "outputId": "a88d7a56-b11d-4891-f2ff-01e01942f6aa"
   },
   "outputs": [
    {
     "name": "stdout",
     "output_type": "stream",
     "text": [
      "140100931201136 140100931201136\n"
     ]
    }
   ],
   "source": [
    "print(id(a), id(b))"
   ]
  },
  {
   "cell_type": "code",
   "execution_count": 22,
   "metadata": {
    "colab": {
     "base_uri": "https://localhost:8080/"
    },
    "executionInfo": {
     "elapsed": 6,
     "status": "ok",
     "timestamp": 1659628466928,
     "user": {
      "displayName": "Camilo Gaitán",
      "userId": "02535021554495643434"
     },
     "user_tz": 300
    },
    "id": "anEWs7G5A24u",
    "outputId": "e309b2f2-004e-4a2d-a55c-afcfec819081"
   },
   "outputs": [
    {
     "data": {
      "text/plain": [
       "True"
      ]
     },
     "execution_count": 22,
     "metadata": {},
     "output_type": "execute_result"
    }
   ],
   "source": [
    "a = 'casa'\n",
    "b = 'casa'\n",
    "a is b"
   ]
  },
  {
   "cell_type": "code",
   "execution_count": 23,
   "metadata": {
    "colab": {
     "base_uri": "https://localhost:8080/"
    },
    "executionInfo": {
     "elapsed": 5,
     "status": "ok",
     "timestamp": 1659628466928,
     "user": {
      "displayName": "Camilo Gaitán",
      "userId": "02535021554495643434"
     },
     "user_tz": 300
    },
    "id": "bPhEUs6JA24u",
    "outputId": "81fc2119-8fa0-4478-adf7-0c7586a5e255"
   },
   "outputs": [
    {
     "data": {
      "text/plain": [
       "(140100992527216, 140100992527216)"
      ]
     },
     "execution_count": 23,
     "metadata": {},
     "output_type": "execute_result"
    }
   ],
   "source": [
    "id(a), id(b)"
   ]
  },
  {
   "cell_type": "markdown",
   "metadata": {
    "id": "Y2S9iwADA24v"
   },
   "source": []
  },
  {
   "cell_type": "markdown",
   "metadata": {
    "id": "MjJ2a4eiA24v"
   },
   "source": [
    "<div class=\"alert alert-info\">**Nota**: Como vemos, Python está reutilizando el mismo objeto en memoria al asignárselo a `b`, ya que `a` y `b` apuntan al mismo objeto en memoria. Sin embargo, esto no ocurre en todos los casos. Veamos un ejemplo similar:</div>"
   ]
  },
  {
   "cell_type": "code",
   "execution_count": 24,
   "metadata": {
    "colab": {
     "base_uri": "https://localhost:8080/"
    },
    "executionInfo": {
     "elapsed": 5,
     "status": "ok",
     "timestamp": 1659628466928,
     "user": {
      "displayName": "Camilo Gaitán",
      "userId": "02535021554495643434"
     },
     "user_tz": 300
    },
    "id": "biNiUeV1A24v",
    "outputId": "54f65ac3-eef6-435a-e322-e3d1fdbf8c28"
   },
   "outputs": [
    {
     "data": {
      "text/plain": [
       "True"
      ]
     },
     "execution_count": 24,
     "metadata": {},
     "output_type": "execute_result"
    }
   ],
   "source": [
    "a = \"Supercalifragilísticoespialidoso\"\n",
    "b = \"Supercalifragilísticoespialidoso\"\n",
    "a == b"
   ]
  },
  {
   "cell_type": "code",
   "execution_count": 25,
   "metadata": {
    "colab": {
     "base_uri": "https://localhost:8080/"
    },
    "executionInfo": {
     "elapsed": 5,
     "status": "ok",
     "timestamp": 1659628466929,
     "user": {
      "displayName": "Camilo Gaitán",
      "userId": "02535021554495643434"
     },
     "user_tz": 300
    },
    "id": "3wcxPRtGA24v",
    "outputId": "c34efc02-c565-4479-ce63-8fe4047c4149"
   },
   "outputs": [
    {
     "data": {
      "text/plain": [
       "False"
      ]
     },
     "execution_count": 25,
     "metadata": {},
     "output_type": "execute_result"
    }
   ],
   "source": [
    "a is b"
   ]
  },
  {
   "cell_type": "code",
   "execution_count": 26,
   "metadata": {
    "colab": {
     "base_uri": "https://localhost:8080/"
    },
    "executionInfo": {
     "elapsed": 5,
     "status": "ok",
     "timestamp": 1659628466929,
     "user": {
      "displayName": "Camilo Gaitán",
      "userId": "02535021554495643434"
     },
     "user_tz": 300
    },
    "id": "LQKH5V-UA24w",
    "outputId": "f86c4856-74a1-4c5d-ce3e-ab82efd166e1"
   },
   "outputs": [
    {
     "data": {
      "text/plain": [
       "(140100992417664, 140100931227808)"
      ]
     },
     "execution_count": 26,
     "metadata": {},
     "output_type": "execute_result"
    }
   ],
   "source": [
    "id(a), id(b)"
   ]
  },
  {
   "cell_type": "markdown",
   "metadata": {
    "id": "fvW_0t33A24w"
   },
   "source": [
    "¿Qué ha ocurrido aquí? Por qué no ha reutilizado el objeto? Esto se debe al funcionamiento interno de Python y a las decisiones de optimización que toma el intérprete de Python. Lo que sucede es que Python sólo reutiliza objetos pequeños ya que es mucho más eficiente guardarlos en una caché interna que volverlos a generar. Esto sólo ocurre en objetos básicos que cumplan estos reglas:\n",
    "  \n",
    "    Strings (`str`) sin espacios que tengan menos de 20 caracteres\n",
    "    Números enteros (`int`) en el rango -5 a +255"
   ]
  },
  {
   "cell_type": "markdown",
   "metadata": {
    "id": "5Aa9rrWVA24w"
   },
   "source": [
    "### Otros operadores\n",
    "\n",
    "- **Operadores de bit** (or, xor, and, complemento): `|`, `^`, `&`, `~`\n",
    "- **Desplazamiento bit a la izquierda y derecha**: `<<`, `>>`"
   ]
  },
  {
   "cell_type": "markdown",
   "metadata": {
    "id": "9I8610GyA24x"
   },
   "source": [
    "## Ejercicios"
   ]
  },
  {
   "cell_type": "markdown",
   "metadata": {
    "id": "NBzuKuVdA24x"
   },
   "source": [
    "### Ejercicio 1"
   ]
  },
  {
   "cell_type": "markdown",
   "metadata": {
    "id": "uMIKe-hAA24x"
   },
   "source": [
    "Supongamos que tenemos los siguientes datos:\n",
    "\n",
    "- nombre = Maria Gonzalez\n",
    "- edad = 18\n",
    "- direccion = Paseo de la castellana 20, Madrid\n",
    "- pais = España\n",
    "- sueldo_mensual = 1500.65\n",
    "- gastos = 800\n",
    "\n",
    "\n",
    "Escribe código para que, tras guardar los datos en variables, se imprima por pantalla: 'Maria Gonzalez, de 18 años, y domicilio en Paseo de la castellana 20, Madrid, tiene restante de su sueldo tras los gastos 700.65' usando las variables mencionadas, y redondeando el dinero restante a dos decimales"
   ]
  },
  {
   "cell_type": "code",
   "execution_count": null,
   "metadata": {
    "id": "ulZLm7axA24x"
   },
   "outputs": [],
   "source": [
    "# Respuesta"
   ]
  },
  {
   "cell_type": "markdown",
   "metadata": {
    "id": "e30utELFA24y"
   },
   "source": [
    "### Ejercicio 2"
   ]
  },
  {
   "cell_type": "markdown",
   "metadata": {
    "id": "GGT84p4MA24y"
   },
   "source": [
    "Escribe en una línea, código que coja el texto siguiente de la variable txt, le quite los signos de puntuación, y lo deje todo en minúsculas"
   ]
  },
  {
   "cell_type": "code",
   "execution_count": null,
   "metadata": {
    "id": "Wv1kDZW7A24y"
   },
   "outputs": [],
   "source": [
    "txt = u'¿La formación tributa por el IRPF? ¿Y la devolución de la cláusula suelo?  \\\n",
    "¿Qué límites de ventas tiene un autónomo para declarar por estimación objetiva?'"
   ]
  },
  {
   "cell_type": "markdown",
   "metadata": {
    "id": "QgD3o53PA24y"
   },
   "source": [
    "### Ejercicio 3"
   ]
  },
  {
   "cell_type": "markdown",
   "metadata": {
    "id": "Lh5dbaDJA24z"
   },
   "source": [
    "Calcula 11111111111111111111+2222222222222222222 sin escribir los números enteros"
   ]
  },
  {
   "cell_type": "code",
   "execution_count": null,
   "metadata": {
    "id": "df6CyUTIA24z"
   },
   "outputs": [],
   "source": [
    "# Respuesta"
   ]
  },
  {
   "cell_type": "markdown",
   "metadata": {
    "id": "Cql9WTliA24z"
   },
   "source": [
    "### Ejercicio 4"
   ]
  },
  {
   "cell_type": "markdown",
   "metadata": {
    "id": "btURjeeFA24z"
   },
   "source": [
    "Solicita por pantalla que el usuario introduzca un número de segundos. \n",
    "Luego calcula:\n",
    "        1. Número de minutos que es dicho número de segundos introducidos\n",
    "        2. Número de segundos restantes\n",
    "E imprimelo por pantalla.\n",
    "Por ejemplo, si el usuario introduce 90, eso imprimiria 1 minuto y 30 segundos.\n",
    "Pista: ver la función input para leer por pantalla."
   ]
  },
  {
   "cell_type": "code",
   "execution_count": null,
   "metadata": {
    "id": "PZ690nagA24z",
    "outputId": "0fa8256e-9758-46b0-e056-6ca2507aa1b9"
   },
   "outputs": [
    {
     "name": "stdout",
     "output_type": "stream",
     "text": [
      "Introduzca los segundos: 43200\n",
      "43200 segundos son 720 minutos con 0 segundos\n"
     ]
    }
   ],
   "source": [
    "## Respuesta"
   ]
  }
 ],
 "metadata": {
  "anaconda-cloud": {},
  "colab": {
   "collapsed_sections": [
    "FGPv46WaA24R",
    "RmXiiOpyA24a",
    "PFDb9yeJA24f",
    "C1xyszDpA24g",
    "vTGx-QlKA24i",
    "nlNC3MGKA24j",
    "tyDqzpNyA24k",
    "vQ1m2SeSA24l",
    "wfVbAbukA24m",
    "ogGEBHzjA24n",
    "IlQ-RZo9A24p",
    "MARwH1ogA24r",
    "h0S8ovTtA24s",
    "5Aa9rrWVA24w"
   ],
   "name": "02 Tipos de datos y operadores.ipynb",
   "provenance": []
  },
  "kernelspec": {
   "display_name": "Python 3 (ipykernel)",
   "language": "python",
   "name": "python3"
  },
  "language_info": {
   "codemirror_mode": {
    "name": "ipython",
    "version": 3
   },
   "file_extension": ".py",
   "mimetype": "text/x-python",
   "name": "python",
   "nbconvert_exporter": "python",
   "pygments_lexer": "ipython3",
   "version": "3.9.13"
  },
  "toc": {
   "base_numbering": 1,
   "nav_menu": {
    "height": "386px",
    "width": "306px"
   },
   "number_sections": true,
   "sideBar": true,
   "skip_h1_title": false,
   "title_cell": "Table of Contents",
   "title_sidebar": "Contents",
   "toc_cell": true,
   "toc_position": {
    "height": "calc(100% - 180px)",
    "left": "10px",
    "top": "150px",
    "width": "337px"
   },
   "toc_section_display": true,
   "toc_window_display": true
  },
  "varInspector": {
   "cols": {
    "lenName": 16,
    "lenType": 16,
    "lenVar": 40
   },
   "kernels_config": {
    "python": {
     "delete_cmd_postfix": "",
     "delete_cmd_prefix": "del ",
     "library": "var_list.py",
     "varRefreshCmd": "print(var_dic_list())"
    },
    "r": {
     "delete_cmd_postfix": ") ",
     "delete_cmd_prefix": "rm(",
     "library": "var_list.r",
     "varRefreshCmd": "cat(var_dic_list()) "
    }
   },
   "types_to_exclude": [
    "module",
    "function",
    "builtin_function_or_method",
    "instance",
    "_Feature"
   ],
   "window_display": false
  }
 },
 "nbformat": 4,
 "nbformat_minor": 1
}
